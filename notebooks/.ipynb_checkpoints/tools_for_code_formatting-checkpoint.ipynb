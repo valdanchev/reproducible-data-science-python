{
 "cells": [
  {
   "cell_type": "markdown",
   "metadata": {},
   "source": [
    "# Tools for Python code formatting\n",
    "\n",
    "The code in the learning resource is validated against the [PEP 8 style guide for Python code](https://peps.python.org/pep-0008/) by executing two automated code style tools—the automated code formatter [Black](https://github.com/psf/black) and the style guide checker [flake8](https://flake8.pycqa.org/en/latest/)—via [nbQA](https://github.com/nbQA-dev/nbQA). nbQA is a tool for notebook code style that allows you to run standard Python code formatters on a Jupyter notebook. \n",
    "\n",
    "This notebook installs and runs on all notebooks these code style tools."
   ]
  },
  {
   "cell_type": "code",
   "execution_count": 1,
   "metadata": {},
   "outputs": [],
   "source": [
    "# Install code quality tools\n",
    "!pip install -U nbqa black flake8\n",
    "\n",
    "# Run black on all notebooks in a folder \n",
    "!nbqa black ../notebooks/*.ipynb"
   ]
  },
  {
   "cell_type": "code",
   "execution_count": 2,
   "metadata": {},
   "outputs": [],
   "source": [
    "# Run flake8 on all notebooks in a folder\n",
    "!nbqa flake8 ../notebooks/*.ipynb"
   ]
  }
 ],
 "metadata": {
  "kernelspec": {
   "display_name": "Python 3",
   "language": "python",
   "name": "python3"
  },
  "language_info": {
   "codemirror_mode": {
    "name": "ipython",
    "version": 3
   },
   "file_extension": ".py",
   "mimetype": "text/x-python",
   "name": "python",
   "nbconvert_exporter": "python",
   "pygments_lexer": "ipython3",
   "version": "3.8.5"
  }
 },
 "nbformat": 4,
 "nbformat_minor": 4
}
