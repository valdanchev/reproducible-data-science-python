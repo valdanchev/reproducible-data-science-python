{
 "cells": [
  {
   "cell_type": "markdown",
   "metadata": {
    "id": "S5AgZXCoOYF5"
   },
   "source": [
    "# Introduction to Causal Inference"
   ]
  },
  {
   "cell_type": "markdown",
   "metadata": {
    "id": "oiX6fj0KPSwq"
   },
   "source": [
    "# What causes what? \n",
    "\n",
    "Observational data (i.e., data recorded from human activity) and big data sources in particular are rife with spurious correlations between variables that appear to be associated in a model but are not causally linked. As a result, many models would pick some interesting associations in the data, which may appear statistically significant but likely lack practical significance. If the goal is to implement a new policy or interventions that may introduce change in the social world, we need knowledge about the underlying causal structure of the problem — what causes what. Specifically, we would like to know the effect of a particular _treatment_ (any policy or intervention, for example, Work from Home) on an _Outcome_ (for example, Number of coronavirus cases) and compare the observed effect to a counterfactual question, for example, 'What would have been the Number of coronavirus cases if a Work from home policy was not introduced?'.\n",
    "\n",
    "Causal graphs or DAGs (Directed Acyclical Graphs) are a useful tool for drawing intuitive pictures that:\n",
    "* Reflect our assumptions about our treatment, outcome, and associated factors. \n",
    "* Highlight possible sources of bias (e.g., confounding) which may otherwise be unnoticed.\n",
    "* Improve our data analysis for causal inference.\n",
    "\n",
    "In a causal graph (see Figure 1 below), each variable has a corresponding node, and the arrows reflect the direction of causation we assume of the basis of domain knowledge.\n",
    "\n",
    "## Learning resources\n",
    "\n",
    "<i class=\"fas fa-book\"></i> <i class=\"fas fa-code\"></i> Scott Cunningham. [Chapter 3: Directed Acyclical Graphs](https://mixtape.scunning.com/dag.html) in [Causal Inference: The Mixtape.](https://mixtape.scunning.com/index.html) Yale University Press.  \n",
    "\n",
    "<i class=\"fas fa-book\"></i> <i class=\"fas fa-code\"></i> <i class=\"fas fa-play-circle\"></i> [Chapter 6. The Haunted DAG & The Causal Terror](https://xcelab.net/rm/statistical-rethinking/) in Richard McElreath's Statistical Rethinking book and associated [video lecture](https://www.youtube.com/watch?v=l_7yIUqWBmE).\n",
    "\n",
    "<i class=\"fas fa-play-circle\"></i> Miguel Hernán. [Causal Diagrams: Draw Your Assumptions Before Your Conclusions](https://www.edx.org/course/causal-diagrams-draw-your-assumptions-before-your). edX.\n",
    "\n",
    "<i class=\"fas fa-book\"></i> Kosuke Imai. [Chapter 2: Causality](http://assets.press.princeton.edu/chapters/s2-11025.pdf) in Quantitative Social Science. Princeton University Press.\n",
    " \n",
    "<i class=\"fas fa-book\"></i> Stephen L. Morgan and Christopher Winship. Counterfactuals and Causal Inference. Cambridge University Press.\n",
    "\n",
    "<i class=\"fas fa-book\"></i> Hernán MA, Robins JM (2020). [Causal Inference: What If.](https://cdn1.sph.harvard.edu/wp-content/uploads/sites/1268/2021/03/ciwhatif_hernanrobins_30mar21.pdf) Boca Raton: Chapman & Hall/CRC.\n",
    "\n",
    "<i class=\"fas fa-scroll\"></i> Miguel Hernán, John Hsu, and Brian Healy. [A Second Chance to Get Causal Inference Right: A Classification of Data Science Tasks.](https://amstat.tandfonline.com/doi/pdf/10.1080/09332480.2019.1579578?needAccess=true) CHANCE.\n",
    "\n",
    "\n",
    "# Confounding—basic definitions\n",
    "\n",
    "To keep things concrete, in this lab, we will use DAGs to shed some light on the problem of confounding with a focus on two common confounds: (2) the fork and (3) the collider. In particular, we will discuss the collider confound as the 'fork' confound is typically well understood in the social sciences. \n",
    "\n",
    "\n",
    "## Definitions\n",
    "* **Confounding**: any interference such that the effect of predictors X on an outcome of interest Y is not the same as it would have been had we experimentally determined the predictors X. In experimental settings, we have treatment and control groups that are comparable with respect to every characteristic related to the outcome with the only difference being that the treatment group received the treatment and the control group did not.\n",
    "\n",
    "    * **Fork**: A variable Y is a common cause of X and Z, inducing a spurious correlation between them. This is the most common example of confounding (see [Kosuke Imai's Quantitative Social Science, page 57](https://assets.press.princeton.edu/chapters/s2-11025.pdf)).\n",
    "\n",
    "    * **Collider**: Relationship between X and Z does not exist unless we condition on Y, which is a collider variable (because the paths from X and Z collide in Y).\n",
    "\n",
    "<img src=\"https://miro.medium.com/max/4800/1*bmORaFV5mKqUTaML7ib_Rw.png\" width=\"600\" height=\"300\"/>\n",
    "\n",
    "Figure 1. [DAG representation](https://medium.com/@akelleh/a-technical-primer-on-causality-181db2575e41) of fork (left) and collider (right). Source: [A Technical Primer On Causality](https://medium.com/@akelleh/a-technical-primer-on-causality-181db2575e41) by Adam Kelleher.\n",
    "\n",
    "# Our example of collider bias\n",
    "\n",
    "Many canonical examples of collider bias exist in the literature, but we will develop our own example using a data set we know well — the Understanding Society Covid-19 survey data.  \n",
    "\n",
    "Consider a situation in which both variables Working from home and Age have an effect on the Risk of getting Covid-19 but are not correlated between each other in the entire data set. Then we condition on the respondents who considered the risk for getting Covid-19 'Very likely' as an example of problematic conditioning on a collider variable. After this problematic conditioning, we observe a strong negative relationship between Age and Work from home. In short, Work from home and Age are not correlated in the population but get correlated once conditioning on perceived very high risk of getting Covid-19, introducing collider bias. Of course, in this example we use survey data, and not many would condition on 'Very likely' risk of getting Covid-19, but in many observational data sets, we may have data only about a pre-selected subset of the population so our data may contain such problematic selection, introducing collider bias, by design."
   ]
  },
  {
   "cell_type": "markdown",
   "metadata": {},
   "source": [
    "# Drawing causal graphs\n",
    "\n",
    "To visualise our example as a causal graph, we will use the R package [`ggdag`](https://cran.r-project.org/web/packages/ggdag/ggdag.pdf). This [tutorial](https://cran.r-project.org/web/packages/ggdag/vignettes/bias-structures.html) by Malcolm Barrett gives a good overview of `ggdag` and its capabilities.\n",
    "\n",
    "In order to run R in a Python Jupyter, we need to install the `rpy2` package which provides Python interface to the R language."
   ]
  },
  {
   "cell_type": "code",
   "execution_count": null,
   "metadata": {
    "tags": [
     "hide-output"
    ]
   },
   "outputs": [],
   "source": [
    "!pip install rpy2"
   ]
  },
  {
   "cell_type": "markdown",
   "metadata": {},
   "source": [
    "To enable the `%%R` cell magic command, which turns a cell to be interpreted as an R code, we need to execute `%load_ext rpy2.ipython`."
   ]
  },
  {
   "cell_type": "code",
   "execution_count": 1,
   "metadata": {},
   "outputs": [],
   "source": [
    "%load_ext rpy2.ipython"
   ]
  },
  {
   "cell_type": "markdown",
   "metadata": {},
   "source": [
    "Now we can run R code in a cell by adding the R cell magic command `%%R`."
   ]
  },
  {
   "cell_type": "code",
   "execution_count": null,
   "metadata": {
    "tags": [
     "hide-output"
    ]
   },
   "outputs": [],
   "source": [
    "%%R\n",
    "\n",
    "# You will need to select a CRAN mirror from which\n",
    "# to install the package; for example, typing in '70' will select UK London\n",
    "install.packages(\"ggdag\")\n",
    "\n",
    "# We also install ggplot2, a popular data visualization package in R \n",
    "install.packages(\"ggplot2\") "
   ]
  },
  {
   "cell_type": "markdown",
   "metadata": {},
   "source": [
    "Import the `ggdag` package (and the `ggplot2` package)"
   ]
  },
  {
   "cell_type": "code",
   "execution_count": 3,
   "metadata": {},
   "outputs": [],
   "source": [
    "%%R\n",
    "library(ggdag)\n",
    "library(ggplot2)\n",
    "theme_set(theme_dag())"
   ]
  },
  {
   "cell_type": "markdown",
   "metadata": {},
   "source": [
    "In our model, we assume that both variables _Work from home_ and _Age_ affect the outcome variable, _Risk of getting Covid-19_. We also assume that _Working at home_ and _Age_ are not causally connected. Below we represent our simple model using a causal graph. The node where _Work from home_ and _Age_ arrowheads meet is called a collider, meaning that both variables collide there. Let's now plot a causal graph with our three variables."
   ]
  },
  {
   "cell_type": "code",
   "execution_count": 5,
   "metadata": {},
   "outputs": [
    {
     "data": {
      "image/png": "[encoded data removed]"
     },
     "metadata": {},
     "output_type": "display_data"
    }
   ],
   "source": [
    "%%R\n",
    "RiskCovid_dag <-collider_triangle(\n",
    "    x=\"Not Work from Home\", y=\"Age\", m=\"Perceived risk from getting COVID-19\"\n",
    ")\n",
    "\n",
    "ggdag(RiskCovid_dag, text=FALSE, use_labels=\"label\", node_size=20, text_size=5)"
   ]
  },
  {
   "cell_type": "code",
   "execution_count": 7,
   "metadata": {},
   "outputs": [
    {
     "data": {
      "image/png": "[encoded data removed]"
     },
     "metadata": {},
     "output_type": "display_data"
    }
   ],
   "source": [
    "%%R\n",
    "ggdag_dseparated(RiskCovid_dag, text=FALSE, use_labels=\"label\", text_size=5)"
   ]
  },
  {
   "cell_type": "markdown",
   "metadata": {},
   "source": [
    "Although Work from home and Age are not correlated in the population, they may get correlated once we condition on Very high risk of getting Covid-19. The square shape of the variable _Risk of getting Covid-19_ indicates that we condition on that variable being a certain value, in our case on people with Very high perceived risk of getting Covid-19."
   ]
  },
  {
   "cell_type": "code",
   "execution_count": 8,
   "metadata": {},
   "outputs": [
    {
     "data": {
      "image/png": "[encoded data removed]"
     },
     "metadata": {},
     "output_type": "display_data"
    }
   ],
   "source": [
    "%%R\n",
    "ggdag_dseparated(\n",
    "    RiskCovid_dag, controlling_for=\"m\", text=FALSE, use_labels=\"label\", text_size=5\n",
    ")"
   ]
  },
  {
   "cell_type": "markdown",
   "metadata": {
    "id": "0Ysiz5yj63H_"
   },
   "source": [
    "# Statistical Models in Python\n",
    "\n",
    "We will now perform our analysis to see how conditioning in a model can introduce a collider bias. \n",
    "\n",
    "In this lab, we will use the Python library [`statsmodels`](https://www.statsmodels.org/devel/examples/index.html). `statsmodels` is a Python module that provides functions for the estimation of many different statistical models.\n",
    "\n",
    "<img src=\"https://www.statsmodels.org/devel/_images/statsmodels-logo-v2-horizontal.svg\" width=\"400\" height=\"200\"/>\n",
    "\n",
    "You can install `statsmodels` by running the following command:"
   ]
  },
  {
   "cell_type": "code",
   "execution_count": null,
   "metadata": {},
   "outputs": [],
   "source": [
    "!pip install statsmodels"
   ]
  },
  {
   "cell_type": "markdown",
   "metadata": {
    "id": "rJj1lImS7gSc"
   },
   "source": [
    "# Collider confounder\n",
    "\n",
    "We will use data from [Understanding Society COVID-19](https://www.understandingsociety.ac.uk/topic/covid-19) (Wave 6, November 2020, web collected) to demonstrate the causal structure of collider confounder. The data are safeguarded and can be accessed via the [UK Data Service](https://beta.ukdataservice.ac.uk/datacatalogue/studies/study?id=8644). Once access to the data is obtained, the data needs to be stored securely in your Google Drive and loaded in your private Colab notebook. The data is provided in various file formats, we use the `.tab` file format (`tab` files store data values separated by tabs) which can be easily loaded using `pandas`. Specifically, the web collected data of the survey from Wave 6 (November 2020) is stored in the file `cf_indresp_w.tab`. Let's load the survey data."
   ]
  },
  {
   "cell_type": "code",
   "execution_count": null,
   "metadata": {
    "colab": {
     "base_uri": "https://localhost:8080/"
    },
    "executionInfo": {
     "elapsed": 8,
     "status": "ok",
     "timestamp": 1615886759123,
     "user": {
      "displayName": "Valentin Danchev",
      "photoUrl": "https://lh3.googleusercontent.com/a-/AOh14Gh90YzToc2qd-IrJXNzgu3LRVLxkU3sMg1swbMwzg=s64",
      "userId": "02219535538470165535"
     },
     "user_tz": 0
    },
    "id": "SqfIuUuBmd8j",
    "outputId": "7593a699-2751-427b-bcd5-6fd37c0b85a1"
   },
   "outputs": [],
   "source": [
    "# Import the Drive helper\n",
    "from google.colab import drive\n",
    "\n",
    "# This will prompt for authorization.\n",
    "# Enter your authorisation code and rerun the cell.\n",
    "drive.mount(\"/content/drive\")"
   ]
  },
  {
   "cell_type": "code",
   "execution_count": null,
   "metadata": {},
   "outputs": [],
   "source": [
    "import pandas as pd\n",
    "\n",
    "# Load the Understadning Society COVID-19 Study web collected data, Wave 6\n",
    "# Set the delimeter parameter sep to \"\\t\" which indicates tabs\n",
    "USocietyCovid = pd.read_csv(\n",
    "    \"/content/drive/My Drive/cf_indresp_w.tab\",\n",
    "    sep=\"\\t\",\n",
    ")"
   ]
  },
  {
   "cell_type": "code",
   "execution_count": null,
   "metadata": {},
   "outputs": [],
   "source": [
    "# Display headings only as the data is safeguarded\n",
    "USocietyCovid.head(0)"
   ]
  },
  {
   "cell_type": "markdown",
   "metadata": {
    "id": "TWHHuWGhFlqk"
   },
   "source": [
    "### Variables\n",
    "\n",
    "To make things concrete, let's select three variables. \n",
    "\n",
    "|Variable in Our Model | Description| Variable Name | Values \n",
    "|---| ---| ---|---|\n",
    "| X | Working at home| cf_wah | 1 = Always, 2 = Often, 3 = Sometimes, 4 = Never\n",
    "| Z | Age | cf_age | Integer values (whole numbers)\n",
    "| Y | Risk of getting covid19 | cf_riskcv19 | 1 = Very likely, 2 = Likely, 3 = Unlikely, 4 = Very unlikely"
   ]
  },
  {
   "cell_type": "code",
   "execution_count": 10,
   "metadata": {
    "colab": {
     "base_uri": "https://localhost:8080/",
     "height": 419
    },
    "executionInfo": {
     "elapsed": 534,
     "status": "ok",
     "timestamp": 1615887147225,
     "user": {
      "displayName": "Valentin Danchev",
      "photoUrl": "https://lh3.googleusercontent.com/a-/AOh14Gh90YzToc2qd-IrJXNzgu3LRVLxkU3sMg1swbMwzg=s64",
      "userId": "02219535538470165535"
     },
     "user_tz": 0
    },
    "id": "d3DfCq1EFnvt",
    "outputId": "1ccecd29-588a-45f4-ed95-92bbdfa002e0"
   },
   "outputs": [
    {
     "data": {
      "text/html": [
       "<div>\n",
       "<style scoped>\n",
       "    .dataframe tbody tr th:only-of-type {\n",
       "        vertical-align: middle;\n",
       "    }\n",
       "\n",
       "    .dataframe tbody tr th {\n",
       "        vertical-align: top;\n",
       "    }\n",
       "\n",
       "    .dataframe thead th {\n",
       "        text-align: right;\n",
       "    }\n",
       "</style>\n",
       "<table border=\"1\" class=\"dataframe\">\n",
       "  <thead>\n",
       "    <tr style=\"text-align: right;\">\n",
       "      <th></th>\n",
       "      <th>cf_wah</th>\n",
       "      <th>cf_age</th>\n",
       "      <th>cf_riskcv19</th>\n",
       "      <th>cf_betaindin_xw</th>\n",
       "    </tr>\n",
       "  </thead>\n",
       "  <tbody>\n",
       "    <tr>\n",
       "      <th>0</th>\n",
       "      <td>1.0</td>\n",
       "      <td>37.0</td>\n",
       "      <td>4.0</td>\n",
       "      <td>0.502242</td>\n",
       "    </tr>\n",
       "    <tr>\n",
       "      <th>2</th>\n",
       "      <td>3.0</td>\n",
       "      <td>55.0</td>\n",
       "      <td>3.0</td>\n",
       "      <td>0.138687</td>\n",
       "    </tr>\n",
       "    <tr>\n",
       "      <th>3</th>\n",
       "      <td>2.0</td>\n",
       "      <td>38.0</td>\n",
       "      <td>4.0</td>\n",
       "      <td>0.485160</td>\n",
       "    </tr>\n",
       "    <tr>\n",
       "      <th>5</th>\n",
       "      <td>4.0</td>\n",
       "      <td>63.0</td>\n",
       "      <td>3.0</td>\n",
       "      <td>0.788910</td>\n",
       "    </tr>\n",
       "    <tr>\n",
       "      <th>6</th>\n",
       "      <td>3.0</td>\n",
       "      <td>56.0</td>\n",
       "      <td>4.0</td>\n",
       "      <td>0.705270</td>\n",
       "    </tr>\n",
       "    <tr>\n",
       "      <th>...</th>\n",
       "      <td>...</td>\n",
       "      <td>...</td>\n",
       "      <td>...</td>\n",
       "      <td>...</td>\n",
       "    </tr>\n",
       "    <tr>\n",
       "      <th>12026</th>\n",
       "      <td>3.0</td>\n",
       "      <td>41.0</td>\n",
       "      <td>3.0</td>\n",
       "      <td>0.016283</td>\n",
       "    </tr>\n",
       "    <tr>\n",
       "      <th>12028</th>\n",
       "      <td>4.0</td>\n",
       "      <td>39.0</td>\n",
       "      <td>3.0</td>\n",
       "      <td>0.025795</td>\n",
       "    </tr>\n",
       "    <tr>\n",
       "      <th>12029</th>\n",
       "      <td>1.0</td>\n",
       "      <td>41.0</td>\n",
       "      <td>4.0</td>\n",
       "      <td>0.285402</td>\n",
       "    </tr>\n",
       "    <tr>\n",
       "      <th>12030</th>\n",
       "      <td>1.0</td>\n",
       "      <td>57.0</td>\n",
       "      <td>4.0</td>\n",
       "      <td>0.020726</td>\n",
       "    </tr>\n",
       "    <tr>\n",
       "      <th>12034</th>\n",
       "      <td>1.0</td>\n",
       "      <td>41.0</td>\n",
       "      <td>3.0</td>\n",
       "      <td>2.750525</td>\n",
       "    </tr>\n",
       "  </tbody>\n",
       "</table>\n",
       "<p>6683 rows × 4 columns</p>\n",
       "</div>"
      ],
      "text/plain": [
       "       cf_wah  cf_age  cf_riskcv19  cf_betaindin_xw\n",
       "0         1.0    37.0          4.0         0.502242\n",
       "2         3.0    55.0          3.0         0.138687\n",
       "3         2.0    38.0          4.0         0.485160\n",
       "5         4.0    63.0          3.0         0.788910\n",
       "6         3.0    56.0          4.0         0.705270\n",
       "...       ...     ...          ...              ...\n",
       "12026     3.0    41.0          3.0         0.016283\n",
       "12028     4.0    39.0          3.0         0.025795\n",
       "12029     1.0    41.0          4.0         0.285402\n",
       "12030     1.0    57.0          4.0         0.020726\n",
       "12034     1.0    41.0          3.0         2.750525\n",
       "\n",
       "[6683 rows x 4 columns]"
      ]
     },
     "execution_count": 10,
     "metadata": {},
     "output_type": "execute_result"
    }
   ],
   "source": [
    "# Select and preprocesses our variables from the Understanding Society Study.\n",
    "# We also select the weighting variable cf_betaindin_xw we will use later (see\n",
    "# section 'Weighting to correct for complex sample design' below)\n",
    "\n",
    "USocietyCovidCollider = USocietyCovid[\n",
    "    [\"cf_wah\", \"cf_age\", \"cf_riskcv19\", \"cf_betaindin_xw\"]\n",
    "]\n",
    "USocietyCovidCollider = USocietyCovidCollider.mask(USocietyCovidCollider < 0)\n",
    "USocietyCovidCollider = USocietyCovidCollider.dropna().astype(float)\n",
    "USocietyCovidCollider"
   ]
  },
  {
   "cell_type": "code",
   "execution_count": 11,
   "metadata": {
    "colab": {
     "base_uri": "https://localhost:8080/",
     "height": 446
    },
    "executionInfo": {
     "elapsed": 2042,
     "status": "ok",
     "timestamp": 1615887165778,
     "user": {
      "displayName": "Valentin Danchev",
      "photoUrl": "https://lh3.googleusercontent.com/a-/AOh14Gh90YzToc2qd-IrJXNzgu3LRVLxkU3sMg1swbMwzg=s64",
      "userId": "02219535538470165535"
     },
     "user_tz": 0
    },
    "id": "QeqSh--rI48u",
    "outputId": "89a46ecc-fbd1-4da7-b545-0145eef6e747"
   },
   "outputs": [
    {
     "data": {
      "text/plain": [
       "<matplotlib.legend.Legend at 0x7fd039a9b190>"
      ]
     },
     "execution_count": 11,
     "metadata": {},
     "output_type": "execute_result"
    },
    {
     "data": {
      "image/png": "[encoded data removed]",
      "text/plain": [
       "<Figure size 648x432 with 1 Axes>"
      ]
     },
     "metadata": {
      "needs_background": "light"
     },
     "output_type": "display_data"
    }
   ],
   "source": [
    "# Work at home versus risk of getting covid\n",
    "import matplotlib.pyplot as plt\n",
    "import seaborn as sns\n",
    "\n",
    "%matplotlib inline\n",
    "\n",
    "sns.set_context(\"notebook\", font_scale=1.5)\n",
    "\n",
    "fig = sns.catplot(\n",
    "    x=\"cf_wah\",\n",
    "    kind=\"count\",\n",
    "    hue=\"cf_riskcv19\",\n",
    "    height=6,\n",
    "    aspect=1.5,\n",
    "    palette=\"ch:.25\",\n",
    "    data=USocietyCovidCollider,\n",
    "    legend=False,\n",
    ")\n",
    "\n",
    "# Change the labels of the horizontal x axis\n",
    "fig.set(xlabel=\"Working at home\")\n",
    "\n",
    "# Add informative labels to the horizontal x axis\n",
    "fig.set_xticklabels([\"Always\", \"Often\", \"Sometimes\", \"Never\"])\n",
    "\n",
    "# Change title and labels of the legend\n",
    "plt.legend(\n",
    "    title=\"Risk of getting COVID-19\",\n",
    "    loc=\"upper center\",\n",
    "    labels=[\"Very likely\", \"Likely\", \"Unlikely\", \"Very unlikely\"],\n",
    ")"
   ]
  },
  {
   "cell_type": "code",
   "execution_count": 12,
   "metadata": {
    "colab": {
     "base_uri": "https://localhost:8080/",
     "height": 374
    },
    "executionInfo": {
     "elapsed": 834,
     "status": "ok",
     "timestamp": 1615887300055,
     "user": {
      "displayName": "Valentin Danchev",
      "photoUrl": "https://lh3.googleusercontent.com/a-/AOh14Gh90YzToc2qd-IrJXNzgu3LRVLxkU3sMg1swbMwzg=s64",
      "userId": "02219535538470165535"
     },
     "user_tz": 0
    },
    "id": "OepnEfh_JpDW",
    "outputId": "f93a75ef-9981-4c3e-9110-7b549afea5fd"
   },
   "outputs": [
    {
     "data": {
      "text/plain": [
       "<seaborn.axisgrid.FacetGrid at 0x7fd028ea0a90>"
      ]
     },
     "execution_count": 12,
     "metadata": {},
     "output_type": "execute_result"
    },
    {
     "data": {
      "image/png": "[encoded data removed]",
      "text/plain": [
       "<Figure size 540x360 with 1 Axes>"
      ]
     },
     "metadata": {
      "needs_background": "light"
     },
     "output_type": "display_data"
    }
   ],
   "source": [
    "# Risk of getting COVID-19 versus age\n",
    "\n",
    "fig = sns.catplot(\n",
    "    x=\"cf_riskcv19\",\n",
    "    y=\"cf_age\",\n",
    "    kind=\"box\",\n",
    "    height=5,\n",
    "    aspect=1.5,  # control plot size\n",
    "    sharey=False,  # set different y axes for each plot\n",
    "    data=USocietyCovidCollider,\n",
    ")\n",
    "\n",
    "# Add informative labels to the horizontal x axis\n",
    "fig.set(xlabel=\"Risk of getting COVID-19\")\n",
    "fig.set_xticklabels([\"Very likely\", \"Likely\", \"Unlikely\", \"Very unlikely\"])"
   ]
  },
  {
   "cell_type": "code",
   "execution_count": 13,
   "metadata": {},
   "outputs": [
    {
     "data": {
      "text/plain": [
       "cf_wah          2.788867\n",
       "cf_age         47.494538\n",
       "cf_riskcv19     3.069280\n",
       "dtype: float64"
      ]
     },
     "execution_count": 13,
     "metadata": {},
     "output_type": "execute_result"
    }
   ],
   "source": [
    "# Compute the mean of the three variables of interest\n",
    "USocietyCovidCollider.iloc[:, 0:3].mean()"
   ]
  },
  {
   "cell_type": "code",
   "execution_count": 14,
   "metadata": {},
   "outputs": [
    {
     "data": {
      "text/html": [
       "<div>\n",
       "<style scoped>\n",
       "    .dataframe tbody tr th:only-of-type {\n",
       "        vertical-align: middle;\n",
       "    }\n",
       "\n",
       "    .dataframe tbody tr th {\n",
       "        vertical-align: top;\n",
       "    }\n",
       "\n",
       "    .dataframe thead th {\n",
       "        text-align: right;\n",
       "    }\n",
       "</style>\n",
       "<table border=\"1\" class=\"dataframe\">\n",
       "  <thead>\n",
       "    <tr style=\"text-align: right;\">\n",
       "      <th></th>\n",
       "      <th>cf_wah</th>\n",
       "      <th>cf_age</th>\n",
       "      <th>cf_riskcv19</th>\n",
       "    </tr>\n",
       "  </thead>\n",
       "  <tbody>\n",
       "    <tr>\n",
       "      <th>cf_wah</th>\n",
       "      <td>1.000000</td>\n",
       "      <td>-0.013254</td>\n",
       "      <td>-0.138858</td>\n",
       "    </tr>\n",
       "    <tr>\n",
       "      <th>cf_age</th>\n",
       "      <td>-0.013254</td>\n",
       "      <td>1.000000</td>\n",
       "      <td>0.099640</td>\n",
       "    </tr>\n",
       "    <tr>\n",
       "      <th>cf_riskcv19</th>\n",
       "      <td>-0.138858</td>\n",
       "      <td>0.099640</td>\n",
       "      <td>1.000000</td>\n",
       "    </tr>\n",
       "  </tbody>\n",
       "</table>\n",
       "</div>"
      ],
      "text/plain": [
       "               cf_wah    cf_age  cf_riskcv19\n",
       "cf_wah       1.000000 -0.013254    -0.138858\n",
       "cf_age      -0.013254  1.000000     0.099640\n",
       "cf_riskcv19 -0.138858  0.099640     1.000000"
      ]
     },
     "execution_count": 14,
     "metadata": {},
     "output_type": "execute_result"
    }
   ],
   "source": [
    "# Compute the correlation of the three variables of interest\n",
    "USocietyCovidCollider.iloc[:, 0:3].corr()"
   ]
  },
  {
   "cell_type": "markdown",
   "metadata": {},
   "source": [
    "# Using weights to adjust for complex sample design\n",
    "\n",
    "Before we perform data analysis, we need to consider the sample of the Understanding Society COVID-19 Study and the importance of using weights in our analysis. The sample of the Understanding Society COVID-19 Study has a clustered and stratified design with certain types of people being over-represented in the sample by design. For example, the study over-samples ethnic minorities. This complex design allows various research analyses across different population sub-groups and topics but posses also a challenge as the sample does not reflect the population structure. To correctly reflect the population structure, we need to use weights in our analysis. The weights adjust for unequal selection probability and other conditions (e.g., non-response). \n",
    "\n",
    "The Understanding Society team provides a number of weights reflecting the structure of the data. For the Understanding Society data we use (cross-sectional web-collected survey data from Wave 6, November 2020), the relevant weights variables is `cf_betaindin_xw`. The name of the weight variable reflects the wave for which the weight is calculated (`cf` refers to Wave 6), level of analysis (`indin` refers to individual interview), and data source (`xw` refers to cross-sectional analysis weight).\n",
    "\n",
    "Weighting in _Understanding Society_ is discussed in the following sources: \n",
    "* [Understanding Society COVID-19. User Guide. Version 10.0. December 2021.](https://www.understandingsociety.ac.uk/sites/default/files/downloads/documentation/covid-19/user-guides/covid-19-user-guide.pdf)\n",
    "* [Weighting and Sample Representation: Frequently Asked Questions. \n",
    "Version 1.0. October 2019.](https://www.understandingsociety.ac.uk/sites/default/files/downloads/documentation/user-guides/mainstage/weighting_faqs.pdf)\n",
    "\n",
    "We use [`DescrStatsW`](https://www.statsmodels.org/dev/generated/statsmodels.stats.weightstats.DescrStatsW.html) from the library `statsmodels` to compute descriptive statistics and tests with weights for case weights:"
   ]
  },
  {
   "cell_type": "code",
   "execution_count": 15,
   "metadata": {},
   "outputs": [],
   "source": [
    "# Import DescrStatsW\n",
    "from statsmodels.stats.weightstats import DescrStatsW\n",
    "\n",
    "# Create a weighted instance using the cf_betaindin_xw weights\n",
    "USocietyCovidCollider_Weighted = DescrStatsW(\n",
    "    USocietyCovidCollider.iloc[:, 0:3],\n",
    "    weights=USocietyCovidCollider.cf_betaindin_xw,\n",
    ")"
   ]
  },
  {
   "cell_type": "code",
   "execution_count": 16,
   "metadata": {},
   "outputs": [
    {
     "data": {
      "text/plain": [
       "array([ 2.94456926, 43.15515565,  3.06442045])"
      ]
     },
     "execution_count": 16,
     "metadata": {},
     "output_type": "execute_result"
    }
   ],
   "source": [
    "# Compute weighted mean of the three variables of interest\n",
    "# using the mean attribute in statsmodels\n",
    "USocietyCovidCollider_Weighted.mean"
   ]
  },
  {
   "cell_type": "code",
   "execution_count": 17,
   "metadata": {
    "colab": {
     "base_uri": "https://localhost:8080/",
     "height": 142
    },
    "executionInfo": {
     "elapsed": 452,
     "status": "ok",
     "timestamp": 1615887427142,
     "user": {
      "displayName": "Valentin Danchev",
      "photoUrl": "https://lh3.googleusercontent.com/a-/AOh14Gh90YzToc2qd-IrJXNzgu3LRVLxkU3sMg1swbMwzg=s64",
      "userId": "02219535538470165535"
     },
     "user_tz": 0
    },
    "id": "xg6T-n73Fnod",
    "outputId": "190b6b7c-3cc6-4cd5-973e-5226d9f7f03f"
   },
   "outputs": [
    {
     "data": {
      "text/plain": [
       "array([[ 1.        , -0.04274411, -0.11605542],\n",
       "       [-0.04274411,  1.        ,  0.09240866],\n",
       "       [-0.11605542,  0.09240866,  1.        ]])"
      ]
     },
     "execution_count": 17,
     "metadata": {},
     "output_type": "execute_result"
    }
   ],
   "source": [
    "# Compute weighted correlation of the three variables of interest\n",
    "# using the corrcoef attribute in statsmodels\n",
    "USocietyCovidCollider_Weighted.corrcoef"
   ]
  },
  {
   "cell_type": "markdown",
   "metadata": {
    "id": "GNyIbkMWM3p7"
   },
   "source": [
    "Note that the weighted mean and correlation coefficients differ quantitatively from the unweighted versions we computed earlier. The overall pattern of correlation is preserved.\n",
    "\n",
    "Let's interpret the weighted correlation results:\n",
    "* Work at home is negatively correlated with Risk of getting COVID-19, indicating that people who rarely or never work at home perceive a greater risk of getting COVID-19. \n",
    "* Age is weakly positively correlated with Risk of getting COVID-19, indicating that perceived risk of getting COVID-19 decreases with age.\n",
    "* Age and work at home are largely not associated in the data set. \n",
    "\n",
    "_Note:_ Due to the way the variable Risk of getting COVID-19 is coded (1 = Very likely, 2 = Likely, 3 = Unlikely, 4 = Very unlikely), larger values indicate lower risk. The variable Risk of getting COVID-19 measures perceived risk, which is different from actual risk or health outcome after different age groups get COVID-19. "
   ]
  },
  {
   "cell_type": "code",
   "execution_count": 18,
   "metadata": {},
   "outputs": [
    {
     "name": "stdout",
     "output_type": "stream",
     "text": [
      "                 Generalized Linear Model Regression Results                  \n",
      "==============================================================================\n",
      "Dep. Variable:            cf_riskcv19   No. Observations:                 6683\n",
      "Model:                            GLM   Df Residuals:                  7101.97\n",
      "Model Family:                Gaussian   Df Model:                            2\n",
      "Link Function:               identity   Scale:                         0.34918\n",
      "Method:                          IRLS   Log-Likelihood:                -6342.3\n",
      "Date:                Sat, 23 Jul 2022   Deviance:                       2479.9\n",
      "Time:                        19:30:03   Pearson chi2:                 2.48e+03\n",
      "No. Iterations:                     3                                         \n",
      "Covariance Type:            nonrobust                                         \n",
      "==============================================================================\n",
      "                 coef    std err          z      P>|z|      [0.025      0.975]\n",
      "------------------------------------------------------------------------------\n",
      "Intercept      3.0564      0.028    107.373      0.000       3.001       3.112\n",
      "cf_age         0.0038      0.001      7.455      0.000       0.003       0.005\n",
      "cf_wah        -0.0523      0.005     -9.558      0.000      -0.063      -0.042\n",
      "==============================================================================\n"
     ]
    }
   ],
   "source": [
    "# We model the outcome variable Risk of getting COVID-19 and the predictors\n",
    "# Age and Work at home using a Generalized Linear Model (GLM) in statsmodels.\n",
    "# We treat our outcome variable as a discrete quantitative variable and use the default\n",
    "# Gaussian distribution family. Weights (cf_betaindin_xw) are applied using the\n",
    "# parameter freq_weights.\n",
    "\n",
    "import statsmodels.formula.api as smf\n",
    "\n",
    "model = smf.glm(\n",
    "    \"cf_riskcv19 ~ cf_age + cf_wah\",\n",
    "    freq_weights=USocietyCovidCollider.cf_betaindin_xw,\n",
    "    data=USocietyCovidCollider,\n",
    ").fit()\n",
    "\n",
    "print(model.summary())"
   ]
  },
  {
   "cell_type": "code",
   "execution_count": 19,
   "metadata": {
    "colab": {
     "base_uri": "https://localhost:8080/"
    },
    "executionInfo": {
     "elapsed": 526,
     "status": "ok",
     "timestamp": 1615887715381,
     "user": {
      "displayName": "Valentin Danchev",
      "photoUrl": "https://lh3.googleusercontent.com/a-/AOh14Gh90YzToc2qd-IrJXNzgu3LRVLxkU3sMg1swbMwzg=s64",
      "userId": "02219535538470165535"
     },
     "user_tz": 0
    },
    "id": "bdW0SzUsMP8P",
    "outputId": "4b58e7c1-baaa-452a-bf1e-25e4ab794761"
   },
   "outputs": [
    {
     "data": {
      "text/plain": [
       "array([[ 1.        , -0.04274411],\n",
       "       [-0.04274411,  1.        ]])"
      ]
     },
     "execution_count": 19,
     "metadata": {},
     "output_type": "execute_result"
    }
   ],
   "source": [
    "# Although both Age and Work at home have some effect on\n",
    "# Risk of getting COVID-19, the two predictors are not\n",
    "# associated in the data set as measured via\n",
    "# weighted correlation\n",
    "\n",
    "USocietyCovidCollider_Weighted = DescrStatsW(\n",
    "    USocietyCovidCollider.iloc[:, 0:2],\n",
    "    weights=USocietyCovidCollider.cf_betaindin_xw,\n",
    ")\n",
    "\n",
    "USocietyCovidCollider_Weighted.corrcoef"
   ]
  },
  {
   "cell_type": "markdown",
   "metadata": {
    "id": "2z5W1tGmP_5m"
   },
   "source": [
    "Let's condition on the respondents who considered the risk for getting COVID-19 'Very likely'. This is an example of problematic conditioning on a collider variable."
   ]
  },
  {
   "cell_type": "code",
   "execution_count": 20,
   "metadata": {
    "colab": {
     "base_uri": "https://localhost:8080/",
     "height": 419
    },
    "executionInfo": {
     "elapsed": 428,
     "status": "ok",
     "timestamp": 1615887780008,
     "user": {
      "displayName": "Valentin Danchev",
      "photoUrl": "https://lh3.googleusercontent.com/a-/AOh14Gh90YzToc2qd-IrJXNzgu3LRVLxkU3sMg1swbMwzg=s64",
      "userId": "02219535538470165535"
     },
     "user_tz": 0
    },
    "id": "VjZcxNpXFngH",
    "outputId": "bdddb0f4-1776-4217-f172-fb871360cabe"
   },
   "outputs": [
    {
     "data": {
      "text/html": [
       "<div>\n",
       "<style scoped>\n",
       "    .dataframe tbody tr th:only-of-type {\n",
       "        vertical-align: middle;\n",
       "    }\n",
       "\n",
       "    .dataframe tbody tr th {\n",
       "        vertical-align: top;\n",
       "    }\n",
       "\n",
       "    .dataframe thead th {\n",
       "        text-align: right;\n",
       "    }\n",
       "</style>\n",
       "<table border=\"1\" class=\"dataframe\">\n",
       "  <thead>\n",
       "    <tr style=\"text-align: right;\">\n",
       "      <th></th>\n",
       "      <th>cf_wah</th>\n",
       "      <th>cf_age</th>\n",
       "      <th>cf_riskcv19</th>\n",
       "      <th>cf_betaindin_xw</th>\n",
       "    </tr>\n",
       "  </thead>\n",
       "  <tbody>\n",
       "    <tr>\n",
       "      <th>443</th>\n",
       "      <td>4.0</td>\n",
       "      <td>27.0</td>\n",
       "      <td>1.0</td>\n",
       "      <td>0.693835</td>\n",
       "    </tr>\n",
       "    <tr>\n",
       "      <th>619</th>\n",
       "      <td>4.0</td>\n",
       "      <td>25.0</td>\n",
       "      <td>1.0</td>\n",
       "      <td>1.627781</td>\n",
       "    </tr>\n",
       "    <tr>\n",
       "      <th>890</th>\n",
       "      <td>4.0</td>\n",
       "      <td>49.0</td>\n",
       "      <td>1.0</td>\n",
       "      <td>0.766018</td>\n",
       "    </tr>\n",
       "    <tr>\n",
       "      <th>1635</th>\n",
       "      <td>4.0</td>\n",
       "      <td>49.0</td>\n",
       "      <td>1.0</td>\n",
       "      <td>0.195473</td>\n",
       "    </tr>\n",
       "    <tr>\n",
       "      <th>1969</th>\n",
       "      <td>4.0</td>\n",
       "      <td>28.0</td>\n",
       "      <td>1.0</td>\n",
       "      <td>2.347204</td>\n",
       "    </tr>\n",
       "    <tr>\n",
       "      <th>...</th>\n",
       "      <td>...</td>\n",
       "      <td>...</td>\n",
       "      <td>...</td>\n",
       "      <td>...</td>\n",
       "    </tr>\n",
       "    <tr>\n",
       "      <th>11334</th>\n",
       "      <td>1.0</td>\n",
       "      <td>38.0</td>\n",
       "      <td>1.0</td>\n",
       "      <td>0.963162</td>\n",
       "    </tr>\n",
       "    <tr>\n",
       "      <th>11457</th>\n",
       "      <td>4.0</td>\n",
       "      <td>29.0</td>\n",
       "      <td>1.0</td>\n",
       "      <td>2.864587</td>\n",
       "    </tr>\n",
       "    <tr>\n",
       "      <th>11593</th>\n",
       "      <td>4.0</td>\n",
       "      <td>42.0</td>\n",
       "      <td>1.0</td>\n",
       "      <td>1.980593</td>\n",
       "    </tr>\n",
       "    <tr>\n",
       "      <th>11702</th>\n",
       "      <td>4.0</td>\n",
       "      <td>48.0</td>\n",
       "      <td>1.0</td>\n",
       "      <td>2.443001</td>\n",
       "    </tr>\n",
       "    <tr>\n",
       "      <th>11975</th>\n",
       "      <td>4.0</td>\n",
       "      <td>50.0</td>\n",
       "      <td>1.0</td>\n",
       "      <td>0.387473</td>\n",
       "    </tr>\n",
       "  </tbody>\n",
       "</table>\n",
       "<p>63 rows × 4 columns</p>\n",
       "</div>"
      ],
      "text/plain": [
       "       cf_wah  cf_age  cf_riskcv19  cf_betaindin_xw\n",
       "443       4.0    27.0          1.0         0.693835\n",
       "619       4.0    25.0          1.0         1.627781\n",
       "890       4.0    49.0          1.0         0.766018\n",
       "1635      4.0    49.0          1.0         0.195473\n",
       "1969      4.0    28.0          1.0         2.347204\n",
       "...       ...     ...          ...              ...\n",
       "11334     1.0    38.0          1.0         0.963162\n",
       "11457     4.0    29.0          1.0         2.864587\n",
       "11593     4.0    42.0          1.0         1.980593\n",
       "11702     4.0    48.0          1.0         2.443001\n",
       "11975     4.0    50.0          1.0         0.387473\n",
       "\n",
       "[63 rows x 4 columns]"
      ]
     },
     "execution_count": 20,
     "metadata": {},
     "output_type": "execute_result"
    }
   ],
   "source": [
    "# Create a collider variable — Very likely risk of getting COVID-19.\n",
    "# Select the respondents who considered the risk for getting COVID-19 'Very likely'.\n",
    "\n",
    "USocietyCovidColliderRisk = USocietyCovidCollider[\n",
    "    USocietyCovidCollider[\"cf_riskcv19\"] == 1\n",
    "]\n",
    "\n",
    "USocietyCovidColliderRisk"
   ]
  },
  {
   "cell_type": "markdown",
   "metadata": {
    "id": "ZtPV5KoQQXoT"
   },
   "source": [
    "After we condition on those who considered the risk for getting COVID-19 'Very likely', we observe a negative correlation between Age and Work at home. "
   ]
  },
  {
   "cell_type": "code",
   "execution_count": 21,
   "metadata": {},
   "outputs": [
    {
     "data": {
      "text/plain": [
       "array([[ 1.        , -0.20653002],\n",
       "       [-0.20653002,  1.        ]])"
      ]
     },
     "execution_count": 21,
     "metadata": {},
     "output_type": "execute_result"
    }
   ],
   "source": [
    "# Compute weighted correlation of Age and Work at home\n",
    "\n",
    "# Create a weighted instance\n",
    "USocietyCovidColliderRisk_Weighted = DescrStatsW(\n",
    "    USocietyCovidColliderRisk.iloc[:, 0:2],\n",
    "    weights=USocietyCovidColliderRisk.cf_betaindin_xw,\n",
    ")\n",
    "\n",
    "# Weighted correlation\n",
    "USocietyCovidColliderRisk_Weighted.corrcoef"
   ]
  },
  {
   "cell_type": "markdown",
   "metadata": {
    "id": "mH_pRFvkL_L5"
   },
   "source": [
    "### Questions\n",
    "* Why Age and Work at home were uncorrelated in the population but are negatively correlated once we condition on those who perceive 'Very likely' risk of getting COVID-19?"
   ]
  },
  {
   "cell_type": "markdown",
   "metadata": {
    "id": "lNvuNgSeWPVS"
   },
   "source": [
    "# Additional material\n",
    "\n",
    "The examples and code below are from [Chapter 3: Directed Acyclical Graphs](https://mixtape.scunning.com/dag.html) in Scott Cunningham's book [Causal Inference: The Mixtape](https://mixtape.scunning.com/index.html).\n",
    "\n",
    "The original code is written by [Thomas Caputo](https://github.com/tomcaputo) and is available on [GitHub](https://github.com/tomcaputo/mixtape_learnr/blob/main/Python/Directed_Acyclical_Graphs.ipynb).   "
   ]
  },
  {
   "cell_type": "markdown",
   "metadata": {
    "id": "NiOotEGGrKae"
   },
   "source": [
    "# Gender discrimination and collider bias\n",
    "\n",
    "Suppose we are interested in studying the effect of gender discrimination on earnings/wages. One approach would be to regress earnings on gender (Model 1 in the regression table below) which indeed shows that women are discriminated against. But then your model is criticised for not taking into account occupation. To address this criticism, you run another model that adjusts for occupation (Model 2 in the regression table below). The outputs of this second model indicates that women are not discriminated against; instead, they receive comparable (or even higher) pay. However, there is a problem in this second model too. Suppose that discrimination is mediated by occupation such that women tend to occupy worse jobs, which are payed less. In this scenario, by controlling for occupation we introduce bias. This is at odds with a widespread practice of adding more and more controls in a model. Such controls may not reduce but introduce bias. To get rid of the introduced bias in the discrimination example, we can condition on both occupation and ability, which is what Model 3 does in the regression table below. This unbiased conditional model confirms that women are discriminated against. In real-world settings, however, ability is unobserved, which would typically preclude us from estimating an unbiased effect of gender discrimination on earnings.\n",
    "\n",
    "For a detailed account on of the discrimination example, see [Chapter 3: Directed Acyclical Graphs](https://mixtape.scunning.com/dag.html) in Scott Cunningham's book [Causal Inference: The Mixtape](https://mixtape.scunning.com/index.html)."
   ]
  },
  {
   "cell_type": "code",
   "execution_count": null,
   "metadata": {},
   "outputs": [],
   "source": [
    "!pip install Stargazer"
   ]
  },
  {
   "cell_type": "code",
   "execution_count": null,
   "metadata": {},
   "outputs": [],
   "source": [
    "import numpy as np\n",
    "import pandas as pd\n",
    "import statsmodels.api as sm\n",
    "from stargazer.stargazer import Stargazer"
   ]
  },
  {
   "cell_type": "code",
   "execution_count": 23,
   "metadata": {
    "colab": {
     "base_uri": "https://localhost:8080/",
     "height": 424
    },
    "executionInfo": {
     "elapsed": 516,
     "status": "ok",
     "timestamp": 1615895336798,
     "user": {
      "displayName": "Valentin Danchev",
      "photoUrl": "https://lh3.googleusercontent.com/a-/AOh14Gh90YzToc2qd-IrJXNzgu3LRVLxkU3sMg1swbMwzg=s64",
      "userId": "02219535538470165535"
     },
     "user_tz": 0
    },
    "id": "H9QHpU72Sk3_",
    "outputId": "aaac1a43-335e-4c09-c758-518ff4c2419d"
   },
   "outputs": [
    {
     "data": {
      "text/html": [
       "<div>\n",
       "<style scoped>\n",
       "    .dataframe tbody tr th:only-of-type {\n",
       "        vertical-align: middle;\n",
       "    }\n",
       "\n",
       "    .dataframe tbody tr th {\n",
       "        vertical-align: top;\n",
       "    }\n",
       "\n",
       "    .dataframe thead th {\n",
       "        text-align: right;\n",
       "    }\n",
       "</style>\n",
       "<table border=\"1\" class=\"dataframe\">\n",
       "  <thead>\n",
       "    <tr style=\"text-align: right;\">\n",
       "      <th></th>\n",
       "      <th>female</th>\n",
       "      <th>ability</th>\n",
       "      <th>discrimination</th>\n",
       "      <th>occupation</th>\n",
       "      <th>wage</th>\n",
       "    </tr>\n",
       "  </thead>\n",
       "  <tbody>\n",
       "    <tr>\n",
       "      <th>0</th>\n",
       "      <td>0</td>\n",
       "      <td>-0.583400</td>\n",
       "      <td>0</td>\n",
       "      <td>-2.659612</td>\n",
       "      <td>-4.594003</td>\n",
       "    </tr>\n",
       "    <tr>\n",
       "      <th>1</th>\n",
       "      <td>0</td>\n",
       "      <td>-0.090020</td>\n",
       "      <td>0</td>\n",
       "      <td>1.395282</td>\n",
       "      <td>1.934295</td>\n",
       "    </tr>\n",
       "    <tr>\n",
       "      <th>2</th>\n",
       "      <td>0</td>\n",
       "      <td>0.408892</td>\n",
       "      <td>0</td>\n",
       "      <td>1.593849</td>\n",
       "      <td>3.288082</td>\n",
       "    </tr>\n",
       "    <tr>\n",
       "      <th>3</th>\n",
       "      <td>1</td>\n",
       "      <td>-0.048407</td>\n",
       "      <td>1</td>\n",
       "      <td>-1.724316</td>\n",
       "      <td>-1.605850</td>\n",
       "    </tr>\n",
       "    <tr>\n",
       "      <th>4</th>\n",
       "      <td>0</td>\n",
       "      <td>0.178023</td>\n",
       "      <td>0</td>\n",
       "      <td>0.743506</td>\n",
       "      <td>0.937822</td>\n",
       "    </tr>\n",
       "    <tr>\n",
       "      <th>...</th>\n",
       "      <td>...</td>\n",
       "      <td>...</td>\n",
       "      <td>...</td>\n",
       "      <td>...</td>\n",
       "      <td>...</td>\n",
       "    </tr>\n",
       "    <tr>\n",
       "      <th>9995</th>\n",
       "      <td>0</td>\n",
       "      <td>-0.553071</td>\n",
       "      <td>0</td>\n",
       "      <td>-0.238007</td>\n",
       "      <td>0.473329</td>\n",
       "    </tr>\n",
       "    <tr>\n",
       "      <th>9996</th>\n",
       "      <td>0</td>\n",
       "      <td>0.621406</td>\n",
       "      <td>0</td>\n",
       "      <td>0.881636</td>\n",
       "      <td>3.776081</td>\n",
       "    </tr>\n",
       "    <tr>\n",
       "      <th>9997</th>\n",
       "      <td>1</td>\n",
       "      <td>-0.751467</td>\n",
       "      <td>1</td>\n",
       "      <td>-2.869730</td>\n",
       "      <td>-2.812620</td>\n",
       "    </tr>\n",
       "    <tr>\n",
       "      <th>9998</th>\n",
       "      <td>0</td>\n",
       "      <td>0.470122</td>\n",
       "      <td>0</td>\n",
       "      <td>2.221021</td>\n",
       "      <td>4.290577</td>\n",
       "    </tr>\n",
       "    <tr>\n",
       "      <th>9999</th>\n",
       "      <td>0</td>\n",
       "      <td>0.284493</td>\n",
       "      <td>0</td>\n",
       "      <td>1.338886</td>\n",
       "      <td>1.699065</td>\n",
       "    </tr>\n",
       "  </tbody>\n",
       "</table>\n",
       "<p>10000 rows × 5 columns</p>\n",
       "</div>"
      ],
      "text/plain": [
       "      female   ability  discrimination  occupation      wage\n",
       "0          0 -0.583400               0   -2.659612 -4.594003\n",
       "1          0 -0.090020               0    1.395282  1.934295\n",
       "2          0  0.408892               0    1.593849  3.288082\n",
       "3          1 -0.048407               1   -1.724316 -1.605850\n",
       "4          0  0.178023               0    0.743506  0.937822\n",
       "...      ...       ...             ...         ...       ...\n",
       "9995       0 -0.553071               0   -0.238007  0.473329\n",
       "9996       0  0.621406               0    0.881636  3.776081\n",
       "9997       1 -0.751467               1   -2.869730 -2.812620\n",
       "9998       0  0.470122               0    2.221021  4.290577\n",
       "9999       0  0.284493               0    1.338886  1.699065\n",
       "\n",
       "[10000 rows x 5 columns]"
      ]
     },
     "execution_count": 23,
     "metadata": {},
     "output_type": "execute_result"
    }
   ],
   "source": [
    "# Data generation and assumptions\n",
    "\n",
    "data = pd.DataFrame(\n",
    "    {\n",
    "        # Half of the population is female.\n",
    "        \"female\": np.random.binomial(1, 0.5, size=10000),\n",
    "        # Innate ability is independent of gender\n",
    "        \"ability\": np.random.normal(size=10000),\n",
    "    }\n",
    ")\n",
    "\n",
    "# All women experience discrimination\n",
    "data[\"discrimination\"] = data.female.copy()\n",
    "# Data generating processes\n",
    "data[\"occupation\"] = (\n",
    "    1\n",
    "    + 2 * data[\"ability\"]\n",
    "    + 0 * data[\"female\"]\n",
    "    - 2 * data[\"discrimination\"]\n",
    "    + np.random.normal(size=10000)\n",
    ")\n",
    "\n",
    "data[\"wage\"] = (\n",
    "    1\n",
    "    - 1 * data[\"discrimination\"]\n",
    "    + 1 * data[\"occupation\"]\n",
    "    + 2 * data[\"ability\"]\n",
    "    + np.random.normal(size=10000)\n",
    ")\n",
    "\n",
    "data"
   ]
  },
  {
   "cell_type": "code",
   "execution_count": 24,
   "metadata": {
    "colab": {
     "base_uri": "https://localhost:8080/",
     "height": 419
    },
    "executionInfo": {
     "elapsed": 431,
     "status": "ok",
     "timestamp": 1615894142536,
     "user": {
      "displayName": "Valentin Danchev",
      "photoUrl": "https://lh3.googleusercontent.com/a-/AOh14Gh90YzToc2qd-IrJXNzgu3LRVLxkU3sMg1swbMwzg=s64",
      "userId": "02219535538470165535"
     },
     "user_tz": 0
    },
    "id": "piKmv41Vy9WA",
    "outputId": "869ae0cc-ca99-4a26-d933-d7617c623dda"
   },
   "outputs": [
    {
     "data": {
      "text/html": [
       "<table style=\"text-align:center\"><tr><td colspan=\"4\" style=\"border-bottom: 1px solid black\"></td></tr><tr><td style=\"text-align:left\"></td><td colspan=\"3\"><em>Dependent variable:wage</em></td></tr><tr><td style=\"text-align:left\"></td><tr><td></td><td colspan=\"1\">Biased Unconditional</td><td colspan=\"1\">Biased</td><td colspan=\"1\">Unbiased Conditional</td></tr><tr><td style=\"text-align:left\"></td><td>(1)</td><td>(2)</td><td>(3)</td></tr><tr><td colspan=\"4\" style=\"border-bottom: 1px solid black\"></td></tr><tr><td style=\"text-align:left\">Intercept</td><td>2.000<sup>***</sup></td><td>0.225<sup>***</sup></td><td>1.029<sup>***</sup></td></tr><tr><td style=\"text-align:left\"></td><td>(0.060)</td><td>(0.020)</td><td>(0.018)</td></tr><tr><td style=\"text-align:left\">ability</td><td></td><td></td><td>2.009<sup>***</sup></td></tr><tr><td style=\"text-align:left\"></td><td></td><td></td><td>(0.023)</td></tr><tr><td style=\"text-align:left\">female</td><td>-3.009<sup>***</sup></td><td>0.586<sup>***</sup></td><td>-1.032<sup>***</sup></td></tr><tr><td style=\"text-align:left\"></td><td>(0.085)</td><td>(0.030)</td><td>(0.029)</td></tr><tr><td style=\"text-align:left\">occupation</td><td></td><td>1.802<sup>***</sup></td><td>0.999<sup>***</sup></td></tr><tr><td style=\"text-align:left\"></td><td></td><td>(0.006)</td><td>(0.010)</td></tr><td colspan=\"4\" style=\"border-bottom: 1px solid black\"></td></tr><tr><td style=\"text-align: left\">Observations</td><td>10,000</td><td>10,000</td><td>10,000</td></tr><tr><td style=\"text-align: left\">R<sup>2</sup></td><td>0.112</td><td>0.909</td><td>0.949</td></tr><tr><td style=\"text-align: left\">Adjusted R<sup>2</sup></td><td>0.112</td><td>0.909</td><td>0.949</td></tr><tr><td style=\"text-align: left\">Residual Std. Error</td><td>4.242 (df=9998)</td><td>1.360 (df=9997)</td><td>1.019 (df=9996)</td></tr><tr><td style=\"text-align: left\">F Statistic</td><td>1257.268<sup>***</sup> (df=1; 9998)</td><td>49770.380<sup>***</sup> (df=2; 9997)</td><td>61654.799<sup>***</sup> (df=3; 9996)</td></tr><tr><td colspan=\"4\" style=\"border-bottom: 1px solid black\"></td></tr><tr><td style=\"text-align: left\">Note:</td>\n",
       " <td colspan=\"3\" style=\"text-align: right\">\n",
       "  <sup>*</sup>p&lt;0.1;\n",
       "  <sup>**</sup>p&lt;0.05;\n",
       "  <sup>***</sup>p&lt;0.01\n",
       " </td></tr></table>"
      ],
      "text/plain": [
       "<stargazer.stargazer.Stargazer at 0x7fd028f18d00>"
      ]
     },
     "execution_count": 24,
     "metadata": {},
     "output_type": "execute_result"
    }
   ],
   "source": [
    "# Regression models\n",
    "model1 = sm.OLS.from_formula(\"wage ~ female\", data=data).fit()\n",
    "model2 = sm.OLS.from_formula(\"wage ~ female + occupation\", data=data).fit()\n",
    "model3 = sm.OLS.from_formula(\"wage ~ female + occupation + ability\", data=data).fit()\n",
    "\n",
    "# Output the three regression model's results as Table\n",
    "stargazer = Stargazer((model1, model2, model3))\n",
    "stargazer.custom_columns(\n",
    "    [\"Biased Unconditional\", \"Biased\", \"Unbiased Conditional\"], [1, 1, 1]\n",
    ")\n",
    "\n",
    "stargazer"
   ]
  },
  {
   "cell_type": "markdown",
   "metadata": {
    "id": "_aysF8MnURt7"
   },
   "source": [
    "#### Questions\n",
    "* What is the true direct effect of discrimination on wages?\n",
    "* Through what channels discrimination impacts wages?\n",
    "* What makes occupation a collider?\n",
    "* What control variables can get rid of the collider bias?"
   ]
  },
  {
   "cell_type": "markdown",
   "metadata": {
    "id": "Fv1jCkgJ25Lo"
   },
   "source": [
    "# References\n",
    "\n",
    "Scott Cunningham. [Causal Inference: The Mixtape](https://mixtape.scunning.com/index.html). Yale University Press.\n",
    "\n",
    "Thomas Caputo. [Teaching Resources for Causal Inference: The Mixtape](https://github.com/tomcaputo/mixtape_learnr). GitHub.  \n",
    "\n",
    "\n",
    "Hernán MA, Robins JM (2020). [Causal Inference: What If](https://cdn1.sph.harvard.edu/wp-content/uploads/sites/1268/2021/01/ciwhatif_hernanrobins_31jan21.pdf). Boca Raton: Chapman & Hall/CRC.\n",
    "\n",
    "Richard McElreath. Chapter 6: The Haunted DAG & The Causal Terror. [Statistical Rethinking: A Bayesian Course with Examples in R and Stan](https://xcelab.net/rm/statistical-rethinking/) (2nd ed). Chapman and Hall/CRC.  \n",
    "\n",
    "Richard McElreath’s lecture on [basic causal inference](https://www.youtube.com/watch?v=l_7yIUqWBmE), collider bias, and back-door criterion.\n",
    "\n",
    "Stephen L. Morgan and Christopher Winship. [Counterfactuals and Causal Inference](https://www.cambridge.org/core/books/counterfactuals-and-causal-inference/5CC81E6DF63C5E5A8B88F79D45E1D1B7). Cambridge University Press.\n"
   ]
  }
 ],
 "metadata": {
  "colab": {
   "authorship_tag": "ABX9TyMlAmqjyVcrQj15GwHrDe5F",
   "collapsed_sections": [],
   "name": "causal_inference.ipynb",
   "provenance": [
    {
     "file_id": "1Rqj6d7BHaC7t9Lz_C37KQDxcyWwfNK9d",
     "timestamp": 1615858735542
    }
   ],
   "toc_visible": true
  },
  "kernelspec": {
   "display_name": "Python 3",
   "language": "python",
   "name": "python3"
  },
  "language_info": {
   "codemirror_mode": {
    "name": "ipython",
    "version": 3
   },
   "file_extension": ".py",
   "mimetype": "text/x-python",
   "name": "python",
   "nbconvert_exporter": "python",
   "pygments_lexer": "ipython3",
   "version": "3.8.5"
  }
 },
 "nbformat": 4,
 "nbformat_minor": 4
}
