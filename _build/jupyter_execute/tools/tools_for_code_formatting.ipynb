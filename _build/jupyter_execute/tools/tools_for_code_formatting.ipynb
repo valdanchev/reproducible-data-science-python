{
 "cells": [
  {
   "cell_type": "markdown",
   "metadata": {},
   "source": [
    "# Tools for Python code formatting\n",
    "\n",
    "The code in the learning resource is validated against the [PEP 8 style guide for Python code](https://peps.python.org/pep-0008/) by executing two automated code style tools—the automated code formatter [Black](https://github.com/psf/black) and the style guide checker [flake8](https://flake8.pycqa.org/en/latest/)—via [nbQA](https://github.com/nbQA-dev/nbQA). nbQA is a tool for notebook code style that allows you to run standard Python code formatters on a Jupyter notebook. \n",
    "\n",
    "This notebook installs and runs on all notebooks these code style tools."
   ]
  },
  {
   "cell_type": "code",
   "execution_count": 1,
   "metadata": {},
   "outputs": [
    {
     "name": "stdout",
     "output_type": "stream",
     "text": [
      "Requirement already satisfied: nbqa in /Users/valentindanchev/opt/anaconda3/lib/python3.8/site-packages (1.3.1)\r\n"
     ]
    },
    {
     "name": "stdout",
     "output_type": "stream",
     "text": [
      "Requirement already satisfied: black in /Users/valentindanchev/opt/anaconda3/lib/python3.8/site-packages (22.3.0)\r\n"
     ]
    },
    {
     "name": "stdout",
     "output_type": "stream",
     "text": [
      "Requirement already satisfied: flake8 in /Users/valentindanchev/opt/anaconda3/lib/python3.8/site-packages (4.0.1)\r\n"
     ]
    },
    {
     "name": "stdout",
     "output_type": "stream",
     "text": [
      "Requirement already satisfied: tokenize-rt>=3.2.0 in /Users/valentindanchev/opt/anaconda3/lib/python3.8/site-packages (from nbqa) (4.2.1)\r\n",
      "Requirement already satisfied: tomli in /Users/valentindanchev/opt/anaconda3/lib/python3.8/site-packages (from nbqa) (2.0.1)\r\n",
      "Requirement already satisfied: ipython>=7.8.0 in /Users/valentindanchev/opt/anaconda3/lib/python3.8/site-packages (from nbqa) (7.32.0)\r\n",
      "Requirement already satisfied: typing-extensions>=3.10.0.0 in /Users/valentindanchev/.local/lib/python3.8/site-packages (from black) (4.0.1)\r\n",
      "Requirement already satisfied: pathspec>=0.9.0 in /Users/valentindanchev/opt/anaconda3/lib/python3.8/site-packages (from black) (0.9.0)\r\n",
      "Requirement already satisfied: platformdirs>=2 in /Users/valentindanchev/opt/anaconda3/lib/python3.8/site-packages (from black) (2.5.2)\r\n",
      "Requirement already satisfied: mypy-extensions>=0.4.3 in /Users/valentindanchev/opt/anaconda3/lib/python3.8/site-packages (from black) (0.4.3)\r\n",
      "Requirement already satisfied: click>=8.0.0 in /Users/valentindanchev/.local/lib/python3.8/site-packages (from black) (8.0.3)\r\n",
      "Requirement already satisfied: pyflakes<2.5.0,>=2.4.0 in /Users/valentindanchev/opt/anaconda3/lib/python3.8/site-packages (from flake8) (2.4.0)\r\n",
      "Requirement already satisfied: mccabe<0.7.0,>=0.6.0 in /Users/valentindanchev/opt/anaconda3/lib/python3.8/site-packages (from flake8) (0.6.1)\r\n",
      "Requirement already satisfied: pycodestyle<2.9.0,>=2.8.0 in /Users/valentindanchev/opt/anaconda3/lib/python3.8/site-packages (from flake8) (2.8.0)\r\n"
     ]
    },
    {
     "name": "stdout",
     "output_type": "stream",
     "text": [
      "Requirement already satisfied: traitlets>=4.2 in /Users/valentindanchev/opt/anaconda3/lib/python3.8/site-packages (from ipython>=7.8.0->nbqa) (5.0.5)\r\n",
      "Requirement already satisfied: setuptools>=18.5 in /Users/valentindanchev/opt/anaconda3/lib/python3.8/site-packages (from ipython>=7.8.0->nbqa) (57.0.0)\r\n",
      "Requirement already satisfied: pickleshare in /Users/valentindanchev/opt/anaconda3/lib/python3.8/site-packages (from ipython>=7.8.0->nbqa) (0.7.5)\r\n",
      "Requirement already satisfied: jedi>=0.16 in /Users/valentindanchev/opt/anaconda3/lib/python3.8/site-packages (from ipython>=7.8.0->nbqa) (0.18.0)\r\n",
      "Requirement already satisfied: appnope in /Users/valentindanchev/opt/anaconda3/lib/python3.8/site-packages (from ipython>=7.8.0->nbqa) (0.1.2)\r\n",
      "Requirement already satisfied: pexpect>4.3 in /Users/valentindanchev/opt/anaconda3/lib/python3.8/site-packages (from ipython>=7.8.0->nbqa) (4.8.0)\r\n",
      "Requirement already satisfied: prompt-toolkit!=3.0.0,!=3.0.1,<3.1.0,>=2.0.0 in /Users/valentindanchev/opt/anaconda3/lib/python3.8/site-packages (from ipython>=7.8.0->nbqa) (3.0.18)\r\n",
      "Requirement already satisfied: pygments in /Users/valentindanchev/opt/anaconda3/lib/python3.8/site-packages (from ipython>=7.8.0->nbqa) (2.9.0)\r\n",
      "Requirement already satisfied: backcall in /Users/valentindanchev/opt/anaconda3/lib/python3.8/site-packages (from ipython>=7.8.0->nbqa) (0.2.0)\r\n",
      "Requirement already satisfied: decorator in /Users/valentindanchev/opt/anaconda3/lib/python3.8/site-packages (from ipython>=7.8.0->nbqa) (5.0.9)\r\n",
      "Requirement already satisfied: matplotlib-inline in /Users/valentindanchev/opt/anaconda3/lib/python3.8/site-packages (from ipython>=7.8.0->nbqa) (0.1.2)\r\n",
      "Requirement already satisfied: parso<0.9.0,>=0.8.0 in /Users/valentindanchev/opt/anaconda3/lib/python3.8/site-packages (from jedi>=0.16->ipython>=7.8.0->nbqa) (0.8.2)\r\n",
      "Requirement already satisfied: ptyprocess>=0.5 in /Users/valentindanchev/opt/anaconda3/lib/python3.8/site-packages (from pexpect>4.3->ipython>=7.8.0->nbqa) (0.7.0)\r\n",
      "Requirement already satisfied: wcwidth in /Users/valentindanchev/opt/anaconda3/lib/python3.8/site-packages (from prompt-toolkit!=3.0.0,!=3.0.1,<3.1.0,>=2.0.0->ipython>=7.8.0->nbqa) (0.2.5)\r\n",
      "Requirement already satisfied: ipython-genutils in /Users/valentindanchev/opt/anaconda3/lib/python3.8/site-packages (from traitlets>=4.2->ipython>=7.8.0->nbqa) (0.2.0)\r\n"
     ]
    },
    {
     "name": "stdout",
     "output_type": "stream",
     "text": [
      "All done! ✨ 🍰 ✨\r\n",
      "11 files left unchanged.\r\n"
     ]
    }
   ],
   "source": [
    "# Install code quality tools\n",
    "!pip install -U nbqa black flake8\n",
    "\n",
    "# Run black on all notebooks in a folder \n",
    "!nbqa black ../notebooks/*.ipynb"
   ]
  },
  {
   "cell_type": "code",
   "execution_count": 2,
   "metadata": {},
   "outputs": [
    {
     "name": "stdout",
     "output_type": "stream",
     "text": [
      "/Users/valentindanchev/Documents/MyJupyterBook/reproducible_data_science_python/reproducible-data-science-python/notebooks/01_end_to_end_data_science_project.ipynb:cell_2:2:1: E402 module level import not at top of file\r\n",
      "/Users/valentindanchev/Documents/MyJupyterBook/reproducible_data_science_python/reproducible-data-science-python/notebooks/01_end_to_end_data_science_project.ipynb:cell_13:2:1: E402 module level import not at top of file\r\n",
      "/Users/valentindanchev/Documents/MyJupyterBook/reproducible_data_science_python/reproducible-data-science-python/notebooks/01_end_to_end_data_science_project.ipynb:cell_13:6:80: E501 line too long (85 > 79 characters)\r\n",
      "/Users/valentindanchev/Documents/MyJupyterBook/reproducible_data_science_python/reproducible-data-science-python/notebooks/01_end_to_end_data_science_project.ipynb:cell_16:18:80: E501 line too long (83 > 79 characters)\r\n",
      "/Users/valentindanchev/Documents/MyJupyterBook/reproducible_data_science_python/reproducible-data-science-python/notebooks/02_python_data_science_on_the_cloud.ipynb:cell_8:2:1: E402 module level import not at top of file\r\n",
      "/Users/valentindanchev/Documents/MyJupyterBook/reproducible_data_science_python/reproducible-data-science-python/notebooks/02_python_data_science_on_the_cloud.ipynb:cell_22:2:1: E402 module level import not at top of file\r\n",
      "/Users/valentindanchev/Documents/MyJupyterBook/reproducible_data_science_python/reproducible-data-science-python/notebooks/02_python_data_science_on_the_cloud.ipynb:cell_23:1:80: E501 line too long (85 > 79 characters)\r\n",
      "/Users/valentindanchev/Documents/MyJupyterBook/reproducible_data_science_python/reproducible-data-science-python/notebooks/02_python_data_science_on_the_cloud.ipynb:cell_29:2:80: E501 line too long (87 > 79 characters)\r\n",
      "/Users/valentindanchev/Documents/MyJupyterBook/reproducible_data_science_python/reproducible-data-science-python/notebooks/02_python_data_science_on_the_cloud.ipynb:cell_33:1:80: E501 line too long (86 > 79 characters)\r\n",
      "/Users/valentindanchev/Documents/MyJupyterBook/reproducible_data_science_python/reproducible-data-science-python/notebooks/03_open_reproducible_workflows.ipynb:cell_2:3:1: F401 'dowhy' imported but unused\r\n",
      "/Users/valentindanchev/Documents/MyJupyterBook/reproducible_data_science_python/reproducible-data-science-python/notebooks/03_open_reproducible_workflows.ipynb:cell_2:3:1: E402 module level import not at top of file\r\n",
      "/Users/valentindanchev/Documents/MyJupyterBook/reproducible_data_science_python/reproducible-data-science-python/notebooks/04_data_design_and_data_wrangling.ipynb:cell_1:6:1: E402 module level import not at top of file\r\n",
      "/Users/valentindanchev/Documents/MyJupyterBook/reproducible_data_science_python/reproducible-data-science-python/notebooks/04_data_design_and_data_wrangling.ipynb:cell_8:4:1: E402 module level import not at top of file\r\n",
      "/Users/valentindanchev/Documents/MyJupyterBook/reproducible_data_science_python/reproducible-data-science-python/notebooks/04_data_design_and_data_wrangling.ipynb:cell_13:2:80: E501 line too long (82 > 79 characters)\r\n",
      "/Users/valentindanchev/Documents/MyJupyterBook/reproducible_data_science_python/reproducible-data-science-python/notebooks/04_data_design_and_data_wrangling.ipynb:cell_17:1:80: E501 line too long (90 > 79 characters)\r\n",
      "/Users/valentindanchev/Documents/MyJupyterBook/reproducible_data_science_python/reproducible-data-science-python/notebooks/04_data_design_and_data_wrangling.ipynb:cell_18:1:80: E501 line too long (88 > 79 characters)\r\n",
      "/Users/valentindanchev/Documents/MyJupyterBook/reproducible_data_science_python/reproducible-data-science-python/notebooks/04_data_design_and_data_wrangling.ipynb:cell_18:2:80: E501 line too long (82 > 79 characters)\r\n",
      "/Users/valentindanchev/Documents/MyJupyterBook/reproducible_data_science_python/reproducible-data-science-python/notebooks/04_data_design_and_data_wrangling.ipynb:cell_24:5:80: E501 line too long (85 > 79 characters)\r\n",
      "/Users/valentindanchev/Documents/MyJupyterBook/reproducible_data_science_python/reproducible-data-science-python/notebooks/04_data_design_and_data_wrangling.ipynb:cell_25:5:80: E501 line too long (85 > 79 characters)\r\n",
      "/Users/valentindanchev/Documents/MyJupyterBook/reproducible_data_science_python/reproducible-data-science-python/notebooks/04_data_design_and_data_wrangling.ipynb:cell_36:2:80: E501 line too long (118 > 79 characters)\r\n",
      "/Users/valentindanchev/Documents/MyJupyterBook/reproducible_data_science_python/reproducible-data-science-python/notebooks/05_data_exploration_and_visualisation.ipynb:cell_1:11:1: E402 module level import not at top of file\r\n",
      "/Users/valentindanchev/Documents/MyJupyterBook/reproducible_data_science_python/reproducible-data-science-python/notebooks/05_data_exploration_and_visualisation.ipynb:cell_1:14:1: E402 module level import not at top of file\r\n",
      "/Users/valentindanchev/Documents/MyJupyterBook/reproducible_data_science_python/reproducible-data-science-python/notebooks/05_data_exploration_and_visualisation.ipynb:cell_1:15:1: E402 module level import not at top of file\r\n",
      "/Users/valentindanchev/Documents/MyJupyterBook/reproducible_data_science_python/reproducible-data-science-python/notebooks/05_data_exploration_and_visualisation.ipynb:cell_2:2:80: E501 line too long (82 > 79 characters)\r\n",
      "/Users/valentindanchev/Documents/MyJupyterBook/reproducible_data_science_python/reproducible-data-science-python/notebooks/05_data_exploration_and_visualisation.ipynb:cell_2:22:80: E501 line too long (82 > 79 characters)\r\n",
      "/Users/valentindanchev/Documents/MyJupyterBook/reproducible_data_science_python/reproducible-data-science-python/notebooks/05_data_exploration_and_visualisation.ipynb:cell_2:23:80: E501 line too long (80 > 79 characters)\r\n",
      "/Users/valentindanchev/Documents/MyJupyterBook/reproducible_data_science_python/reproducible-data-science-python/notebooks/05_data_exploration_and_visualisation.ipynb:cell_3:5:80: E501 line too long (105 > 79 characters)\r\n",
      "/Users/valentindanchev/Documents/MyJupyterBook/reproducible_data_science_python/reproducible-data-science-python/notebooks/05_data_exploration_and_visualisation.ipynb:cell_3:19:80: E501 line too long (86 > 79 characters)\r\n",
      "/Users/valentindanchev/Documents/MyJupyterBook/reproducible_data_science_python/reproducible-data-science-python/notebooks/05_data_exploration_and_visualisation.ipynb:cell_3:20:80: E501 line too long (84 > 79 characters)\r\n",
      "/Users/valentindanchev/Documents/MyJupyterBook/reproducible_data_science_python/reproducible-data-science-python/notebooks/05_data_exploration_and_visualisation.ipynb:cell_3:22:80: E501 line too long (80 > 79 characters)\r\n",
      "/Users/valentindanchev/Documents/MyJupyterBook/reproducible_data_science_python/reproducible-data-science-python/notebooks/05_data_exploration_and_visualisation.ipynb:cell_9:2:80: E501 line too long (85 > 79 characters)\r\n",
      "/Users/valentindanchev/Documents/MyJupyterBook/reproducible_data_science_python/reproducible-data-science-python/notebooks/05_data_exploration_and_visualisation.ipynb:cell_9:14:80: E501 line too long (81 > 79 characters)\r\n",
      "/Users/valentindanchev/Documents/MyJupyterBook/reproducible_data_science_python/reproducible-data-science-python/notebooks/05_data_exploration_and_visualisation.ipynb:cell_14:1:80: E501 line too long (81 > 79 characters)\r\n",
      "/Users/valentindanchev/Documents/MyJupyterBook/reproducible_data_science_python/reproducible-data-science-python/notebooks/05_data_exploration_and_visualisation.ipynb:cell_17:2:80: E501 line too long (85 > 79 characters)\r\n",
      "/Users/valentindanchev/Documents/MyJupyterBook/reproducible_data_science_python/reproducible-data-science-python/notebooks/05_data_exploration_and_visualisation.ipynb:cell_17:5:80: E501 line too long (87 > 79 characters)\r\n",
      "/Users/valentindanchev/Documents/MyJupyterBook/reproducible_data_science_python/reproducible-data-science-python/notebooks/05_data_exploration_and_visualisation.ipynb:cell_18:1:80: E501 line too long (81 > 79 characters)\r\n",
      "/Users/valentindanchev/Documents/MyJupyterBook/reproducible_data_science_python/reproducible-data-science-python/notebooks/05_data_exploration_and_visualisation.ipynb:cell_32:1:80: E501 line too long (80 > 79 characters)\r\n",
      "/Users/valentindanchev/Documents/MyJupyterBook/reproducible_data_science_python/reproducible-data-science-python/notebooks/05_data_exploration_and_visualisation.ipynb:cell_40:3:80: E501 line too long (85 > 79 characters)\r\n",
      "/Users/valentindanchev/Documents/MyJupyterBook/reproducible_data_science_python/reproducible-data-science-python/notebooks/05_data_exploration_and_visualisation.ipynb:cell_42:1:80: E501 line too long (86 > 79 characters)\r\n",
      "/Users/valentindanchev/Documents/MyJupyterBook/reproducible_data_science_python/reproducible-data-science-python/notebooks/05_data_exploration_and_visualisation.ipynb:cell_42:10:80: E501 line too long (87 > 79 characters)\r\n",
      "/Users/valentindanchev/Documents/MyJupyterBook/reproducible_data_science_python/reproducible-data-science-python/notebooks/05_data_exploration_and_visualisation.ipynb:cell_43:1:80: E501 line too long (82 > 79 characters)\r\n",
      "/Users/valentindanchev/Documents/MyJupyterBook/reproducible_data_science_python/reproducible-data-science-python/notebooks/06_pattern_discovery_using_unsupervised_learning.ipynb:cell_1:12:1: E402 module level import not at top of file\r\n",
      "/Users/valentindanchev/Documents/MyJupyterBook/reproducible_data_science_python/reproducible-data-science-python/notebooks/06_pattern_discovery_using_unsupervised_learning.ipynb:cell_1:15:1: E402 module level import not at top of file\r\n",
      "/Users/valentindanchev/Documents/MyJupyterBook/reproducible_data_science_python/reproducible-data-science-python/notebooks/06_pattern_discovery_using_unsupervised_learning.ipynb:cell_1:16:1: E402 module level import not at top of file\r\n",
      "/Users/valentindanchev/Documents/MyJupyterBook/reproducible_data_science_python/reproducible-data-science-python/notebooks/06_pattern_discovery_using_unsupervised_learning.ipynb:cell_1:17:1: E402 module level import not at top of file\r\n",
      "/Users/valentindanchev/Documents/MyJupyterBook/reproducible_data_science_python/reproducible-data-science-python/notebooks/06_pattern_discovery_using_unsupervised_learning.ipynb:cell_4:8:80: E501 line too long (105 > 79 characters)\r\n",
      "/Users/valentindanchev/Documents/MyJupyterBook/reproducible_data_science_python/reproducible-data-science-python/notebooks/06_pattern_discovery_using_unsupervised_learning.ipynb:cell_4:22:80: E501 line too long (86 > 79 characters)\r\n",
      "/Users/valentindanchev/Documents/MyJupyterBook/reproducible_data_science_python/reproducible-data-science-python/notebooks/06_pattern_discovery_using_unsupervised_learning.ipynb:cell_4:23:80: E501 line too long (84 > 79 characters)\r\n",
      "/Users/valentindanchev/Documents/MyJupyterBook/reproducible_data_science_python/reproducible-data-science-python/notebooks/06_pattern_discovery_using_unsupervised_learning.ipynb:cell_4:25:80: E501 line too long (80 > 79 characters)\r\n",
      "/Users/valentindanchev/Documents/MyJupyterBook/reproducible_data_science_python/reproducible-data-science-python/notebooks/06_pattern_discovery_using_unsupervised_learning.ipynb:cell_8:1:80: E501 line too long (88 > 79 characters)\r\n",
      "/Users/valentindanchev/Documents/MyJupyterBook/reproducible_data_science_python/reproducible-data-science-python/notebooks/06_pattern_discovery_using_unsupervised_learning.ipynb:cell_10:2:80: E501 line too long (80 > 79 characters)\r\n",
      "/Users/valentindanchev/Documents/MyJupyterBook/reproducible_data_science_python/reproducible-data-science-python/notebooks/06_pattern_discovery_using_unsupervised_learning.ipynb:cell_10:5:80: E501 line too long (82 > 79 characters)\r\n",
      "/Users/valentindanchev/Documents/MyJupyterBook/reproducible_data_science_python/reproducible-data-science-python/notebooks/06_pattern_discovery_using_unsupervised_learning.ipynb:cell_16:7:80: E501 line too long (86 > 79 characters)\r\n",
      "/Users/valentindanchev/Documents/MyJupyterBook/reproducible_data_science_python/reproducible-data-science-python/notebooks/06_pattern_discovery_using_unsupervised_learning.ipynb:cell_16:9:80: E501 line too long (85 > 79 characters)\r\n",
      "/Users/valentindanchev/Documents/MyJupyterBook/reproducible_data_science_python/reproducible-data-science-python/notebooks/06_pattern_discovery_using_unsupervised_learning.ipynb:cell_18:8:80: E501 line too long (83 > 79 characters)\r\n",
      "/Users/valentindanchev/Documents/MyJupyterBook/reproducible_data_science_python/reproducible-data-science-python/notebooks/06_pattern_discovery_using_unsupervised_learning.ipynb:cell_30:15:80: E501 line too long (85 > 79 characters)\r\n",
      "/Users/valentindanchev/Documents/MyJupyterBook/reproducible_data_science_python/reproducible-data-science-python/notebooks/06_pattern_discovery_using_unsupervised_learning.ipynb:cell_30:28:80: E501 line too long (80 > 79 characters)\r\n",
      "/Users/valentindanchev/Documents/MyJupyterBook/reproducible_data_science_python/reproducible-data-science-python/notebooks/06_pattern_discovery_using_unsupervised_learning.ipynb:cell_31:15:80: E501 line too long (85 > 79 characters)\r\n",
      "/Users/valentindanchev/Documents/MyJupyterBook/reproducible_data_science_python/reproducible-data-science-python/notebooks/06_pattern_discovery_using_unsupervised_learning.ipynb:cell_31:33:80: E501 line too long (85 > 79 characters)\r\n",
      "/Users/valentindanchev/Documents/MyJupyterBook/reproducible_data_science_python/reproducible-data-science-python/notebooks/06_pattern_discovery_using_unsupervised_learning.ipynb:cell_31:40:80: E501 line too long (80 > 79 characters)\r\n",
      "/Users/valentindanchev/Documents/MyJupyterBook/reproducible_data_science_python/reproducible-data-science-python/notebooks/06_pattern_discovery_using_unsupervised_learning.ipynb:cell_33:27:80: E501 line too long (80 > 79 characters)\r\n",
      "/Users/valentindanchev/Documents/MyJupyterBook/reproducible_data_science_python/reproducible-data-science-python/notebooks/06_pattern_discovery_using_unsupervised_learning.ipynb:cell_34:45:80: E501 line too long (80 > 79 characters)\r\n",
      "/Users/valentindanchev/Documents/MyJupyterBook/reproducible_data_science_python/reproducible-data-science-python/notebooks/06_pattern_discovery_using_unsupervised_learning.ipynb:cell_41:11:80: E501 line too long (83 > 79 characters)\r\n",
      "/Users/valentindanchev/Documents/MyJupyterBook/reproducible_data_science_python/reproducible-data-science-python/notebooks/06_pattern_discovery_using_unsupervised_learning.ipynb:cell_42:1:80: E501 line too long (80 > 79 characters)\r\n",
      "/Users/valentindanchev/Documents/MyJupyterBook/reproducible_data_science_python/reproducible-data-science-python/notebooks/06_pattern_discovery_using_unsupervised_learning.ipynb:cell_44:7:80: E501 line too long (81 > 79 characters)\r\n",
      "/Users/valentindanchev/Documents/MyJupyterBook/reproducible_data_science_python/reproducible-data-science-python/notebooks/06_pattern_discovery_using_unsupervised_learning.ipynb:cell_45:2:80: E501 line too long (80 > 79 characters)\r\n",
      "/Users/valentindanchev/Documents/MyJupyterBook/reproducible_data_science_python/reproducible-data-science-python/notebooks/07_prediction_using_supervised_learning.ipynb:cell_2:1:1: E402 module level import not at top of file\r\n",
      "/Users/valentindanchev/Documents/MyJupyterBook/reproducible_data_science_python/reproducible-data-science-python/notebooks/07_prediction_using_supervised_learning.ipynb:cell_2:2:1: E402 module level import not at top of file\r\n",
      "/Users/valentindanchev/Documents/MyJupyterBook/reproducible_data_science_python/reproducible-data-science-python/notebooks/07_prediction_using_supervised_learning.ipynb:cell_2:5:80: E501 line too long (82 > 79 characters)\r\n",
      "/Users/valentindanchev/Documents/MyJupyterBook/reproducible_data_science_python/reproducible-data-science-python/notebooks/07_prediction_using_supervised_learning.ipynb:cell_7:1:1: E402 module level import not at top of file\r\n",
      "/Users/valentindanchev/Documents/MyJupyterBook/reproducible_data_science_python/reproducible-data-science-python/notebooks/07_prediction_using_supervised_learning.ipynb:cell_16:3:1: E402 module level import not at top of file\r\n",
      "/Users/valentindanchev/Documents/MyJupyterBook/reproducible_data_science_python/reproducible-data-science-python/notebooks/07_prediction_using_supervised_learning.ipynb:cell_19:6:80: E501 line too long (86 > 79 characters)\r\n",
      "/Users/valentindanchev/Documents/MyJupyterBook/reproducible_data_science_python/reproducible-data-science-python/notebooks/07_prediction_using_supervised_learning.ipynb:cell_20:2:1: E402 module level import not at top of file\r\n",
      "/Users/valentindanchev/Documents/MyJupyterBook/reproducible_data_science_python/reproducible-data-science-python/notebooks/07_prediction_using_supervised_learning.ipynb:cell_20:4:80: E501 line too long (80 > 79 characters)\r\n",
      "/Users/valentindanchev/Documents/MyJupyterBook/reproducible_data_science_python/reproducible-data-science-python/notebooks/07_prediction_using_supervised_learning.ipynb:cell_23:1:1: E402 module level import not at top of file\r\n",
      "/Users/valentindanchev/Documents/MyJupyterBook/reproducible_data_science_python/reproducible-data-science-python/notebooks/07_prediction_using_supervised_learning.ipynb:cell_23:3:80: E501 line too long (86 > 79 characters)\r\n",
      "/Users/valentindanchev/Documents/MyJupyterBook/reproducible_data_science_python/reproducible-data-science-python/notebooks/07_prediction_using_supervised_learning.ipynb:cell_23:7:80: E501 line too long (85 > 79 characters)\r\n",
      "/Users/valentindanchev/Documents/MyJupyterBook/reproducible_data_science_python/reproducible-data-science-python/notebooks/07_prediction_using_supervised_learning.ipynb:cell_27:1:1: E402 module level import not at top of file\r\n",
      "/Users/valentindanchev/Documents/MyJupyterBook/reproducible_data_science_python/reproducible-data-science-python/notebooks/07_prediction_using_supervised_learning.ipynb:cell_27:2:1: E402 module level import not at top of file\r\n",
      "/Users/valentindanchev/Documents/MyJupyterBook/reproducible_data_science_python/reproducible-data-science-python/notebooks/07_prediction_using_supervised_learning.ipynb:cell_28:5:1: E402 module level import not at top of file\r\n",
      "/Users/valentindanchev/Documents/MyJupyterBook/reproducible_data_science_python/reproducible-data-science-python/notebooks/07_prediction_using_supervised_learning.ipynb:cell_28:9:80: E501 line too long (88 > 79 characters)\r\n",
      "/Users/valentindanchev/Documents/MyJupyterBook/reproducible_data_science_python/reproducible-data-science-python/notebooks/07_prediction_using_supervised_learning.ipynb:cell_31:5:80: E501 line too long (89 > 79 characters)\r\n",
      "/Users/valentindanchev/Documents/MyJupyterBook/reproducible_data_science_python/reproducible-data-science-python/notebooks/07_prediction_using_supervised_learning.ipynb:cell_31:6:80: E501 line too long (88 > 79 characters)\r\n",
      "/Users/valentindanchev/Documents/MyJupyterBook/reproducible_data_science_python/reproducible-data-science-python/notebooks/07_prediction_using_supervised_learning.ipynb:cell_31:7:80: E501 line too long (84 > 79 characters)\r\n",
      "/Users/valentindanchev/Documents/MyJupyterBook/reproducible_data_science_python/reproducible-data-science-python/notebooks/07_prediction_using_supervised_learning.ipynb:cell_31:10:80: E501 line too long (80 > 79 characters)\r\n",
      "/Users/valentindanchev/Documents/MyJupyterBook/reproducible_data_science_python/reproducible-data-science-python/notebooks/07_prediction_using_supervised_learning.ipynb:cell_34:1:80: E501 line too long (80 > 79 characters)\r\n",
      "/Users/valentindanchev/Documents/MyJupyterBook/reproducible_data_science_python/reproducible-data-science-python/notebooks/07_prediction_using_supervised_learning.ipynb:cell_34:2:1: E402 module level import not at top of file\r\n",
      "/Users/valentindanchev/Documents/MyJupyterBook/reproducible_data_science_python/reproducible-data-science-python/notebooks/07_prediction_using_supervised_learning.ipynb:cell_35:1:80: E501 line too long (82 > 79 characters)\r\n",
      "/Users/valentindanchev/Documents/MyJupyterBook/reproducible_data_science_python/reproducible-data-science-python/notebooks/07_prediction_using_supervised_learning.ipynb:cell_37:3:1: E402 module level import not at top of file\r\n",
      "/Users/valentindanchev/Documents/MyJupyterBook/reproducible_data_science_python/reproducible-data-science-python/notebooks/07_prediction_using_supervised_learning.ipynb:cell_40:1:1: E402 module level import not at top of file\r\n",
      "/Users/valentindanchev/Documents/MyJupyterBook/reproducible_data_science_python/reproducible-data-science-python/notebooks/08_causal_inference.ipynb:cell_7:2:1: E402 module level import not at top of file\r\n",
      "/Users/valentindanchev/Documents/MyJupyterBook/reproducible_data_science_python/reproducible-data-science-python/notebooks/08_causal_inference.ipynb:cell_8:1:1: E402 module level import not at top of file\r\n",
      "/Users/valentindanchev/Documents/MyJupyterBook/reproducible_data_science_python/reproducible-data-science-python/notebooks/08_causal_inference.ipynb:cell_8:4:80: E501 line too long (82 > 79 characters)\r\n",
      "/Users/valentindanchev/Documents/MyJupyterBook/reproducible_data_science_python/reproducible-data-science-python/notebooks/08_causal_inference.ipynb:cell_10:2:1: E402 module level import not at top of file\r\n",
      "/Users/valentindanchev/Documents/MyJupyterBook/reproducible_data_science_python/reproducible-data-science-python/notebooks/08_causal_inference.ipynb:cell_13:3:1: E402 module level import not at top of file\r\n",
      "/Users/valentindanchev/Documents/MyJupyterBook/reproducible_data_science_python/reproducible-data-science-python/notebooks/08_causal_inference.ipynb:cell_13:5:80: E501 line too long (83 > 79 characters)\r\n",
      "/Users/valentindanchev/Documents/MyJupyterBook/reproducible_data_science_python/reproducible-data-science-python/notebooks/08_causal_inference.ipynb:cell_15:2:80: E501 line too long (81 > 79 characters)\r\n",
      "/Users/valentindanchev/Documents/MyJupyterBook/reproducible_data_science_python/reproducible-data-science-python/notebooks/08_causal_inference.ipynb:cell_16:2:80: E501 line too long (80 > 79 characters)\r\n",
      "/Users/valentindanchev/Documents/MyJupyterBook/reproducible_data_science_python/reproducible-data-science-python/notebooks/08_causal_inference.ipynb:cell_16:3:80: E501 line too long (80 > 79 characters)\r\n",
      "/Users/valentindanchev/Documents/MyJupyterBook/reproducible_data_science_python/reproducible-data-science-python/notebooks/08_causal_inference.ipynb:cell_17:2:1: E402 module level import not at top of file\r\n",
      "/Users/valentindanchev/Documents/MyJupyterBook/reproducible_data_science_python/reproducible-data-science-python/notebooks/08_causal_inference.ipynb:cell_17:3:1: E402 module level import not at top of file\r\n",
      "/Users/valentindanchev/Documents/MyJupyterBook/reproducible_data_science_python/reproducible-data-science-python/notebooks/08_causal_inference.ipynb:cell_17:4:1: E402 module level import not at top of file\r\n",
      "/Users/valentindanchev/Documents/MyJupyterBook/reproducible_data_science_python/reproducible-data-science-python/notebooks/08_causal_inference.ipynb:cell_17:5:1: E402 module level import not at top of file\r\n",
      "/Users/valentindanchev/Documents/MyJupyterBook/reproducible_data_science_python/reproducible-data-science-python/notebooks/08_causal_inference.ipynb:cell_19:4:80: E501 line too long (85 > 79 characters)\r\n",
      "/Users/valentindanchev/Documents/MyJupyterBook/reproducible_data_science_python/reproducible-data-science-python/notebooks/09_network_analysis.ipynb:cell_1:6:1: F401 'scipy.stats.stats.pearsonr' imported but unused\r\n",
      "/Users/valentindanchev/Documents/MyJupyterBook/reproducible_data_science_python/reproducible-data-science-python/notebooks/09_network_analysis.ipynb:cell_12:4:80: E501 line too long (82 > 79 characters)\r\n",
      "/Users/valentindanchev/Documents/MyJupyterBook/reproducible_data_science_python/reproducible-data-science-python/notebooks/09_network_analysis.ipynb:cell_28:2:80: E501 line too long (117 > 79 characters)\r\n",
      "/Users/valentindanchev/Documents/MyJupyterBook/reproducible_data_science_python/reproducible-data-science-python/notebooks/09_network_analysis.ipynb:cell_34:12:80: E501 line too long (83 > 79 characters)\r\n",
      "/Users/valentindanchev/Documents/MyJupyterBook/reproducible_data_science_python/reproducible-data-science-python/notebooks/09_network_analysis.ipynb:cell_37:3:1: E402 module level import not at top of file\r\n"
     ]
    }
   ],
   "source": [
    "# Run flake8 on all notebooks in a folder\n",
    "!nbqa flake8 ../notebooks/*.ipynb"
   ]
  }
 ],
 "metadata": {
  "kernelspec": {
   "display_name": "Python 3",
   "language": "python",
   "name": "python3"
  },
  "language_info": {
   "codemirror_mode": {
    "name": "ipython",
    "version": 3
   },
   "file_extension": ".py",
   "mimetype": "text/x-python",
   "name": "python",
   "nbconvert_exporter": "python",
   "pygments_lexer": "ipython3",
   "version": "3.8.5"
  }
 },
 "nbformat": 4,
 "nbformat_minor": 4
}