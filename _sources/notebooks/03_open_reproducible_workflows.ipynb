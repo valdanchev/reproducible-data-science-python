{
 "cells": [
  {
   "cell_type": "markdown",
   "metadata": {
    "id": "0b7sKhbYVdy9"
   },
   "source": [
    "# Open Reproducible Data Science Workflow\n",
    "<br>\n",
    "\n",
    "> \"An article about computational science in a scientific publication is _not_ the scholarship itself, it is merely _advertising_ of \n",
    "> the scholarship. The actual scholarship is the complete software development environment and the complete set of instructions which \n",
    "> generated the figures.\"\n",
    ">[— J. B. Buckheit and D. L. Donoho, 1995](https://statweb.stanford.edu/~wavelab/Wavelab_850/wavelab.pdf)\n",
    "\n",
    "<br>\n",
    "\n",
    "> <img src=\"https://github.com/valdanchev/reproducible-data-science-python/blob/master/images/reproducibility_spectrum.png?raw=true\" width=\"600\" height=\"300\">\n",
    ">\n",
    ">[— Marwick et al, 2017, Open science in archaeology](https://eprints.gla.ac.uk/148887/7/148887.pdf)"
   ]
  },
  {
   "cell_type": "markdown",
   "metadata": {
    "id": "S5mtsDgnEnH6"
   },
   "source": [
    "## Key themes\n",
    "\n",
    "* The role of transparency and reproducible workflow in scientific research. \n",
    "* The reproducibility problem.\n",
    "* Plausible sources of the reproducibility problem:\n",
    "  * Biases in data analysis, including p-hacking, HARKing (Hypothesizing After Results are Known), and publication bias\n",
    "  * Lacking transparency of computer code, data, and materials.  \n",
    "* Rules for open and reproducible workflows\n",
    "* Open-source tools for reproducible research, including `Jupyter` and `Colab` notebooks, `Markdown`, dependency management via `pip`, version control.\n",
    "\n",
    "<br>"
   ]
  },
  {
   "cell_type": "markdown",
   "metadata": {
    "id": "hIEgd0rnMXpg"
   },
   "source": [
    "## Learning resources\n",
    "\n",
    "### Concepts\n",
    "\n",
    "<i class=\"fas fa-scroll\"></i> Regina Nuzzo. [How scientists fool themselves – and how they can stop](https://www.nature.com/news/how-scientists-fool-themselves-and-how-they-can-stop-1.18517). Nature.\n",
    "\n",
    "<i class=\"fas fa-scroll\"></i> Christie Aschwanden. [Science Isn’t Broken—It’s just a hell of a lot harder than we give it credit for](https://fivethirtyeight.com/features/science-isnt-broken/#part1). FiveThirtyEight.\n",
    "\n",
    "<i class=\"fas fa-scroll\"></i> Marcus Munafò et al. (2017) [A manifesto for reproducible science](https://www.nature.com/articles/s41562-016-0021). Nature Human Behaviour.\n",
    "\n",
    "<i class=\"fas fa-scroll\"></i> Jeffrey Perkel (2018) [Why Jupyter is data scientists’ computational notebook of choice](https://www.nature.com/articles/d41586-018-07196-1). Nature.\n",
    "\n",
    "<i class=\"fas fa-scroll\"></i> Tom Hardwicke et al. (2019) [Calibrating the scientific ecosystem through meta-research](https://www.annualreviews.org/doi/abs/10.1146/annurev-statistics-031219-041104). Annual Review of Statistics and Its Application.\n",
    "\n",
    "<i class=\"fas fa-book\"></i> Garret Christensen, Jeremy Freese, Edward Miguel (2019) [Chapter 11: Reproducible Workflow. In Transparent and Reproducible Social Science Research: How to Do Open Science](https://www.ucpress.edu/book/9780520296954/transparent-and-reproducible-social-science-research). University of California Press.\n",
    "\n",
    "<i class=\"fas fa-play-circle\"></i> [Reproducibility: The Basics](https://youtu.be/yHXNawfYGYM). (With Brian Nosek)\n",
    "\n",
    "<i class=\"fas fa-play-circle\"></i> [Researcher degrees of freedom](https://www.youtube.com/watch?v=uN3Q-s-CtTc&list=PLAKyhL4GNnqNv4qv0yr0MopAtfBOiT25I&index=4), [P-hacking](https://www.youtube.com/watch?v=V7pvYLZkcK4&list=PLAKyhL4GNnqNv4qv0yr0MopAtfBOiT25I&index=7), and [P-curve](https://www.youtube.com/watch?v=V7pvYLZkcK4&list=PLAKyhL4GNnqNv4qv0yr0MopAtfBOiT25I&index=7). (By Berkeley Initiative for Transparency in the Social Sciences, BITSS)\n",
    "\n",
    "### Tutorials\n",
    "<i class=\"fas fa-play-circle\"></i> [Reproducible Data Analysis in Jupyter](https://jakevdp.github.io/blog/2017/03/03/reproducible-data-analysis-in-jupyter/). Jake Vanderplas.\n",
    "\n",
    "<i class=\"fas fa-play-circle\"></i> [Getting Started With the Open Science Framework (OSF)](https://youtu.be/2TV21gOzfhw). Center for Open Science.\n",
    "\n",
    "<i class=\"fas fa-play-circle\"></i> Data Science Productivity Tools: [Creating a GitHub Repository](https://youtu.be/7slCKVGNoLE?list=UUEHNLIrfyOC_y8qiR7KXJVA), [Using git at the Command Line](https://youtu.be/gSOKxdo5jkw?list=UUEHNLIrfyOC_y8qiR7KXJVA), [Git and GitHub](https://youtu.be/_wFpjY56iKs?list=UUEHNLIrfyOC_y8qiR7KXJVA). Rafael Irizarry.\n",
    "\n",
    "<i class=\"fas fa-code\"></i> [Introduction to Open Reproducible Science Workflows](https://www.earthdatascience.org/courses/intro-to-earth-data-science/open-reproducible-science/). Earth Lab CU Boulder.\n",
    "\n",
    "<i class=\"fas fa-code\"></i> [Welcome To Colaboratory](https://colab.research.google.com/notebooks/welcome.ipynb#scrollTo=lSrWNr3MuFUS). Google Colaboratory.\n",
    "\n",
    "<i class=\"fas fa-code\"></i> [Markdown in Jupyter Notebook](https://www.datacamp.com/community/tutorials/markdown-in-jupyter-notebook). DataCamp.\n",
    "\n",
    "<i class=\"fas fa-code\"></i> [Markdown Guide](https://colab.research.google.com/notebooks/markdown_guide.ipynb#scrollTo=70pYkR9LiOV0). Google Colaboratory.\n",
    "\n",
    "<i class=\"fas fa-code\"></i> [The Markdown Guide](https://www.markdownguide.org). Matt Cone and collaborators.\n",
    "\n",
    "<br>"
   ]
  },
  {
   "cell_type": "markdown",
   "metadata": {
    "id": "nioTdc9SKIUE"
   },
   "source": [
    "# What is computational reproducibility and why it matters?\n",
    "\n",
    "The terms of reproducibility (and computational reproducibility) and replicability are sometimes used interchangeably but they differ. \n",
    "\n",
    "> **Reproducibility** means \"obtaining consistent results using the same input data, computational steps, methods, and conditions of analysis\"; it is synonymous with computational reproducibility.\n",
    "\n",
    "> **Replicability** \"means obtaining consistent results across studies aimed at answering the same scientific question, each of which has obtained its own data.\"\n",
    "\n",
    "> **Why does reproducibility and replicability matter?** \"Reproducibility and replicability are often cited as hallmarks of good science. Being able to reproduce the computational results of another researcher starting with the same data and replicating a previous study to test its results facilitate the self-correcting nature of science.\"\n",
    "\n",
    "> **Why do we study computational reproducibility right now?** \"Computational reproducibility is more prominent now than ever because of the growth in reliance on computing across all of science. When a researcher reports a study and makes the underlying data and code available, those results should be computationally reproducible by another researcher.\"\n",
    "\n",
    "Source: [Reproducibility and Replicability in Science (2019), National Academies of Sciences, Engineering, and Medicine](https://www.nationalacademies.org/our-work/reproducibility-and-replicability-in-science)\n",
    "\n",
    "Our focus is on the _reproducibility_ of our data analysis workflow, and on _computational reproducibility_ in particular."
   ]
  },
  {
   "cell_type": "markdown",
   "metadata": {
    "id": "JbVua3gITq7s"
   },
   "source": [
    "# Open Reproducible Workflow in Jupyter/Colab Notebooks\n",
    "\n",
    "An important aspect of reproducible research is the integration of various components, including data gathering, data manipulation, data analysis and outputs in an open research workflow.\n",
    "\n",
    "The [Jupyter](https://jupyter.org) and [Colab](https://colab.research.google.com/notebooks/intro.ipynb?utm_source=scs-index#) notebooks are an open-source web applications that allow you to create and share documents that contain code, equations, visualisations and narrative text. While a popular tool for [data exploration](https://www.nature.com/articles/d41586-018-07196-1), the notebook can also support your reproducible research workflow by integrating **executable code**, **data inputs**, **results**, and **documentation** within a single notebook, along with **images**, **HTML**, **LaTeX**, **videos** and more.\n",
    "\n",
    "In the previous session, you have learned how to use the Jupyter / Colab notebook to:\n",
    "* run code interactively using the [`Python`](https://www.python.org) programming language and\n",
    "* document your code and outputs using [`Markdown`](https://daringfireball.net/projects/markdown/syntax), an open and easy-to-use markup language for creating formatted text.\n",
    "\n",
    "Writing your `Python` code and `Markdown` documentation within Jupyter/Colab notebooks facilitates open and reproducible science workflow through integration of various components — data inputs, code for data manipulation, analysis, visualisation, and results — within a single file that can be openly shared and communicated with others.\n",
    "\n",
    "The Jupyter/Colab notebooks support reproducibility but do not guarantee it. In fact, a recent [study](https://blog.jetbrains.com/datalore/2020/12/17/we-downloaded-10-000-000-jupyter-notebooks-from-github-this-is-what-we-learned/) of 10 million Jupyter notebooks hosted on GitHub have found that 36 per cent of the notebooks could not be reproduced because the code cells were not originally executed in a linear order. The tool is not sufficient for reproducible data analysis. We also need a reproducible research workflow that helps us transition from [\"nonlinear, interactive, trial-and-error style of exploration to a more linear and reproducible analysis based on organized, packaged, and tested code\" (Jake VanderPlas, 2017)](https://jakevdp.github.io/blog/2017/03/03/reproducible-data-analysis-in-jupyter/).  \n"
   ]
  },
  {
   "cell_type": "markdown",
   "metadata": {
    "id": "hqnQaNVzONjX"
   },
   "source": [
    "<img src=\"https://zenodo.org/api/iiif/v2/0555299a-9eeb-4122-80cd-41ce3ea8b616:47ef35bc-fab9-47f1-9e13-bcd4d63d595a:reproducible_logbook.png/full/750,/0/default.png\" width=\"1200\" height=\"700\">\n",
    "\n",
    "**Figure 1.** _Open and reproducible scientific workflow using Jupyter notebook and related open-source tools_. Source: [Juliette Taka and Nicolas M. Thiery. Publishing reproducible logbooks explainer comic strip. Zenodo. DOI: 10.5281/zenodo.4421040 (2018)](https://zenodo.org/record/4421040#.YInMpC1Q0mk)."
   ]
  },
  {
   "cell_type": "markdown",
   "metadata": {},
   "source": [
    "# Rules for Reproducible Workflow"
   ]
  },
  {
   "cell_type": "markdown",
   "metadata": {
    "id": "Hn_mvvr9_SQp"
   },
   "source": [
    "Let's consider a few [simple rules for reproducible research workflow with Jupyter/Colab notebook (Rule at al, 2019)](https://journals.plos.org/ploscompbiol/article?id=10.1371/journal.pcbi.1007007):\n",
    "\n",
    "> ***Document the process, not just the results*** — \"... make sure to document all your explorations, even (or perhaps especially) those that led to dead ends. These comments will help you remember what you did and ... why you chose a particular parameter value, where you copied a block of code from, or what you found interesting about an intermediate result.\" \n",
    "\n",
    "> ***Use cell divisions to make steps clear*** — \"... try to make each cell in your notebook perform one meaningful step of the analysis that is easy to understand from the code in the cell or the surrounding markdown description. Modularize your code by cells and label the cells with markdown above the cell. Think of each cell as being one paragraph, having one function, or accomplishing one task (for example, create a plot).\"\n",
    "\n",
    "> ***Modularize code*** — \"It is always good practice to avoid duplicate code, but in notebooks, it is especially easy to copy a cell, tweak a few lines, paste the resulting code into a new cell or another notebook, and run it again. This form of experimentation is expedient but makes notebooks difficult to read and nearly impossible to maintain if you want to change the functionality of or fix a bug in the copied code. Instead, wrap code you are about to copy and reuse in a function, which you can then call from as many cells as desired.\"\n",
    "\n",
    "> ***Record dependencies*** — \"Rerunning your analysis in the future will require accessing not only your code but also any module or library that your code relied on.\"\n",
    "\n",
    "> ***Use version control*** — \"Version control is a critical adjunct to notebook use because the interactive nature of notebooks makes it easy to accidentally change or delete important content. Furthermore, since notebooks contain code and code inevitably contains bugs, being able to determine the history of when a given bug you have discovered was introduced to the code versus when it was fixed—and thus what analyses it may have affected—is a key capability in scientific computation.\"\n",
    "\n",
    "   * Git and GitHub are widely used tools for version control [[see Ten Simple Rules for Taking Advantage of Git and GitHub (Perez-Riverol et al, 2016)](https://doi.org/10.1371/journal.pcbi.1004947) but are known to have a steep learning curve. For version control, we will use the built-in Colab functionality Revision history, which can be accessed from `File` —> `Revision history`.\n",
    "\n",
    "> ***Design your notebooks to be read, run, and reused*** — \"... store your notebooks in a public code repository with a clear README file and a liberal open source license granting permission to reuse your code.\"\n",
    "\n",
    "   * Public code repositories that enable code sharing, team collaboration, and open source licensing include [GitHub](https://github.com), [GitLab](https://about.gitlab.com), [Open Science Framework (OSF)](https://osf.io).\n",
    "\n",
    "> ***Share and explain your data*** — \"Having access to a clearly annotated notebook is of little use to those wanting to reproduce or extend your results if the underlying data are locked away. Strive to make your data or a sample of your data publicly available along with the notebook.\"\n",
    "\n",
    "   * Data repositories for medium to large sized anonymized data include [figshare](https://figshare.com/), [zenodo](https://zenodo.org/), and [Dryad](https://datadryad.org/stash/our_mission)."
   ]
  },
  {
   "cell_type": "markdown",
   "metadata": {},
   "source": [
    "# Reproducible research report\n",
    "\n",
    "To create a reproducible research report, use throughout the notebook:\n",
    "* Python code in Code cells\n",
    "* Hashtag symbol `#` in Code cells to introduce a comment line describing your Python code. Code commenting is a very important part of computational data analysis. \n",
    "* Markdown language in Text cells to write up your methods, results, and interpretation.\n",
    "\n",
    "At the end of a session, rerun your notebook from top to bottom using `Restart and run all` (under `Runtime` in the Colab menu bar) to ensure computational reproducibility."
   ]
  },
  {
   "cell_type": "markdown",
   "metadata": {
    "id": "Qe3vec0i-qn_"
   },
   "source": [
    "# Recording dependencies\n",
    "\n",
    "Throughout the textbook, we will refer to the rules for reproducible research workflow. We illustrate below a few simple rules (e.g., comment your code; use cell division to make your steps clear) with a focus on recording software dependencies, which is a key prerequisite for computational reproducibility. \n",
    "\n",
    "Reproducing your data analysis in the future will require reusing not only your data and code but also any module and library as well as their respective versions that you employed in your code. It is a good practice to record those dependencies so that others or your future self (i.e., you in a month's time) can recreate the environment underlying your analysis.\n",
    "\n",
    "Let's first determine your Python version. You can check your Python version in a Code cell by typing `!python --version`."
   ]
  },
  {
   "cell_type": "code",
   "execution_count": 1,
   "metadata": {
    "colab": {
     "base_uri": "https://localhost:8080/"
    },
    "id": "91bvO2HLln5D",
    "outputId": "9e41079e-a65f-4080-d6dc-278434a51a54"
   },
   "outputs": [
    {
     "name": "stdout",
     "output_type": "stream",
     "text": [
      "Python 3.8.5\n"
     ]
    }
   ],
   "source": [
    "# Check Python version\n",
    "!python --version"
   ]
  },
  {
   "cell_type": "markdown",
   "metadata": {
    "id": "gXizOp3wlSEd"
   },
   "source": [
    "To install and manage Python software modules or libraries, you can use a package-management system, such as [`pip`](https://pypi.org/project/pip/). Using `pip`, you can download and install a specific version of a module/library you plan to use in your data analysis. For example, you can install the library for causal inference [`DoWhy`](https://microsoft.github.io/dowhy/example_notebooks/dowhy_simple_example.html#) version [0.6](https://pypi.org/project/dowhy/#id4) released on 03 March 2021 by typing `!pip install doWhy==0.6`. Note that we use two consecutive equal marks `==` called the equality operator instead of a single equal marks `=` which is an assignment operator in Python."
   ]
  },
  {
   "cell_type": "code",
   "execution_count": 2,
   "metadata": {
    "colab": {
     "base_uri": "https://localhost:8080/"
    },
    "id": "pcOP0IWXm08t",
    "outputId": "d5e765ea-e0aa-449a-8573-53bc906eb558"
   },
   "outputs": [],
   "source": [
    "# Install and import a Python library.\n",
    "# The flag -q is short for --quiet and is used to hide output/warnings\n",
    "!pip install -q dowhy==0.6\n",
    "import dowhy"
   ]
  },
  {
   "cell_type": "markdown",
   "metadata": {
    "id": "5jS5LtPBrEob"
   },
   "source": [
    "If many modules and libraries are already preinstalled, as in Colab, you can use `pip` to record the specific version of those modules and libraries. For example, the command `!pip freeze` returns installed modules and libraries listed in alphabetical order."
   ]
  },
  {
   "cell_type": "code",
   "execution_count": 3,
   "metadata": {
    "id": "F0d-Sbo5NhOx",
    "scrolled": true,
    "tags": [
     "output_scroll"
    ]
   },
   "outputs": [
    {
     "name": "stdout",
     "output_type": "stream",
     "text": [
      "alabaster==0.7.12\n",
      "anaconda-client==1.7.2\n",
      "anaconda-navigator==1.10.0\n",
      "anaconda-project==0.8.3\n",
      "anyio==3.1.0\n",
      "applaunchservices==0.2.1\n",
      "appnope @ file:///opt/concourse/worker/volumes/live/5f13e5b3-5355-4541-5fc3-f08850c73cf9/volume/appnope_1606859448618/work\n",
      "appscript @ file:///opt/concourse/worker/volumes/live/50ca4c96-3090-40bb-6981-3a6114ed0af4/volume/appscript_1594840187551/work\n",
      "argh==0.26.2\n",
      "argon2-cffi @ file:///opt/concourse/worker/volumes/live/59af29ac-4890-416e-7ab7-794f8d6f7ecd/volume/argon2-cffi_1596828548321/work\n",
      "arxiv==1.4.2\n",
      "asn1crypto @ file:///tmp/build/80754af9/asn1crypto_1596577642040/work\n",
      "astroid @ file:///opt/concourse/worker/volumes/live/21fd14a9-2a7e-484b-7394-5a9912cdcf80/volume/astroid_1592498459180/work\n",
      "astropy @ file:///opt/concourse/worker/volumes/live/37fbd2b2-7bed-485f-777f-7939107df919/volume/astropy_1606922928626/work\n",
      "async-generator==1.10\n",
      "atomicwrites==1.4.0\n",
      "attrs @ file:///tmp/build/80754af9/attrs_1604765588209/work\n",
      "autopep8 @ file:///tmp/build/80754af9/autopep8_1596578164842/work\n",
      "Babel @ file:///tmp/build/80754af9/babel_1605108370292/work\n",
      "backcall==0.2.0\n",
      "backports.functools-lru-cache @ file:///tmp/build/80754af9/backports.functools_lru_cache_1605305165209/work\n",
      "backports.shutil-get-terminal-size==1.0.0\n",
      "backports.tempfile==1.0\n",
      "backports.weakref==1.0.post1\n",
      "beautifulsoup4 @ file:///tmp/build/80754af9/beautifulsoup4_1601924105527/work\n",
      "bio==0.0.6\n",
      "biopython==1.78\n",
      "bitarray @ file:///opt/concourse/worker/volumes/live/fdfca23e-4dd8-48f7-512d-c4f3db552eeb/volume/bitarray_1605065128338/work\n",
      "bkcharts==0.2\n",
      "black==22.3.0\n",
      "bleach @ file:///tmp/build/80754af9/bleach_1600439572647/work\n",
      "blis==0.7.5\n",
      "bokeh @ file:///opt/concourse/worker/volumes/live/b2253281-9b72-4dcb-624e-e22924b50435/volume/bokeh_1603297849453/work\n",
      "boto==2.49.0\n",
      "Bottleneck==1.3.2\n",
      "Brotli==1.0.9\n",
      "brotlipy==0.7.0\n",
      "catalogue==2.0.6\n",
      "certifi==2020.12.5\n",
      "cffi @ file:///opt/concourse/worker/volumes/live/730e9a28-66f9-4e03-51ad-252ec8e40d81/volume/cffi_1606255126408/work\n",
      "chardet @ file:///opt/concourse/worker/volumes/live/a5a7c56b-23cb-471d-7404-f4130b8aed33/volume/chardet_1605303184529/work\n",
      "charset-normalizer==2.0.12\n",
      "click==8.0.3\n",
      "click-plugins==1.1.1\n",
      "cligj==0.7.2\n",
      "cloudpickle @ file:///tmp/build/80754af9/cloudpickle_1598884132938/work\n",
      "clyent==1.2.2\n",
      "colorama @ file:///tmp/build/80754af9/colorama_1603211150991/work\n",
      "conda==4.9.2\n",
      "conda-build==3.20.5\n",
      "conda-package-handling @ file:///opt/concourse/worker/volumes/live/a7e34989-4c54-4cb6-4156-4e58ee270730/volume/conda-package-handling_1603018121300/work\n",
      "conda-verify==3.4.2\n",
      "contextlib2==0.6.0.post1\n",
      "coverage==5.5\n",
      "cryptography @ file:///opt/concourse/worker/volumes/live/62f9527a-361c-47e5-5709-227a4a523add/volume/cryptography_1605544472602/work\n",
      "cycler==0.10.0\n",
      "cymem==2.0.6\n",
      "Cython @ file:///opt/concourse/worker/volumes/live/c7485e3f-2096-4fd2-7e22-acdb1fbaa2c6/volume/cython_1605457627467/work\n",
      "cytoolz==0.11.0\n",
      "dash==1.21.0\n",
      "dash-core-components==1.17.1\n",
      "dash-html-components==1.1.4\n",
      "dash-table==4.12.0\n",
      "dask @ file:///tmp/build/80754af9/dask-core_1602083700509/work\n",
      "decorator==5.0.9\n",
      "defusedxml==0.6.0\n",
      "delayed==0.11.0b1\n",
      "diff-match-patch @ file:///tmp/build/80754af9/diff-match-patch_1594828741838/work\n",
      "distributed @ file:///opt/concourse/worker/volumes/live/bd66aa48-5cf5-4b60-6ed4-f204fff153f6/volume/distributed_1605066538557/work\n",
      "docopt==0.6.2\n",
      "docutils==0.16\n",
      "dowhy==0.6\n",
      "en-core-web-md @ https://github.com/explosion/spacy-models/releases/download/en_core_web_md-3.2.0/en_core_web_md-3.2.0-py3-none-any.whl\n",
      "en-core-web-sm @ https://github.com/explosion/spacy-models/releases/download/en_core_web_sm-3.2.0/en_core_web_sm-3.2.0-py3-none-any.whl\n",
      "entrypoints==0.3\n",
      "et-xmlfile==1.0.1\n",
      "fastcache==1.1.0\n",
      "feedparser==6.0.8\n",
      "filelock==3.0.12\n",
      "Fiona==1.8.20\n",
      "flake8==4.0.1\n",
      "flake8-nb==0.4.0\n",
      "Flask==1.1.2\n",
      "Flask-Compress==1.10.1\n",
      "fsspec @ file:///tmp/build/80754af9/fsspec_1602684995936/work\n",
      "funcy==1.17\n",
      "future==0.18.2\n",
      "gensim==4.1.2\n",
      "geopandas==0.9.0\n",
      "gevent @ file:///opt/concourse/worker/volumes/live/e6b243ce-c4b8-40bb-4934-ef3bf1c512f2/volume/gevent_1601397552921/work\n",
      "ghp-import==2.0.1\n",
      "gitdb==4.0.7\n",
      "GitPython==3.1.14\n",
      "glob2==0.7\n",
      "gmpy2==2.0.8\n",
      "greenlet @ file:///opt/concourse/worker/volumes/live/02d5d57d-1f11-4cf9-580a-19e679c78dc9/volume/greenlet_1600874049903/work\n",
      "h5py==2.10.0\n",
      "HeapDict==1.0.1\n",
      "hiredis==2.0.0\n",
      "html5lib @ file:///tmp/build/80754af9/html5lib_1593446221756/work\n",
      "idna @ file:///tmp/build/80754af9/idna_1593446292537/work\n",
      "imageio @ file:///tmp/build/80754af9/imageio_1594161405741/work\n",
      "imagesize==1.2.0\n",
      "imbalanced-learn==0.8.0\n",
      "imblearn==0.0\n",
      "importlib-metadata @ file:///tmp/build/80754af9/importlib-metadata_1602276842396/work\n",
      "iniconfig @ file:///tmp/build/80754af9/iniconfig_1602780191262/work\n",
      "intervaltree @ file:///tmp/build/80754af9/intervaltree_1598376443606/work\n",
      "ipykernel @ file:///opt/concourse/worker/volumes/live/88f541d3-5a27-498f-7391-f2e50ca36560/volume/ipykernel_1596206680118/work/dist/ipykernel-5.3.4-py3-none-any.whl\n",
      "ipython==7.32.0\n",
      "ipython-genutils @ file:///tmp/build/80754af9/ipython_genutils_1606773439826/work\n",
      "ipywidgets @ file:///tmp/build/80754af9/ipywidgets_1601490159889/work\n",
      "isort @ file:///tmp/build/80754af9/isort_1602603989581/work\n",
      "itsdangerous==1.1.0\n",
      "jdcal==1.4.1\n",
      "jedi==0.18.0\n",
      "Jinja2==2.11.2\n",
      "joblib==1.1.0\n",
      "json5==0.9.5\n",
      "jsonschema @ file:///tmp/build/80754af9/jsonschema_1602607155483/work\n",
      "jupyter==1.0.0\n",
      "jupyter-black==0.3.1\n",
      "jupyter-book==0.10.2\n",
      "jupyter-cache==0.4.2\n",
      "jupyter-client @ file:///tmp/build/80754af9/jupyter_client_1601311786391/work\n",
      "jupyter-console @ file:///tmp/build/80754af9/jupyter_console_1598884538475/work\n",
      "jupyter-contrib-core==0.3.3\n",
      "jupyter-contrib-nbextensions==0.5.1\n",
      "jupyter-core @ file:///opt/concourse/worker/volumes/live/e8302867-5dbe-440b-7a37-f61bacc38ed8/volume/jupyter_core_1606148993907/work\n",
      "jupyter-highlight-selected-word==0.2.0\n",
      "jupyter-latex-envs==1.4.6\n",
      "jupyter-nbextensions-configurator==0.4.1\n",
      "jupyter-server==1.8.0\n",
      "jupyter-sphinx==0.3.1\n",
      "jupyterbook-latex==0.2.0\n",
      "jupyterlab==3.0.0\n",
      "jupyterlab-code-formatter==1.4.10\n",
      "jupyterlab-pygments @ file:///tmp/build/80754af9/jupyterlab_pygments_1601490720602/work\n",
      "jupyterlab-server==2.5.2\n",
      "jupyterlab-spellchecker==0.5.2\n",
      "jupytext==1.10.3\n",
      "keyring @ file:///opt/concourse/worker/volumes/live/54fc3ec2-338b-44f5-5e13-d62afa6b5820/volume/keyring_1601490916376/work\n",
      "kiwisolver @ file:///opt/concourse/worker/volumes/live/b8936fa6-0e4b-47e7-4fb4-e02dbd4505ee/volume/kiwisolver_1604014598721/work\n",
      "langcodes==3.3.0\n",
      "latexcodec==2.0.1\n",
      "lazy-object-proxy==1.4.3\n",
      "libarchive-c==2.9\n",
      "linkify-it-py==1.0.1\n",
      "llvmlite==0.34.0\n",
      "locket==0.2.0\n",
      "lxml @ file:///opt/concourse/worker/volumes/live/0c49af63-83fd-4e70-550a-65ad2757eabb/volume/lxml_1606516849441/work\n",
      "markdown-it-py==0.6.2\n",
      "MarkupSafe @ file:///opt/concourse/worker/volumes/live/cb778296-98db-45ad-411e-6f726e102dc3/volume/markupsafe_1594371638608/work\n",
      "matplotlib @ file:///opt/concourse/worker/volumes/live/f7797860-f8aa-410c-4a56-72315954816b/volume/matplotlib-base_1603378002957/work\n",
      "matplotlib-inline==0.1.2\n",
      "mccabe==0.6.1\n",
      "mdit-py-plugins==0.2.6\n",
      "mistune @ file:///opt/concourse/worker/volumes/live/95802d64-d39c-491b-74ce-b9326880ca54/volume/mistune_1594373201816/work\n",
      "mkl-fft==1.2.0\n",
      "mkl-random==1.1.1\n",
      "mkl-service==2.3.0\n",
      "mock==4.0.2\n",
      "more-itertools @ file:///tmp/build/80754af9/more-itertools_1605111547926/work\n",
      "mpmath==1.1.0\n",
      "msgpack==1.0.0\n",
      "multipledispatch==0.6.0\n",
      "munch==2.5.0\n",
      "murmurhash==1.0.6\n",
      "mypy-extensions==0.4.3\n",
      "myst-nb==0.12.0\n",
      "myst-parser==0.13.6\n",
      "navigator-updater==0.2.1\n",
      "nbclassic==0.3.1\n",
      "nbclient @ file:///tmp/build/80754af9/nbclient_1602783176460/work\n",
      "nbconvert==5.6.1\n",
      "nbdime==2.1.0\n",
      "nbformat @ file:///tmp/build/80754af9/nbformat_1602783287752/work\n",
      "nbqa==1.3.1\n",
      "nbval==0.9.6\n",
      "nest-asyncio @ file:///tmp/build/80754af9/nest-asyncio_1606153767164/work\n",
      "nested-lookup==0.2.22\n",
      "networkx @ file:///tmp/build/80754af9/networkx_1598376031484/work\n",
      "netwulf==0.1.5\n",
      "nltk==3.6.7\n",
      "nose @ file:///tmp/build/80754af9/nose_1606773131901/work\n",
      "notebook @ file:///opt/concourse/worker/volumes/live/be0f3504-189d-4bae-4e57-c5d6da73ffcd/volume/notebook_1601501605350/work\n",
      "numba @ file:///opt/concourse/worker/volumes/live/ae24c1ca-d916-4043-5919-a843fa33e451/volume/numba_1600084276085/work\n",
      "numexpr==2.8.1\n",
      "numpy @ file:///opt/concourse/worker/volumes/live/5572694e-967a-4c0c-52cf-b53d43e72de9/volume/numpy_and_numpy_base_1603491881791/work\n",
      "numpydoc @ file:///tmp/build/80754af9/numpydoc_1605117425582/work\n",
      "oauthlib==3.2.0\n",
      "olefile==0.46\n",
      "openpyxl @ file:///tmp/build/80754af9/openpyxl_1598113097404/work\n",
      "packaging @ file:///tmp/build/80754af9/packaging_1606930849755/work\n",
      "pandas @ file:///opt/concourse/worker/volumes/live/f14cf8c4-c564-4eff-4b17-158e90dbf88a/volume/pandas_1602088128240/work\n",
      "pandocfilters @ file:///opt/concourse/worker/volumes/live/c330e404-216d-466b-5327-8ce8fe854d3a/volume/pandocfilters_1605120442288/work\n",
      "parso==0.8.2\n",
      "partd==1.1.0\n",
      "path @ file:///opt/concourse/worker/volumes/live/fcdf620c-46d6-4284-4c1e-5b8c3bc6c5c6/volume/path_1596907417277/work\n",
      "pathlib2 @ file:///opt/concourse/worker/volumes/live/de518564-0d9f-405e-472b-38136f0c2169/volume/pathlib2_1594381084269/work\n",
      "pathspec==0.9.0\n",
      "pathtools==0.1.2\n",
      "pathy==0.6.1\n",
      "patsy==0.5.1\n",
      "pep517==0.12.0\n",
      "pep8==1.7.1\n",
      "pexpect @ file:///tmp/build/80754af9/pexpect_1605563209008/work\n",
      "pickleshare @ file:///tmp/build/80754af9/pickleshare_1606932040724/work\n",
      "pigar==0.10.0\n",
      "Pillow @ file:///opt/concourse/worker/volumes/live/991b9a87-3372-4acd-45f9-eaa52701f03c/volume/pillow_1603822262543/work\n",
      "pip-tools==6.6.0\n",
      "pipreqs==0.4.10\n",
      "pipreqsnb==0.2.3\n",
      "pkginfo==1.6.1\n",
      "plac==1.2.0\n",
      "platformdirs==2.5.2\n",
      "plotly==5.1.0\n",
      "pluggy==0.13.1\n",
      "ply==3.11\n",
      "preshed==3.0.6\n",
      "prometheus-client @ file:///tmp/build/80754af9/prometheus_client_1606344362066/work\n",
      "prompt-toolkit==3.0.18\n",
      "psutil @ file:///opt/concourse/worker/volumes/live/ff72f822-991c-4030-4f3a-8c41d3ac4e4f/volume/psutil_1598370232375/work\n",
      "ptyprocess==0.7.0\n",
      "py @ file:///tmp/build/80754af9/py_1593446248552/work\n",
      "pybtex==0.24.0\n",
      "pybtex-docutils==1.0.0\n",
      "pycairo==1.20.0\n",
      "pycodestyle==2.8.0\n",
      "pycosat==0.6.3\n",
      "pycparser @ file:///tmp/build/80754af9/pycparser_1594388511720/work\n",
      "pycurl==7.43.0.6\n",
      "pydantic==1.8.2\n",
      "pydata-sphinx-theme==0.4.3\n",
      "pydocstyle @ file:///tmp/build/80754af9/pydocstyle_1598885001695/work\n",
      "pydot==1.4.2\n",
      "pyerf==1.0.1\n",
      "pyerfa @ file:///opt/concourse/worker/volumes/live/5caffc18-53e2-4c2a-5220-6f94c6152218/volume/pyerfa_1606860213217/work\n",
      "pyflakes==2.4.0\n",
      "pygal==2.4.0\n",
      "pygal-maps-world==1.0.2\n",
      "Pygments==2.9.0\n",
      "pyLDAvis==3.3.1\n",
      "pylint @ file:///opt/concourse/worker/volumes/live/ed0164b6-bcc7-4f6b-7dd4-ad89660b5dcb/volume/pylint_1598624018129/work\n",
      "pyodbc===4.0.0-unsupported\n",
      "pyOpenSSL @ file:///tmp/build/80754af9/pyopenssl_1606517880428/work\n",
      "pyparsing==2.4.7\n",
      "pyproj==3.1.0\n",
      "pyrsistent @ file:///opt/concourse/worker/volumes/live/ff11f3f0-615b-4508-471d-4d9f19fa6657/volume/pyrsistent_1600141727281/work\n",
      "PySocks @ file:///opt/concourse/worker/volumes/live/85a5b906-0e08-41d9-6f59-084cee4e9492/volume/pysocks_1594394636991/work\n",
      "pytest==6.2.4\n",
      "python-dateutil==2.8.1\n",
      "python-igraph==0.7.1.post7\n",
      "python-jsonrpc-server @ file:///tmp/build/80754af9/python-jsonrpc-server_1594397536060/work\n",
      "python-language-server @ file:///opt/concourse/worker/volumes/live/5f0313b4-ff69-4d9d-5c31-e01b223dabd6/volume/python-language-server_1594161914367/work\n",
      "python-louvain==0.14\n",
      "pytz @ file:///tmp/build/80754af9/pytz_1606604771399/work\n",
      "pywaffle==0.6.1\n",
      "PyWavelets @ file:///opt/concourse/worker/volumes/live/ea36e10f-66e8-43ae-511e-c4092764493f/volume/pywavelets_1601658378672/work\n",
      "PyYAML==5.3.1\n",
      "pyzmq==20.0.0\n",
      "QDarkStyle==2.8.1\n",
      "QtAwesome @ file:///tmp/build/80754af9/qtawesome_1602272867890/work\n",
      "qtconsole @ file:///tmp/build/80754af9/qtconsole_1600870028330/work\n",
      "QtPy==1.9.0\n",
      "redis==3.5.3\n",
      "regex==2021.11.10\n",
      "requests==2.27.1\n",
      "requests-oauthlib==1.3.1\n",
      "retrying==1.3.3\n",
      "rope @ file:///tmp/build/80754af9/rope_1602264064449/work\n",
      "rpy2==3.3.6\n",
      "Rtree==0.9.4\n",
      "ruamel_yaml==0.15.87\n",
      "scikit-image==0.17.2\n",
      "scikit-learn==1.0.2\n",
      "scikits.bootstrap==1.0.1\n",
      "scipy @ file:///opt/concourse/worker/volumes/live/851446f6-a052-41c4-4243-67bb78999b49/volume/scipy_1604596178167/work\n",
      "seaborn==0.11.2\n",
      "Send2Trash==1.5.0\n",
      "sgmllib3k==1.0.0\n",
      "Shapely==1.7.1\n",
      "simplegeneric==0.8.1\n",
      "simplejson==3.17.2\n",
      "singledispatch @ file:///tmp/build/80754af9/singledispatch_1602523705405/work\n",
      "six @ file:///opt/concourse/worker/volumes/live/5b31cb27-1e37-4ca5-6e9f-86246eb206d2/volume/six_1605205320872/work\n",
      "sklearn==0.0\n",
      "smart-open==5.2.1\n",
      "smmap==4.0.0\n",
      "sniffio==1.2.0\n",
      "snowballstemmer==2.0.0\n",
      "sortedcollections==1.2.1\n",
      "sortedcontainers @ file:///tmp/build/80754af9/sortedcontainers_1606865132123/work\n",
      "soupsieve==2.0.1\n",
      "spacy==3.2.1\n",
      "spacy-legacy==3.0.8\n",
      "spacy-loggers==1.0.1\n",
      "Sphinx @ file:///tmp/build/80754af9/sphinx_1597428793432/work\n",
      "sphinx-book-theme==0.0.42\n",
      "sphinx-comments==0.0.3\n",
      "sphinx-copybutton==0.3.1\n",
      "sphinx-panels==0.5.2\n",
      "sphinx-thebe==0.0.8\n",
      "sphinx-togglebutton==0.2.3\n",
      "sphinxcontrib-applehelp==1.0.2\n",
      "sphinxcontrib-bibtex==2.1.4\n",
      "sphinxcontrib-devhelp==1.0.2\n",
      "sphinxcontrib-htmlhelp==1.0.3\n",
      "sphinxcontrib-jsmath==1.0.1\n",
      "sphinxcontrib-qthelp==1.0.3\n",
      "sphinxcontrib-serializinghtml==1.1.4\n",
      "sphinxcontrib-websupport @ file:///tmp/build/80754af9/sphinxcontrib-websupport_1597081412696/work\n",
      "spyder @ file:///opt/concourse/worker/volumes/live/93f52c11-6bc0-49a8-541e-aa5e1de1eadc/volume/spyder_1599056974853/work\n",
      "spyder-kernels @ file:///opt/concourse/worker/volumes/live/b4ec5b57-5b3c-42d0-7731-c0691f88ee81/volume/spyder-kernels_1599056790993/work\n",
      "SQLAlchemy @ file:///opt/concourse/worker/volumes/live/0214475e-3c0a-49a9-6cb8-ab2d5c945bef/volume/sqlalchemy_1603812264100/work\n",
      "srsly==2.4.2\n",
      "stargazer==0.0.5\n",
      "statsmodels==0.12.2\n",
      "sympy @ file:///opt/concourse/worker/volumes/live/d5d0b33b-5c2f-493b-5b67-8149e5531868/volume/sympy_1605119535834/work\n",
      "tables==3.6.1\n",
      "tblib @ file:///tmp/build/80754af9/tblib_1597928476713/work\n",
      "tenacity==8.0.1\n",
      "termcolor==1.1.0\n",
      "terminado==0.9.1\n",
      "testpath==0.4.4\n",
      "textblob==0.17.1\n",
      "thinc==8.0.13\n",
      "threadpoolctl==3.1.0\n",
      "tifffile==2020.10.1\n",
      "tokenize-rt==4.2.1\n",
      "toml @ file:///tmp/build/80754af9/toml_1592853716807/work\n",
      "tomli==2.0.1\n",
      "toolz @ file:///tmp/build/80754af9/toolz_1601054250827/work\n",
      "tornado==6.1\n",
      "tqdm @ file:///tmp/build/80754af9/tqdm_1605303662894/work\n",
      "traitlets @ file:///tmp/build/80754af9/traitlets_1602787416690/work\n",
      "tweepy==4.7.0\n",
      "typer==0.4.0\n",
      "typing_extensions==4.0.1\n",
      "tzlocal==2.1\n",
      "uc-micro-py==1.0.1\n",
      "ujson==1.35\n",
      "unicodecsv==0.14.1\n",
      "urllib3 @ file:///tmp/build/80754af9/urllib3_1603305693037/work\n",
      "version-information==1.0.4\n",
      "wasabi==0.9.0\n",
      "watchdog @ file:///opt/concourse/worker/volumes/live/cc0ee7bb-1065-44c4-5867-0fd5d13729e0/volume/watchdog_1593447373245/work\n",
      "watermark==2.2.0\n",
      "wcwidth @ file:///tmp/build/80754af9/wcwidth_1593447189090/work\n",
      "webencodings==0.5.1\n",
      "websocket-client==1.0.1\n",
      "webweb==0.0.37\n",
      "Werkzeug==1.0.1\n",
      "widgetsnbextension==3.5.1\n",
      "wrapt==1.11.2\n",
      "wurlitzer @ file:///opt/concourse/worker/volumes/live/01a17f3d-eafe-4806-57a1-4b9ef5d1815f/volume/wurlitzer_1594753845129/work\n",
      "xlrd==1.2.0\n",
      "XlsxWriter @ file:///tmp/build/80754af9/xlsxwriter_1602692860603/work\n",
      "xlwings==0.20.8\n",
      "xlwt==1.3.0\n",
      "xmltodict==0.12.0\n",
      "yapf @ file:///tmp/build/80754af9/yapf_1593528177422/work\n",
      "yarg==0.1.9\n",
      "zict==2.0.0\n",
      "zipp @ file:///tmp/build/80754af9/zipp_1604001098328/work\n",
      "zope.event==4.5.0\n",
      "zope.interface @ file:///opt/concourse/worker/volumes/live/de428e3b-00ba-4161-442e-b9e5d25e4219/volume/zope.interface_1602002489816/work\n"
     ]
    }
   ],
   "source": [
    "# List installed packages - listed are both packages available with Colab\n",
    "# and packages we have installed in this session (e.g. the library DoWhy)\n",
    "!pip freeze"
   ]
  },
  {
   "cell_type": "markdown",
   "metadata": {},
   "source": [
    "You can type in `>` following the `!pip freeze` command to save the list of Python packages to a requirements file named `requirements.txt` (details about the `requirements.txt` file are provided at the end of the notebook). The character `>` saves any command output to a file."
   ]
  },
  {
   "cell_type": "code",
   "execution_count": 4,
   "metadata": {},
   "outputs": [],
   "source": [
    "!pip freeze > requirements.txt"
   ]
  },
  {
   "cell_type": "markdown",
   "metadata": {
    "id": "GiBeAE_PYVYS"
   },
   "source": [
    "You can access the version information about a particular package (e.g., numpy or pandas) using the `grep` command. `grep` is a command-line tool which searches for a pattern (in our case, the word `numpy` and the word `pandas`) and prints each line that matches the pattern."
   ]
  },
  {
   "cell_type": "code",
   "execution_count": 5,
   "metadata": {
    "colab": {
     "base_uri": "https://localhost:8080/"
    },
    "id": "TqBJv3AKOSht",
    "outputId": "441bd14f-c249-4747-b295-88e693995cc9",
    "scrolled": true,
    "tags": [
     "output_scroll"
    ]
   },
   "outputs": [
    {
     "name": "stdout",
     "output_type": "stream",
     "text": [
      "numpy @ file:///opt/concourse/worker/volumes/live/5572694e-967a-4c0c-52cf-b53d43e72de9/volume/numpy_and_numpy_base_1603491881791/work\n",
      "numpydoc @ file:///tmp/build/80754af9/numpydoc_1605117425582/work\n",
      "geopandas==0.9.0\n",
      "pandas @ file:///opt/concourse/worker/volumes/live/f14cf8c4-c564-4eff-4b17-158e90dbf88a/volume/pandas_1602088128240/work\n"
     ]
    }
   ],
   "source": [
    "# Return installed libraries that contain\n",
    "# the text 'numpy' or 'pandas' in their name\n",
    "!pip freeze | grep numpy\n",
    "!pip freeze | grep pandas"
   ]
  },
  {
   "cell_type": "markdown",
   "metadata": {
    "id": "Seo-uaOjcSd4"
   },
   "source": [
    "As of April 2021, Colab uses `numpy` 1.19.5 and `pandas` 1.2.0. It is possible to install and import a different version, for example the latest version of pandas (1.2.4) (released on 12 April 2021) by executing the following command:\n",
    "\n",
    "```\n",
    "!pip install pandas==1.2.4\n",
    "import pandas as pd\n",
    "```\n",
    "\n",
    "For the `pip` approach for recording package dependencies to work, we need to keep track of each and all packages we use in a notebook. This may not always be the case, leaving open the possibility for undocumented dependencies in our notebook (when we fail to document one or more packages on which our data analysis depends on). To address this, you can use a notebook extension such as [`watermark`](https://github.com/rasbt/watermark) which will print out a list of your dependencies that are explicitly imported/used in your notebook. "
   ]
  },
  {
   "cell_type": "code",
   "execution_count": 6,
   "metadata": {
    "colab": {
     "base_uri": "https://localhost:8080/"
    },
    "id": "9unptKHirQpY",
    "outputId": "2c5210c5-33d3-4554-8474-15e7c693c780",
    "tags": [
     "output_scroll"
    ]
   },
   "outputs": [],
   "source": [
    "# Install the watermark extension\n",
    "!pip install -q watermark\n",
    "\n",
    "# Load the watermark extension\n",
    "%load_ext watermark"
   ]
  },
  {
   "cell_type": "code",
   "execution_count": 7,
   "metadata": {},
   "outputs": [
    {
     "name": "stdout",
     "output_type": "stream",
     "text": [
      "dowhy: 0.6\n",
      "\n"
     ]
    }
   ],
   "source": [
    "# Show packages that were imported\n",
    "%watermark --iversions"
   ]
  },
  {
   "cell_type": "markdown",
   "metadata": {
    "id": "D5nznyA-rTnp"
   },
   "source": [
    "Once you identify the versions of all dependencies in your notebook, it is a good practice to list them at the bottom of your notebook. In addition, the information is often stored in a `requirements.txt` file on a GitHub repository. The file simply lists all of your package dependencies and their versions in the following format: \n",
    "\n",
    "```\n",
    "IPython==5.5.0\n",
    "pandas==1.2.0\n",
    "dowhy==0.6\n",
    "```\n",
    "\n",
    "You can use the package [`pipreqsnb`](https://pypi.org/project/pipreqsnb/) to automatically save a list of all Python packages (and their versions) used in your current notebook to a file named `requirements.txt`. The file `requirements.txt` will be created in your working directory after you execute the command below."
   ]
  },
  {
   "cell_type": "code",
   "execution_count": 8,
   "metadata": {
    "id": "F0d-Sbo5NhOx",
    "tags": [
     "output_scroll"
    ]
   },
   "outputs": [
    {
     "name": "stdout",
     "output_type": "stream",
     "text": [
      "pipreqs  --savepath ../notebooks/requirements.txt .//__temp_pipreqsnb_folder/\n",
      "INFO: Successfully saved requirements file in ../notebooks/requirements.txt\n"
     ]
    }
   ],
   "source": [
    "# Install the pipreqsnb package\n",
    "!pip install -q pipreqsnb\n",
    "\n",
    "# Run pipreqsnb after specifying the path to the notebook\n",
    "!pipreqsnb ../notebooks/03_open_reproducible_workflows.ipynb"
   ]
  },
  {
   "cell_type": "markdown",
   "metadata": {
    "tags": [
     "output_scroll"
    ]
   },
   "source": [
    "The requirements file (`requirements.txt`) can be then used by tools like [Binder](https://mybinder.org) to build a [Docker container](https://www.docker.com/resources/what-container) that recreates the computational environment (including packages and package versions) you have used in your data analysis, making your code immediately reproducible by others irrespective of their computational environment (e.g., operating system or software  versions). Reproducing your computational environment is a key precondition for others to be able to reproduce your data analysis."
   ]
  }
 ],
 "metadata": {
  "colab": {
   "collapsed_sections": [],
   "name": "open_reproducible_workflows.ipynb",
   "provenance": []
  },
  "kernelspec": {
   "display_name": "Python 3",
   "language": "python",
   "name": "python3"
  },
  "language_info": {
   "codemirror_mode": {
    "name": "ipython",
    "version": 3
   },
   "file_extension": ".py",
   "mimetype": "text/x-python",
   "name": "python",
   "nbconvert_exporter": "python",
   "pygments_lexer": "ipython3",
   "version": "3.8.5"
  },
  "toc-autonumbering": false,
  "toc-showcode": false,
  "toc-showmarkdowntxt": false
 },
 "nbformat": 4,
 "nbformat_minor": 4
}
