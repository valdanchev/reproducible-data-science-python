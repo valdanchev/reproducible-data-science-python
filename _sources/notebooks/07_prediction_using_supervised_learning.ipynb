{
 "cells": [
  {
   "cell_type": "markdown",
   "metadata": {
    "id": "Xe50WtcsQThR"
   },
   "source": [
    "# Learning from Data to Predict"
   ]
  },
  {
   "cell_type": "markdown",
   "metadata": {
    "id": "Vd4oElsKNi0b"
   },
   "source": [
    "### Key themes\n",
    "* The prediction task \n",
    "* Supervised learning \n",
    "* Machine learning tasks — e.g., regression (continuous) and classification (binary) \n",
    "* Building and evaluation of simple prediction models \n",
    "* The problem of model overfitting and strategies to avoid it:\n",
    "  * Splitting the data into training set and testing set\n",
    "  * Cross-validation\n",
    "* Introduction to supervised machine learning algorithms, including _k_-Nearest Neighbors and Logistic Regression"
   ]
  },
  {
   "cell_type": "markdown",
   "metadata": {
    "id": "bRKX0cD2_-QM"
   },
   "source": [
    "### Learning resources\n",
    "<i class=\"fas fa-play-circle\"></i> [Predictability of life trajectories](https://www.youtube.com/watch?v=sOaPTrhB_uU) by Matthew Salganik\n",
    "\n",
    "<i class=\"fas fa-play-circle\"></i> [Introduction to Machine Learning Methods](https://youtu.be/pH-WuMW2rRE?t=1) by Susan Athey\n",
    "\n",
    "<i class=\"fas fa-play-circle\"></i> [Machine Learning with Scikit Learn](https://www.youtube.com/watch?v=HC0J_SPm9co) by Jake VanderPlas\n",
    "\n",
    "<i class=\"fas fa-scroll\"></i> M Molina & F Garip. 2019. [Machine learning for sociology.](https://osf.io/preprints/socarxiv/a6r9g/) _Annual Review of Sociology._ [Link](https://osf.io/preprints/socarxiv/a6r9g/) to an open-access version of the article available at the Open Science Framework.\n",
    "\n",
    "<i class=\"fas fa-book\"></i> Ian Foster, Rayid Ghani, Ron S. Jarmin, Frauke Kreuter, Julia Lane. 2021. [Chapter 7: Machine Learning](https://textbook.coleridgeinitiative.org/chap-ml.html). In _Big Data and Social Science_ (2nd edition).\n",
    "\n",
    "<i class=\"fas fa-book\"></i> Aurélien Géron. 2019. [Chapter 2: End-to-end Machine Learning project](https://github.com/ageron/handson-ml2/blob/master/02_end_to_end_machine_learning_project.ipynb). In _Hands-On Machine Learning with Scikit-Learn, Keras, and TensorFlow_ (2nd Edition). O’Reilly.<br>\n",
    "\n",
    "\n"
   ]
  },
  {
   "cell_type": "markdown",
   "metadata": {
    "id": "k8FhD4vBRm2E"
   },
   "source": [
    "# The Prediction task\n",
    "\n",
    "[Prediction](https://www.tandfonline.com/doi/full/10.1080/09332480.2019.1579578) is a data science task among other data science tasks, including description and causal inference. [Prediction](https://osf.io/preprints/socarxiv/a6r9g/) is the use of data to map some input _(X)_ to  an  output  _(Y)_. The prediction task is called _classification_ when the output variable is categorical (or discrete), and _regression_ when it is continuous. Our focus in this session will be on classification."
   ]
  },
  {
   "cell_type": "markdown",
   "metadata": {
    "id": "nj9-1I0z0OG6"
   },
   "source": [
    "# Prediction tasks in social sciences\n",
    "\n",
    "There are many [prediction problems in social sciences (summarised in Kleinberg et al. 2015)](https://www.ncbi.nlm.nih.gov/pmc/articles/PMC4869349/) that can benefit from (supervised) machine learning, for example: \n",
    "* In child protection, predicting [when kids are in danger](https://www.nytimes.com/2018/01/02/magazine/can-an-algorithm-tell-when-kids-are-in-danger.html); \n",
    "* In the criminal justice system, predicting whether to detain or release arrestees as they await adjudication of their case (e.g., Kleinberg et al. 2015); \n",
    "* In population health, [predicting suicides](https://balkin.blogspot.com/2018/10/artificial-intelligence-for-suicide.html); \n",
    "* In education, predicting which teacher will have the greatest value add (e.g., Rockoff et al., 2011); \n",
    "* In higher education, predicting earlier [university dropouts](https://www.degruyter.com/document/doi/10.1515/jbnst-2019-0006/html);\n",
    "* In labor market policy, predicting unemployment spell length to help workers decide on savings rates and job search strategies;\n",
    "* In social policy, predicting highest risk youth for targeting interventions (e.g., Chandler et al., 2011);\n",
    "* In sociology, predicting [life outcomes (Salganik et al. 2020)](https://www.pnas.org/content/117/15/8398).\n",
    "<br>\n",
    "\n",
    "# Predictions gone wrong\n",
    "Prediction and machine learning models went wrong in a few occasions in different domains, including public health, education, the criminal justice system, and healthcare:\n",
    "* David Lazer et all. [The Parable of Google Flu: Traps in Big Data Analysis.](https://science.sciencemag.org/content/343/6176/1203) Science.  \n",
    "* [What went wrong with the A-level algorithm?](https://www.youtube.com/watch?v=jHtMLEhDOVE) Financial Times.\n",
    "* [Why did the A-level algorithm say no?](https://www.bbc.co.uk/news/education-53787203) BBC.\n",
    "* [Blame the politicians, not the technology, for A-level fiasco.](https://www.ft.com/content/58dcbfaa-740f-4747-8240-bc5ffb412e67). \n",
    "Financial Times.\n",
    "* [Machine Bias](https://www.propublica.org/article/machine-bias-risk-assessments-in-criminal-sentencing). ProPublica.\n",
    "* Ziad Obermeyer at all. [Dissecting racial bias in an algorithm used to manage the health of populations](https://science.sciencemag.org/content/366/6464/447). Science.\n",
    "\n",
    "Regardless of whether you use or not machine learning in your research, knowledge about prediction and machine learning techniques can help you evaluate how those techniques are used across domains and possibly identify ethical challenges and potential biases in those applications. Importantly, such data ethics challenges are found to reside not only in the machine learning algorithms themselves but in the entire [data science 'pipeline' or ecosystem](https://textbook.coleridgeinitiative.org/chap-bias.html)."
   ]
  },
  {
   "cell_type": "markdown",
   "metadata": {
    "id": "lvfm6oEYM2fw"
   },
   "source": [
    "# Supervised learning \n",
    "\n",
    "Learn a model from labeled training data or outcome variable that would enable us to make predictions about unseen or future data. The learning is called supervised because the labels (e.g., email Spam or Ham where 'Ham' is e-mail that is not Spam) of the outcome variable _(Y)_ that guide the learning process are already known. "
   ]
  },
  {
   "cell_type": "markdown",
   "metadata": {
    "id": "UvimpjcVY2Y0"
   },
   "source": [
    "# Research problem: vaccine hesitancy \n",
    "\n",
    "We will aim to predict people who are unlikely to take a coronavirus vaccine _(Y)_ from socio-demographic and health input features _(X)_. An unbiased prediction of individuals who are unlikely to vaccinate can inform targeted public health interventions, including information campaigns disseminating evidence-based information about Covid-19 vaccines."
   ]
  },
  {
   "cell_type": "markdown",
   "metadata": {
    "id": "oIFvEMDWXfy5"
   },
   "source": [
    "# Data: Understanding Society COVID-19\n",
    "\n",
    "We will use data from [The Understanding Society: Covid-19 Study](https://www.understandingsociety.ac.uk/topic/covid-19). The survey asks participants across the UK about their experiences during the COVID-19 outbreak. We use the Wave 6 (November 2020) web-collected survey data. More information about the survey data and questionnaire is available in the study documentation on the [UK Data Service](https://beta.ukdataservice.ac.uk/datacatalogue/studies/study?id=8644#!/documentation) website. \n",
    "\n",
    "The data are safeguarded and is available to users registered with the [UK Data Service](https://beta.ukdataservice.ac.uk/datacatalogue/studies/study?id=8644).\n",
    "\n",
    "<img src=\"https://www.cdcs.ed.ac.uk/files/styles/large_16x9/public/2019-08/Spotlighton_AjaMurray_A4_UKHLS_Logo_positive_RGB_300dpi.jpg?itok=YmQnr_oq\" width=\"400\" height=\"200\" >\n",
    "\n",
    "Once access to the data is obtained, the data needs to be stored securely in your Google Drive and loaded in your private Colab notebook. The data is provided in various file formats, we use the `.tab` file format (`tab` files store data values separated by tabs) which can be easily loaded using `pandas`. The web collected data of the survey from Wave 6 (November 2020) is stored in the file `cf_indresp_w.tab`."
   ]
  },
  {
   "cell_type": "markdown",
   "metadata": {},
   "source": [
    ":::{note}\n",
    "The workflow in this session assumes that learners, first, have registered with the UK Data Service and obtained access to the Understanding Society: Covid-19 Study (Wave 6, November 2020, Web-collected data) and, second, have safely and securely stored the data in their Google Drive as a tab-separated values (TAB) file named `cf_indresp_w.tab`. If you have not registered with the UK Data Service and have not obtained access to the data, you can still read the textbook chapter and follow the analytical steps but would not be able to work interactively with the notebook.\n",
    ":::"
   ]
  },
  {
   "cell_type": "markdown",
   "metadata": {
    "id": "XoR94b2Qgb1i"
   },
   "source": [
    "## Accessing data from your Google Drive\n",
    "After you obtain access to the Understanding Society: Covid-19 Study, 2020, you can upload the Wave 6 (November 2020) data set into your Google Drive. Then you will need to connect your Google Drive to your Google Colab using the code below:   "
   ]
  },
  {
   "cell_type": "code",
   "execution_count": 1,
   "metadata": {
    "colab": {
     "base_uri": "https://localhost:8080/"
    },
    "executionInfo": {
     "elapsed": 30904,
     "status": "ok",
     "timestamp": 1617187655280,
     "user": {
      "displayName": "Valentin Danchev",
      "photoUrl": "https://lh3.googleusercontent.com/a-/AOh14Gh90YzToc2qd-IrJXNzgu3LRVLxkU3sMg1swbMwzg=s64",
      "userId": "02219535538470165535"
     },
     "user_tz": -60
    },
    "id": "rKlaZpndaU8F",
    "outputId": "bfce74ed-9fdb-4fa5-9053-a4dfd1134551"
   },
   "outputs": [],
   "source": [
    "# Import the Drive helper\n",
    "from google.colab import drive\n",
    "\n",
    "# This will prompt for authorization.\n",
    "# Enter your authorisation code and rerun the cell.\n",
    "drive.mount(\"/content/drive\")"
   ]
  },
  {
   "cell_type": "markdown",
   "metadata": {},
   "source": [
    ":::{note}\n",
    "The above code will execute in Colab but will give the following error `ModuleNotFoundError: No module named 'google'` when the notebook is run outside Colab, including when the notebook is executed for the build of the Jupyter Book website.\n",
    ":::"
   ]
  },
  {
   "cell_type": "markdown",
   "metadata": {
    "id": "TOHklF4qjhT9"
   },
   "source": [
    "## Loading the Understanding Society Covid-19 Study (Wave 6, November 2020, Web collected)"
   ]
  },
  {
   "cell_type": "code",
   "execution_count": 86,
   "metadata": {
    "executionInfo": {
     "elapsed": 34322,
     "status": "ok",
     "timestamp": 1617187658699,
     "user": {
      "displayName": "Valentin Danchev",
      "photoUrl": "https://lh3.googleusercontent.com/a-/AOh14Gh90YzToc2qd-IrJXNzgu3LRVLxkU3sMg1swbMwzg=s64",
      "userId": "02219535538470165535"
     },
     "user_tz": -60
    },
    "id": "g2ZWAJnFMr-N"
   },
   "outputs": [],
   "source": [
    "import pandas as pd\n",
    "import numpy as np\n",
    "\n",
    "# Load the Understadning Society COVID-19 Study web collected data, Wave 6\n",
    "# Set the delimeter parameter sep to \"\\t\" which indicates tabs\n",
    "USocietyCovid = pd.read_csv(\n",
    "    \"/content/drive/My Drive/cf_indresp_w.tab\",\n",
    "    sep=\"\\t\",\n",
    ")"
   ]
  },
  {
   "cell_type": "code",
   "execution_count": 89,
   "metadata": {
    "colab": {
     "base_uri": "https://localhost:8080/",
     "height": 394
    },
    "executionInfo": {
     "elapsed": 34687,
     "status": "ok",
     "timestamp": 1617187659066,
     "user": {
      "displayName": "Valentin Danchev",
      "photoUrl": "https://lh3.googleusercontent.com/a-/AOh14Gh90YzToc2qd-IrJXNzgu3LRVLxkU3sMg1swbMwzg=s64",
      "userId": "02219535538470165535"
     },
     "user_tz": -60
    },
    "id": "5S3NdkSrieo8",
    "outputId": "0eb6bd1e-e6d1-45e3-f6c2-c54335e51e4f"
   },
   "outputs": [
    {
     "data": {
      "text/html": [
       "<div>\n",
       "<style scoped>\n",
       "    .dataframe tbody tr th:only-of-type {\n",
       "        vertical-align: middle;\n",
       "    }\n",
       "\n",
       "    .dataframe tbody tr th {\n",
       "        vertical-align: top;\n",
       "    }\n",
       "\n",
       "    .dataframe thead th {\n",
       "        text-align: right;\n",
       "    }\n",
       "</style>\n",
       "<table border=\"1\" class=\"dataframe\">\n",
       "  <thead>\n",
       "    <tr style=\"text-align: right;\">\n",
       "      <th></th>\n",
       "      <th>pidp</th>\n",
       "      <th>psu</th>\n",
       "      <th>strata</th>\n",
       "      <th>birthy</th>\n",
       "      <th>racel_dv</th>\n",
       "      <th>bornuk_dv</th>\n",
       "      <th>i_hidp</th>\n",
       "      <th>j_hidp</th>\n",
       "      <th>k_hidp</th>\n",
       "      <th>i_ioutcome</th>\n",
       "      <th>j_ioutcome</th>\n",
       "      <th>k_ioutcome</th>\n",
       "      <th>cf_welsh</th>\n",
       "      <th>cf_dobchk</th>\n",
       "      <th>cf_age</th>\n",
       "      <th>cf_sex_cv</th>\n",
       "      <th>cf_addrchk</th>\n",
       "      <th>cf_couplewsh</th>\n",
       "      <th>cf_hhnum</th>\n",
       "      <th>cf_personsexa</th>\n",
       "      <th>cf_personsexb</th>\n",
       "      <th>cf_personsexc</th>\n",
       "      <th>cf_personsexd</th>\n",
       "      <th>cf_personsexe</th>\n",
       "      <th>cf_personsexf</th>\n",
       "      <th>cf_personsexg</th>\n",
       "      <th>cf_personsexh</th>\n",
       "      <th>cf_personsexi</th>\n",
       "      <th>cf_personsexj</th>\n",
       "      <th>cf_personsexk</th>\n",
       "      <th>cf_personagea</th>\n",
       "      <th>cf_personageb</th>\n",
       "      <th>cf_personagec</th>\n",
       "      <th>cf_personaged</th>\n",
       "      <th>cf_personagee</th>\n",
       "      <th>cf_personagef</th>\n",
       "      <th>cf_personageg</th>\n",
       "      <th>cf_personageh</th>\n",
       "      <th>cf_personagei</th>\n",
       "      <th>cf_personagej</th>\n",
       "      <th>cf_personagek</th>\n",
       "      <th>cf_relationa</th>\n",
       "      <th>cf_relationb</th>\n",
       "      <th>cf_relationc</th>\n",
       "      <th>cf_relationd</th>\n",
       "      <th>cf_relatione</th>\n",
       "      <th>cf_relationf</th>\n",
       "      <th>cf_relationg</th>\n",
       "      <th>cf_relationh</th>\n",
       "      <th>cf_relationi</th>\n",
       "      <th>cf_relationj</th>\n",
       "      <th>cf_relationk</th>\n",
       "      <th>cf_couple</th>\n",
       "      <th>cf_hhcompa</th>\n",
       "      <th>cf_hhcompb</th>\n",
       "      <th>cf_hhcompc</th>\n",
       "      <th>cf_hhcompd</th>\n",
       "      <th>cf_hhcompe</th>\n",
       "      <th>cf_parent0plus</th>\n",
       "      <th>cf_parent5plus</th>\n",
       "      <th>cf_parent015</th>\n",
       "      <th>cf_parent1619</th>\n",
       "      <th>cf_parent511</th>\n",
       "      <th>cf_parent1217</th>\n",
       "      <th>cf_parent418</th>\n",
       "      <th>cf_scsf1</th>\n",
       "      <th>cf_ff_hadsymp</th>\n",
       "      <th>cf_clinvuln_dv</th>\n",
       "      <th>cf_hadsymp</th>\n",
       "      <th>cf_hassymp</th>\n",
       "      <th>cf_symptoms1</th>\n",
       "      <th>cf_symptoms2</th>\n",
       "      <th>cf_symptoms23</th>\n",
       "      <th>cf_symptoms24</th>\n",
       "      <th>cf_symptoms25</th>\n",
       "      <th>cf_symptoms3</th>\n",
       "      <th>cf_symptoms4</th>\n",
       "      <th>cf_symptoms5</th>\n",
       "      <th>cf_symptoms6</th>\n",
       "      <th>cf_symptoms7</th>\n",
       "      <th>cf_symptoms8</th>\n",
       "      <th>cf_symptoms9</th>\n",
       "      <th>cf_symptoms10</th>\n",
       "      <th>cf_symptoms12</th>\n",
       "      <th>cf_symptoms13</th>\n",
       "      <th>cf_symptoms14</th>\n",
       "      <th>cf_symptoms15</th>\n",
       "      <th>cf_symptoms16</th>\n",
       "      <th>cf_symptoms17</th>\n",
       "      <th>cf_symptoms18</th>\n",
       "      <th>cf_symptoms19</th>\n",
       "      <th>cf_symptoms20</th>\n",
       "      <th>cf_symptoms21</th>\n",
       "      <th>cf_symptoms22</th>\n",
       "      <th>cf_symptoms11</th>\n",
       "      <th>cf_cv19treat</th>\n",
       "      <th>cf_cv19trwhat1</th>\n",
       "      <th>cf_cv19trwhat2</th>\n",
       "      <th>cf_cv19trwhat3</th>\n",
       "      <th>cf_cv19trwhat4</th>\n",
       "      <th>cf_cv19trwhat5</th>\n",
       "      <th>cf_cv19trwhat6</th>\n",
       "      <th>cf_cv19trwhat7</th>\n",
       "      <th>cf_cv19trwhat8</th>\n",
       "      <th>cf_cv19trwhat9</th>\n",
       "      <th>cf_cv19trwhat10</th>\n",
       "      <th>cf_cv19trwhat11</th>\n",
       "      <th>cf_longcovid</th>\n",
       "      <th>cf_lgcvsymp1</th>\n",
       "      <th>cf_lgcvsymp23</th>\n",
       "      <th>cf_lgcvsymp24</th>\n",
       "      <th>cf_lgcvsymp25</th>\n",
       "      <th>cf_lgcvsymp3</th>\n",
       "      <th>cf_lgcvsymp4</th>\n",
       "      <th>cf_lgcvsymp5</th>\n",
       "      <th>cf_lgcvsymp6</th>\n",
       "      <th>cf_lgcvsymp7</th>\n",
       "      <th>cf_lgcvsymp8</th>\n",
       "      <th>cf_lgcvsymp9</th>\n",
       "      <th>cf_lgcvsymp10</th>\n",
       "      <th>cf_lgcvsymp12</th>\n",
       "      <th>cf_lgcvsymp13</th>\n",
       "      <th>cf_lgcvsymp14</th>\n",
       "      <th>cf_lgcvsymp15</th>\n",
       "      <th>cf_lgcvsymp16</th>\n",
       "      <th>cf_lgcvsymp17</th>\n",
       "      <th>cf_lgcvsymp18</th>\n",
       "      <th>cf_lgcvsymp19</th>\n",
       "      <th>cf_lgcvsymp20</th>\n",
       "      <th>cf_lgcvsymp21</th>\n",
       "      <th>cf_lgcvsymp22</th>\n",
       "      <th>cf_lgcvsymp26</th>\n",
       "      <th>cf_lgcvsymp_oth</th>\n",
       "      <th>cf_tested</th>\n",
       "      <th>cf_testresult</th>\n",
       "      <th>cf_testwhen_d</th>\n",
       "      <th>cf_testwhen_m</th>\n",
       "      <th>cf_testwhen_y</th>\n",
       "      <th>cf_hadcovid</th>\n",
       "      <th>cf_testtrace</th>\n",
       "      <th>cf_traceinfo</th>\n",
       "      <th>cf_traceinfoeng</th>\n",
       "      <th>cf_traced</th>\n",
       "      <th>cf_contactcv19t1</th>\n",
       "      <th>cf_contactcv19t5</th>\n",
       "      <th>cf_contactcv19t2</th>\n",
       "      <th>cf_contactcv19t3</th>\n",
       "      <th>cf_contactcv19t4</th>\n",
       "      <th>cf_riskcv19</th>\n",
       "      <th>cf_smartphone</th>\n",
       "      <th>cf_smarttype</th>\n",
       "      <th>cf_smartmodel</th>\n",
       "      <th>cf_covidapp</th>\n",
       "      <th>cf_whynotapp1</th>\n",
       "      <th>cf_whynotapp2</th>\n",
       "      <th>cf_whynotapp3</th>\n",
       "      <th>cf_whynotapp4</th>\n",
       "      <th>cf_whynotapp5</th>\n",
       "      <th>cf_whynotapp6</th>\n",
       "      <th>cf_whynotapp7</th>\n",
       "      <th>cf_whynotapp8</th>\n",
       "      <th>cf_whynotapp9</th>\n",
       "      <th>cf_whynotapp10</th>\n",
       "      <th>cf_whynotapp11</th>\n",
       "      <th>cf_whynotapp_oth</th>\n",
       "      <th>cf_whynotapporder</th>\n",
       "      <th>cf_covidappon</th>\n",
       "      <th>cf_covidappnot1</th>\n",
       "      <th>cf_covidappnot2</th>\n",
       "      <th>cf_covidappnot3</th>\n",
       "      <th>cf_covidappnot_oth</th>\n",
       "      <th>cf_hhsymp</th>\n",
       "      <th>cf_hhsympwho_persona</th>\n",
       "      <th>cf_hhsympwho_personb</th>\n",
       "      <th>cf_hhsympwho_personc</th>\n",
       "      <th>cf_hhsympwho_persond</th>\n",
       "      <th>cf_hhsympwho_persone</th>\n",
       "      <th>cf_hhsympwho_personf</th>\n",
       "      <th>cf_hhsympwho_persong</th>\n",
       "      <th>cf_hhsympwho_personh</th>\n",
       "      <th>cf_hhsympwho_personi</th>\n",
       "      <th>cf_hhsympwho_personj</th>\n",
       "      <th>cf_hhsympwho_personk</th>\n",
       "      <th>cf_hhsympwho_personl</th>\n",
       "      <th>cf_hhsympwho_personm</th>\n",
       "      <th>cf_hhsympwho_personn</th>\n",
       "      <th>cf_hhsympwho_persono</th>\n",
       "      <th>cf_hhsympwho_personp</th>\n",
       "      <th>cf_hhsympwho_personq</th>\n",
       "      <th>cf_hhsympwho_personr</th>\n",
       "      <th>cf_hhsympwho_persons</th>\n",
       "      <th>cf_hhsympwho_persont</th>\n",
       "      <th>cf_hhsympwho_personu</th>\n",
       "      <th>cf_hhsympwho_personv</th>\n",
       "      <th>cf_hhsympwho_personw</th>\n",
       "      <th>cf_hhsympwho_personx</th>\n",
       "      <th>cf_hhsympwho_persony</th>\n",
       "      <th>cf_hhsympwho_none</th>\n",
       "      <th>cf_hhtest</th>\n",
       "      <th>cf_hhtestwho_persona</th>\n",
       "      <th>cf_hhtestwho_personb</th>\n",
       "      <th>cf_hhtestwho_personc</th>\n",
       "      <th>cf_hhtestwho_persond</th>\n",
       "      <th>cf_hhtestwho_persone</th>\n",
       "      <th>cf_hhtestwho_personf</th>\n",
       "      <th>cf_hhtestwho_persong</th>\n",
       "      <th>cf_hhtestwho_personh</th>\n",
       "      <th>cf_hhtestwho_personi</th>\n",
       "      <th>cf_hhtestwho_personj</th>\n",
       "      <th>cf_hhtestwho_personk</th>\n",
       "      <th>cf_hhtestwho_personl</th>\n",
       "      <th>cf_hhtestwho_personm</th>\n",
       "      <th>cf_hhtestwho_personn</th>\n",
       "      <th>cf_hhtestwho_persono</th>\n",
       "      <th>cf_hhtestwho_personp</th>\n",
       "      <th>cf_hhtestwho_personq</th>\n",
       "      <th>cf_hhtestwho_personr</th>\n",
       "      <th>cf_hhtestwho_persons</th>\n",
       "      <th>cf_hhtestwho_persont</th>\n",
       "      <th>cf_hhtestwho_personu</th>\n",
       "      <th>cf_hhtestwho_personv</th>\n",
       "      <th>cf_hhtestwho_personw</th>\n",
       "      <th>cf_hhtestwho_personx</th>\n",
       "      <th>cf_hhtestwho_persony</th>\n",
       "      <th>cf_hhtestwho_none</th>\n",
       "      <th>cf_hhresult_persona</th>\n",
       "      <th>cf_hhresult_personb</th>\n",
       "      <th>cf_hhresult_personc</th>\n",
       "      <th>cf_hhresult_persond</th>\n",
       "      <th>cf_hhresult_persone</th>\n",
       "      <th>cf_hhresult_personf</th>\n",
       "      <th>cf_hhresult_persong</th>\n",
       "      <th>cf_hhresult_personh</th>\n",
       "      <th>cf_hhresult_personi</th>\n",
       "      <th>cf_hhresult_personj</th>\n",
       "      <th>cf_hhresult_personk</th>\n",
       "      <th>cf_hhresult_personl</th>\n",
       "      <th>cf_hhresult_personm</th>\n",
       "      <th>cf_hhresult_personn</th>\n",
       "      <th>cf_hhresult_persono</th>\n",
       "      <th>cf_hhresult_personp</th>\n",
       "      <th>cf_hhresult_personq</th>\n",
       "      <th>cf_hhresult_personr</th>\n",
       "      <th>cf_hhresult_persons</th>\n",
       "      <th>cf_hhresult_persont</th>\n",
       "      <th>cf_hhresult_personu</th>\n",
       "      <th>cf_hhresult_personv</th>\n",
       "      <th>cf_hhresult_personw</th>\n",
       "      <th>cf_hhresult_personx</th>\n",
       "      <th>cf_hhresult_persony</th>\n",
       "      <th>cf_hhtestwhen_d_persona</th>\n",
       "      <th>cf_hhtestwhen_m_persona</th>\n",
       "      <th>cf_hhtestwhen_y_persona</th>\n",
       "      <th>cf_hhtestwhen_d_personb</th>\n",
       "      <th>cf_hhtestwhen_m_personb</th>\n",
       "      <th>cf_hhtestwhen_y_personb</th>\n",
       "      <th>cf_hhtestwhen_d_personc</th>\n",
       "      <th>cf_hhtestwhen_m_personc</th>\n",
       "      <th>cf_hhtestwhen_y_personc</th>\n",
       "      <th>cf_hhtestwhen_d_persond</th>\n",
       "      <th>cf_hhtestwhen_m_persond</th>\n",
       "      <th>cf_hhtestwhen_y_persond</th>\n",
       "      <th>cf_hhtestwhen_d_persone</th>\n",
       "      <th>cf_hhtestwhen_m_persone</th>\n",
       "      <th>cf_hhtestwhen_y_persone</th>\n",
       "      <th>cf_hhtestwhen_d_personf</th>\n",
       "      <th>cf_hhtestwhen_m_personf</th>\n",
       "      <th>cf_hhtestwhen_y_personf</th>\n",
       "      <th>cf_hhtestwhen_d_persong</th>\n",
       "      <th>cf_hhtestwhen_m_persong</th>\n",
       "      <th>cf_hhtestwhen_y_persong</th>\n",
       "      <th>cf_hhtestwhen_d_personh</th>\n",
       "      <th>cf_hhtestwhen_m_personh</th>\n",
       "      <th>cf_hhtestwhen_y_personh</th>\n",
       "      <th>cf_hhtestwhen_d_personi</th>\n",
       "      <th>cf_hhtestwhen_m_personi</th>\n",
       "      <th>cf_hhtestwhen_y_personi</th>\n",
       "      <th>cf_hhtestwhen_d_personj</th>\n",
       "      <th>cf_hhtestwhen_m_personj</th>\n",
       "      <th>cf_hhtestwhen_y_personj</th>\n",
       "      <th>cf_hhtestwhen_d_personk</th>\n",
       "      <th>cf_hhtestwhen_m_personk</th>\n",
       "      <th>cf_hhtestwhen_y_personk</th>\n",
       "      <th>cf_hhtestwhen_d_personl</th>\n",
       "      <th>cf_hhtestwhen_m_personl</th>\n",
       "      <th>cf_hhtestwhen_y_personl</th>\n",
       "      <th>cf_hhtestwhen_d_personm</th>\n",
       "      <th>cf_hhtestwhen_m_personm</th>\n",
       "      <th>cf_hhtestwhen_y_personm</th>\n",
       "      <th>cf_hhtestwhen_d_personn</th>\n",
       "      <th>cf_hhtestwhen_m_personn</th>\n",
       "      <th>cf_hhtestwhen_y_personn</th>\n",
       "      <th>cf_hhtestwhen_d_persono</th>\n",
       "      <th>cf_hhtestwhen_m_persono</th>\n",
       "      <th>cf_hhtestwhen_y_persono</th>\n",
       "      <th>cf_hhtestwhen_d_personp</th>\n",
       "      <th>cf_hhtestwhen_m_personp</th>\n",
       "      <th>cf_hhtestwhen_y_personp</th>\n",
       "      <th>cf_hhtestwhen_d_personq</th>\n",
       "      <th>cf_hhtestwhen_m_personq</th>\n",
       "      <th>cf_hhtestwhen_y_personq</th>\n",
       "      <th>cf_hhtestwhen_d_personr</th>\n",
       "      <th>cf_hhtestwhen_m_personr</th>\n",
       "      <th>cf_hhtestwhen_y_personr</th>\n",
       "      <th>cf_hhtestwhen_d_persons</th>\n",
       "      <th>cf_hhtestwhen_m_persons</th>\n",
       "      <th>cf_hhtestwhen_y_persons</th>\n",
       "      <th>cf_hhtestwhen_d_persont</th>\n",
       "      <th>cf_hhtestwhen_m_persont</th>\n",
       "      <th>cf_hhtestwhen_y_persont</th>\n",
       "      <th>cf_hhtestwhen_d_personu</th>\n",
       "      <th>cf_hhtestwhen_m_personu</th>\n",
       "      <th>cf_hhtestwhen_y_personu</th>\n",
       "      <th>cf_hhtestwhen_d_personv</th>\n",
       "      <th>cf_hhtestwhen_m_personv</th>\n",
       "      <th>cf_hhtestwhen_y_personv</th>\n",
       "      <th>cf_hhtestwhen_d_personw</th>\n",
       "      <th>cf_hhtestwhen_m_personw</th>\n",
       "      <th>cf_hhtestwhen_y_personw</th>\n",
       "      <th>cf_hhtestwhen_d_personx</th>\n",
       "      <th>cf_hhtestwhen_m_personx</th>\n",
       "      <th>cf_hhtestwhen_y_personx</th>\n",
       "      <th>cf_hhtestwhen_d_persony</th>\n",
       "      <th>cf_hhtestwhen_m_persony</th>\n",
       "      <th>cf_hhtestwhen_y_persony</th>\n",
       "      <th>cf_fluinvite</th>\n",
       "      <th>cf_hadflujab</th>\n",
       "      <th>cf_noflujab</th>\n",
       "      <th>cf_nofluinvite</th>\n",
       "      <th>cf_fluinvite50</th>\n",
       "      <th>cf_flusoon</th>\n",
       "      <th>cf_vaxxer</th>\n",
       "      <th>cf_vaxno</th>\n",
       "      <th>cf_vaxwhy</th>\n",
       "      <th>cf_vaxpush1</th>\n",
       "      <th>cf_vaxpush2</th>\n",
       "      <th>cf_vaxpush3</th>\n",
       "      <th>cf_ff_hcond1</th>\n",
       "      <th>cf_ff_hcond2</th>\n",
       "      <th>cf_ff_hcond3</th>\n",
       "      <th>cf_ff_hcond4</th>\n",
       "      <th>cf_ff_hcond5</th>\n",
       "      <th>cf_ff_hcond6</th>\n",
       "      <th>cf_ff_hcond7</th>\n",
       "      <th>cf_ff_hcond8</th>\n",
       "      <th>cf_ff_hcond10</th>\n",
       "      <th>cf_ff_hcond11</th>\n",
       "      <th>cf_ff_hcond12</th>\n",
       "      <th>cf_ff_hcond13</th>\n",
       "      <th>cf_ff_hcond14</th>\n",
       "      <th>cf_ff_hcond15</th>\n",
       "      <th>cf_ff_hcond16</th>\n",
       "      <th>cf_ff_hcond18</th>\n",
       "      <th>cf_ff_hcond19</th>\n",
       "      <th>cf_ff_hcond21</th>\n",
       "      <th>cf_ff_hcond22</th>\n",
       "      <th>cf_ff_hcond23</th>\n",
       "      <th>cf_ff_hcond24</th>\n",
       "      <th>cf_ff_hcond27</th>\n",
       "      <th>cf_ff_hcondhas</th>\n",
       "      <th>cf_ff_pregnow</th>\n",
       "      <th>cf_ff_stillpreg</th>\n",
       "      <th>cf_hcondnew_cv1</th>\n",
       "      <th>cf_hcondnew_cv2</th>\n",
       "      <th>cf_hcondnew_cv3</th>\n",
       "      <th>cf_hcondnew_cv4</th>\n",
       "      <th>cf_hcondnew_cv5</th>\n",
       "      <th>cf_hcondnew_cv6</th>\n",
       "      <th>cf_hcondnew_cv7</th>\n",
       "      <th>cf_hcondnew_cv8</th>\n",
       "      <th>cf_hcondnew_cv11</th>\n",
       "      <th>cf_hcondnew_cv21</th>\n",
       "      <th>cf_hcondnew_cv10</th>\n",
       "      <th>cf_hcondnew_cv12</th>\n",
       "      <th>cf_hcondnew_cv13</th>\n",
       "      <th>cf_hcondnew_cv14</th>\n",
       "      <th>cf_hcondnew_cv15</th>\n",
       "      <th>cf_hcondnew_cv16</th>\n",
       "      <th>cf_hcondnew_cv22</th>\n",
       "      <th>cf_hcondnew_cv19</th>\n",
       "      <th>cf_hcondnew_cv23</th>\n",
       "      <th>cf_hcondnew_cv24</th>\n",
       "      <th>cf_hcondnew_cv27</th>\n",
       "      <th>cf_hcondnew_cv18</th>\n",
       "      <th>cf_hcondnew_cv96</th>\n",
       "      <th>cf_arthtypn</th>\n",
       "      <th>cf_cancertypn_cv1</th>\n",
       "      <th>cf_cancertypn_cv2</th>\n",
       "      <th>cf_cancertypn_cv3</th>\n",
       "      <th>cf_cancertypn_cv4</th>\n",
       "      <th>cf_cancertypn_cv5</th>\n",
       "      <th>cf_cancertypn_cv6</th>\n",
       "      <th>cf_cancertypn_cv8</th>\n",
       "      <th>cf_cancertypn_cv7</th>\n",
       "      <th>cf_mhealthtypn_cv2</th>\n",
       "      <th>cf_mhealthtypn_cv3</th>\n",
       "      <th>cf_mhealthtypn_cv4</th>\n",
       "      <th>cf_mhealthtypn_cv5</th>\n",
       "      <th>cf_mhealthtypn_cv6</th>\n",
       "      <th>cf_mhealthtypn_cv8</th>\n",
       "      <th>cf_mhealthtypn_cv9</th>\n",
       "      <th>cf_mhealthtypn_cv10</th>\n",
       "      <th>cf_mhealthtypn_cv11</th>\n",
       "      <th>cf_mhealthtypn_cv12</th>\n",
       "      <th>cf_mhealthtypn_cv13</th>\n",
       "      <th>cf_mhealthtypn_cv14</th>\n",
       "      <th>cf_mhealthtypn_cv15</th>\n",
       "      <th>cf_mhealthtypn_cv16</th>\n",
       "      <th>cf_mhealthtypn_cv17</th>\n",
       "      <th>cf_mhealthtypn_cv18</th>\n",
       "      <th>cf_mhealthtypn_cv19</th>\n",
       "      <th>cf_mhealthtypn_cv20</th>\n",
       "      <th>cf_hcond_treat1</th>\n",
       "      <th>cf_hcond_treat2</th>\n",
       "      <th>cf_hcond_treat3</th>\n",
       "      <th>cf_hcond_treat4</th>\n",
       "      <th>cf_hcond_treat5</th>\n",
       "      <th>cf_hcond_treat6</th>\n",
       "      <th>cf_treatment1</th>\n",
       "      <th>cf_treatment2</th>\n",
       "      <th>cf_treatment3</th>\n",
       "      <th>cf_treatment4</th>\n",
       "      <th>cf_treatment5</th>\n",
       "      <th>cf_canceltreat</th>\n",
       "      <th>cf_nhsnowgp2</th>\n",
       "      <th>cf_nhsnowpm2</th>\n",
       "      <th>cf_nhsnowop2</th>\n",
       "      <th>cf_nhsnowip2</th>\n",
       "      <th>cf_nhsnow1112</th>\n",
       "      <th>cf_chscnowpharm2</th>\n",
       "      <th>cf_chscnowotcm2</th>\n",
       "      <th>cf_chscnowcarer2</th>\n",
       "      <th>cf_chscnowpsy2</th>\n",
       "      <th>cf_pregnow</th>\n",
       "      <th>cf_stillpreg</th>\n",
       "      <th>cf_pregscan</th>\n",
       "      <th>cf_pregmidwife</th>\n",
       "      <th>cf_pregantenatal</th>\n",
       "      <th>cf_aidhh</th>\n",
       "      <th>cf_aidnum</th>\n",
       "      <th>cf_carehhc1</th>\n",
       "      <th>cf_carehhc2</th>\n",
       "      <th>cf_carehhc3</th>\n",
       "      <th>cf_carehhc4</th>\n",
       "      <th>cf_carehhc5</th>\n",
       "      <th>cf_carehhc6</th>\n",
       "      <th>cf_carehhwho1</th>\n",
       "      <th>cf_carehhwho2</th>\n",
       "      <th>cf_carehhwho3</th>\n",
       "      <th>cf_carehhwho4</th>\n",
       "      <th>cf_carehhwho5</th>\n",
       "      <th>cf_carehhwho6</th>\n",
       "      <th>cf_carehhwho7</th>\n",
       "      <th>cf_carehhwho8</th>\n",
       "      <th>cf_carehhsh</th>\n",
       "      <th>cf_aidhrs_cv</th>\n",
       "      <th>cf_respitenow</th>\n",
       "      <th>cf_caring</th>\n",
       "      <th>cf_carehow1</th>\n",
       "      <th>cf_carehow2</th>\n",
       "      <th>cf_carehow3</th>\n",
       "      <th>cf_carehow4</th>\n",
       "      <th>cf_carehow5</th>\n",
       "      <th>cf_carehow6</th>\n",
       "      <th>cf_carehow7</th>\n",
       "      <th>cf_carehow8</th>\n",
       "      <th>cf_carehow9</th>\n",
       "      <th>cf_carehow10</th>\n",
       "      <th>cf_carewho1</th>\n",
       "      <th>cf_carewho2</th>\n",
       "      <th>cf_carewho3</th>\n",
       "      <th>cf_carewho4</th>\n",
       "      <th>cf_carewho5</th>\n",
       "      <th>cf_carewho6</th>\n",
       "      <th>cf_carewho7</th>\n",
       "      <th>cf_carewho8</th>\n",
       "      <th>cf_help</th>\n",
       "      <th>cf_helpwhat1</th>\n",
       "      <th>cf_helpwhat2</th>\n",
       "      <th>cf_helpwhat3</th>\n",
       "      <th>cf_helpwhat4</th>\n",
       "      <th>cf_helpwhat5</th>\n",
       "      <th>cf_helpwhat6</th>\n",
       "      <th>cf_helpwhat7</th>\n",
       "      <th>cf_helpwhat8</th>\n",
       "      <th>cf_helpwhat9</th>\n",
       "      <th>cf_helpwhat10</th>\n",
       "      <th>cf_helpwho1</th>\n",
       "      <th>cf_helpwho2</th>\n",
       "      <th>cf_helpwho3</th>\n",
       "      <th>cf_helpwho4</th>\n",
       "      <th>cf_helpwho5</th>\n",
       "      <th>cf_helpwho6</th>\n",
       "      <th>cf_helpwho7</th>\n",
       "      <th>cf_helpwho8</th>\n",
       "      <th>cf_sclonely_cv</th>\n",
       "      <th>cf_f2fcontact</th>\n",
       "      <th>cf_f2fcontfreq</th>\n",
       "      <th>cf_phcontact</th>\n",
       "      <th>cf_smcontact</th>\n",
       "      <th>cf_whymove1</th>\n",
       "      <th>cf_whymove2</th>\n",
       "      <th>cf_whymove3</th>\n",
       "      <th>cf_whymove4</th>\n",
       "      <th>cf_whymove5</th>\n",
       "      <th>cf_whymove6</th>\n",
       "      <th>cf_whymove7</th>\n",
       "      <th>cf_whymove8</th>\n",
       "      <th>cf_whymove9</th>\n",
       "      <th>cf_whymove10</th>\n",
       "      <th>cf_whymove11</th>\n",
       "      <th>cf_whymove12</th>\n",
       "      <th>cf_whymove13</th>\n",
       "      <th>cf_hsownd_cv</th>\n",
       "      <th>cf_garden1</th>\n",
       "      <th>cf_garden2</th>\n",
       "      <th>cf_garden3</th>\n",
       "      <th>cf_garden4</th>\n",
       "      <th>cf_garden5</th>\n",
       "      <th>cf_garden6</th>\n",
       "      <th>cf_deskspace</th>\n",
       "      <th>cf_pcnet</th>\n",
       "      <th>cf_expmove</th>\n",
       "      <th>cf_whyexpmove1</th>\n",
       "      <th>cf_whyexpmove2</th>\n",
       "      <th>cf_whyexpmove3</th>\n",
       "      <th>cf_whyexpmove4</th>\n",
       "      <th>cf_whyexpmove5</th>\n",
       "      <th>cf_whyexpmove6</th>\n",
       "      <th>cf_whyexpmove7</th>\n",
       "      <th>cf_whyexpmove8</th>\n",
       "      <th>cf_whyexpmove9</th>\n",
       "      <th>cf_whyexpmove10</th>\n",
       "      <th>cf_whyexpmove11</th>\n",
       "      <th>cf_whyexpmove12</th>\n",
       "      <th>cf_whyexpmove13</th>\n",
       "      <th>cf_ff_semp</th>\n",
       "      <th>cf_ff_sempderived</th>\n",
       "      <th>cf_ff_hours</th>\n",
       "      <th>cf_ff_furlough</th>\n",
       "      <th>cf_ff_stillfurl</th>\n",
       "      <th>cf_ff_sempgovt</th>\n",
       "      <th>cf_ff_blwork</th>\n",
       "      <th>cf_sempchk</th>\n",
       "      <th>cf_semp</th>\n",
       "      <th>cf_sempderived</th>\n",
       "      <th>cf_hours</th>\n",
       "      <th>cf_hrschange112</th>\n",
       "      <th>cf_hrschange11</th>\n",
       "      <th>cf_hrschange12</th>\n",
       "      <th>cf_hrschange13</th>\n",
       "      <th>cf_hrschange14</th>\n",
       "      <th>cf_hrschange15</th>\n",
       "      <th>cf_hrschange116</th>\n",
       "      <th>cf_hrschange16</th>\n",
       "      <th>cf_hrschange113</th>\n",
       "      <th>cf_hrschange17</th>\n",
       "      <th>cf_hrschange18</th>\n",
       "      <th>cf_hrschange19</th>\n",
       "      <th>cf_hrschange114</th>\n",
       "      <th>cf_hrschange110</th>\n",
       "      <th>cf_hrschange115</th>\n",
       "      <th>cf_hrschange111</th>\n",
       "      <th>cf_hrschange28</th>\n",
       "      <th>cf_hrschange21</th>\n",
       "      <th>cf_hrschange22</th>\n",
       "      <th>cf_hrschange23</th>\n",
       "      <th>cf_hrschange24</th>\n",
       "      <th>cf_hrschange25</th>\n",
       "      <th>cf_hrschange29</th>\n",
       "      <th>cf_hrschange26</th>\n",
       "      <th>cf_hrschange210</th>\n",
       "      <th>cf_hrschange27</th>\n",
       "      <th>cf_hrschange315</th>\n",
       "      <th>cf_hrschange31</th>\n",
       "      <th>cf_hrschange32</th>\n",
       "      <th>cf_hrschange33</th>\n",
       "      <th>cf_hrschange34</th>\n",
       "      <th>cf_hrschange35</th>\n",
       "      <th>cf_hrschange319</th>\n",
       "      <th>cf_hrschange36</th>\n",
       "      <th>cf_hrschange316</th>\n",
       "      <th>cf_hrschange37</th>\n",
       "      <th>cf_hrschange38</th>\n",
       "      <th>cf_hrschange39</th>\n",
       "      <th>cf_hrschange310</th>\n",
       "      <th>cf_hrschange311</th>\n",
       "      <th>cf_hrschange312</th>\n",
       "      <th>cf_hrschange317</th>\n",
       "      <th>cf_hrschange313</th>\n",
       "      <th>cf_hrschange318</th>\n",
       "      <th>cf_hrschange314</th>\n",
       "      <th>cf_hrschangeup11</th>\n",
       "      <th>cf_hrschangeup12</th>\n",
       "      <th>cf_hrschangeup13</th>\n",
       "      <th>cf_hrschangeup14</th>\n",
       "      <th>cf_hrschangeup15</th>\n",
       "      <th>cf_hrschangeup16</th>\n",
       "      <th>cf_hrschangeup17</th>\n",
       "      <th>cf_hrschangeup18</th>\n",
       "      <th>cf_hrschangeup19</th>\n",
       "      <th>cf_hrschangeup110</th>\n",
       "      <th>cf_hrschangeup111</th>\n",
       "      <th>cf_hrschangeup112</th>\n",
       "      <th>cf_hrschangeup113</th>\n",
       "      <th>cf_stillfurl</th>\n",
       "      <th>cf_supprob6</th>\n",
       "      <th>cf_supprob8</th>\n",
       "      <th>cf_sempgovt2</th>\n",
       "      <th>cf_netpay_amount</th>\n",
       "      <th>cf_netpay_period</th>\n",
       "      <th>cf_grosspay_amount</th>\n",
       "      <th>cf_grosspay_period</th>\n",
       "      <th>cf_hhearners</th>\n",
       "      <th>cf_hhearn_amount</th>\n",
       "      <th>cf_hhearn_period</th>\n",
       "      <th>cf_hhincome_amount</th>\n",
       "      <th>cf_hhincome_period</th>\n",
       "      <th>cf_ghhincome_amount</th>\n",
       "      <th>cf_ghhincome_period</th>\n",
       "      <th>cf_wah</th>\n",
       "      <th>cf_wktrv_cv1</th>\n",
       "      <th>cf_wktrv_cv2</th>\n",
       "      <th>cf_wktrv_cv3</th>\n",
       "      <th>cf_wktrv_cv4</th>\n",
       "      <th>cf_wktrv_cv5</th>\n",
       "      <th>cf_wktrv_cv6</th>\n",
       "      <th>cf_wktrv_cv7</th>\n",
       "      <th>cf_wktrv_cv8</th>\n",
       "      <th>cf_wktrv_cv9</th>\n",
       "      <th>cf_wktrv_cv10</th>\n",
       "      <th>cf_wktrv_cv11</th>\n",
       "      <th>cf_wktrv_cv12</th>\n",
       "      <th>cf_wktrvfar_cv</th>\n",
       "      <th>cf_trcarfq_cv</th>\n",
       "      <th>cf_trbikefq_cv</th>\n",
       "      <th>cf_trwalkfq</th>\n",
       "      <th>cf_trbusfq_cv</th>\n",
       "      <th>cf_trtrnfq_cv</th>\n",
       "      <th>cf_trtubefq</th>\n",
       "      <th>cf_ff_ucredit</th>\n",
       "      <th>cf_ff_morhol</th>\n",
       "      <th>cf_ff_hsownd_cv</th>\n",
       "      <th>cf_ff_credithol</th>\n",
       "      <th>cf_ucreditb65</th>\n",
       "      <th>cf_ucredit2b65</th>\n",
       "      <th>cf_ucreditadvance65</th>\n",
       "      <th>cf_benefitsamt65</th>\n",
       "      <th>cf_transfers</th>\n",
       "      <th>cf_transfmade1</th>\n",
       "      <th>cf_transfmade2</th>\n",
       "      <th>cf_transfmade3</th>\n",
       "      <th>cf_transfmade4</th>\n",
       "      <th>cf_transfmade5</th>\n",
       "      <th>cf_transfmade6</th>\n",
       "      <th>cf_transfmade7</th>\n",
       "      <th>cf_transfrec1</th>\n",
       "      <th>cf_transfrec2</th>\n",
       "      <th>cf_transfrec3</th>\n",
       "      <th>cf_transfrec4</th>\n",
       "      <th>cf_transfrec5</th>\n",
       "      <th>cf_transfrec6</th>\n",
       "      <th>cf_transfrec7</th>\n",
       "      <th>cf_transfout</th>\n",
       "      <th>cf_transfin</th>\n",
       "      <th>cf_xphs_cv</th>\n",
       "      <th>cf_morhol3</th>\n",
       "      <th>cf_renthol</th>\n",
       "      <th>cf_xpbills_cv</th>\n",
       "      <th>cf_credithol</th>\n",
       "      <th>cf_creditholend</th>\n",
       "      <th>cf_creditholwhich1</th>\n",
       "      <th>cf_creditholwhich2</th>\n",
       "      <th>cf_creditholwhich3</th>\n",
       "      <th>cf_creditholwhich4</th>\n",
       "      <th>cf_creditholwhich5</th>\n",
       "      <th>cf_inoutflows1</th>\n",
       "      <th>cf_inoutflows2</th>\n",
       "      <th>cf_inoutflows9</th>\n",
       "      <th>cf_inoutflows3</th>\n",
       "      <th>cf_inoutflows4</th>\n",
       "      <th>cf_inoutflows5</th>\n",
       "      <th>cf_inoutflows6</th>\n",
       "      <th>cf_inoutflows10</th>\n",
       "      <th>cf_inoutflows7</th>\n",
       "      <th>cf_inoutflows8</th>\n",
       "      <th>cf_save_cv</th>\n",
       "      <th>cf_saved_cv</th>\n",
       "      <th>cf_debtnonmort</th>\n",
       "      <th>cf_debtamt</th>\n",
       "      <th>cf_debt2</th>\n",
       "      <th>cf_debt3</th>\n",
       "      <th>cf_spend</th>\n",
       "      <th>cf_ff_mpcalloc</th>\n",
       "      <th>cf_finnow</th>\n",
       "      <th>cf_finfut_cv3</th>\n",
       "      <th>cf_jobsec</th>\n",
       "      <th>cf_finsec</th>\n",
       "      <th>cf_mpc1</th>\n",
       "      <th>cf_mpc2</th>\n",
       "      <th>cf_mpc31</th>\n",
       "      <th>cf_mpc32</th>\n",
       "      <th>cf_mpc33</th>\n",
       "      <th>cf_mpc34</th>\n",
       "      <th>cf_mpc35</th>\n",
       "      <th>cf_mpc1b</th>\n",
       "      <th>cf_mpc2b</th>\n",
       "      <th>cf_mpc3b1</th>\n",
       "      <th>cf_mpc3b2</th>\n",
       "      <th>cf_mpc3b3</th>\n",
       "      <th>cf_mpc3b4</th>\n",
       "      <th>cf_scopngbhh_cv</th>\n",
       "      <th>cf_nbrcoh3</th>\n",
       "      <th>cf_nbrcoh2</th>\n",
       "      <th>cf_nbrcoh4</th>\n",
       "      <th>cf_scopngbhg</th>\n",
       "      <th>cf_crrace_cv</th>\n",
       "      <th>cf_num418</th>\n",
       "      <th>cf_ch418doba_y</th>\n",
       "      <th>cf_ch418dobb_y</th>\n",
       "      <th>cf_ch418dobc_y</th>\n",
       "      <th>cf_ch418dobd_y</th>\n",
       "      <th>cf_ch418dobe_y</th>\n",
       "      <th>cf_childage_childa</th>\n",
       "      <th>cf_childage_childb</th>\n",
       "      <th>cf_childage_childc</th>\n",
       "      <th>cf_childage_childd</th>\n",
       "      <th>cf_childage_childe</th>\n",
       "      <th>cf_schoollw_childa</th>\n",
       "      <th>cf_schoollw_childb</th>\n",
       "      <th>cf_schoollw_childc</th>\n",
       "      <th>cf_schoollw_childd</th>\n",
       "      <th>cf_schoollw_childe</th>\n",
       "      <th>cf_schoollwdys_childa</th>\n",
       "      <th>cf_schoollwdys_childb</th>\n",
       "      <th>cf_schoollwdys_childc</th>\n",
       "      <th>cf_schoollwdys_childd</th>\n",
       "      <th>cf_schoollwdys_childe</th>\n",
       "      <th>cf_schoollwhrs_childa</th>\n",
       "      <th>cf_schoollwhrs_childb</th>\n",
       "      <th>cf_schoollwhrs_childc</th>\n",
       "      <th>cf_schoollwhrs_childd</th>\n",
       "      <th>cf_schoollwhrs_childe</th>\n",
       "      <th>cf_schoollwgo_childa</th>\n",
       "      <th>cf_schoollwgo_childb</th>\n",
       "      <th>cf_schoollwgo_childc</th>\n",
       "      <th>cf_schoollwgo_childd</th>\n",
       "      <th>cf_schoollwgo_childe</th>\n",
       "      <th>cf_schoolgodys_childa</th>\n",
       "      <th>cf_schoolgodys_childb</th>\n",
       "      <th>cf_schoolgodys_childc</th>\n",
       "      <th>cf_schoolgodys_childd</th>\n",
       "      <th>cf_schoolgodys_childe</th>\n",
       "      <th>cf_schoolgohrs_childa</th>\n",
       "      <th>cf_schoolgohrs_childb</th>\n",
       "      <th>cf_schoolgohrs_childc</th>\n",
       "      <th>cf_schoolgohrs_childd</th>\n",
       "      <th>cf_schoolgohrs_childe</th>\n",
       "      <th>cf_schoolwork_childa</th>\n",
       "      <th>cf_schoolwork_childb</th>\n",
       "      <th>cf_schoolwork_childc</th>\n",
       "      <th>cf_schoolwork_childd</th>\n",
       "      <th>cf_schoolwork_childe</th>\n",
       "      <th>cf_lessonsoff_childa</th>\n",
       "      <th>cf_lessonsoff_childb</th>\n",
       "      <th>cf_lessonsoff_childc</th>\n",
       "      <th>cf_lessonsoff_childd</th>\n",
       "      <th>cf_lessonsoff_childe</th>\n",
       "      <th>cf_lessonson_childa</th>\n",
       "      <th>cf_lessonson_childb</th>\n",
       "      <th>cf_lessonson_childc</th>\n",
       "      <th>cf_lessonson_childd</th>\n",
       "      <th>cf_lessonson_childe</th>\n",
       "      <th>cf_hstime2_childa</th>\n",
       "      <th>cf_hstime2_childb</th>\n",
       "      <th>cf_hstime2_childc</th>\n",
       "      <th>cf_hstime2_childd</th>\n",
       "      <th>cf_hstime2_childe</th>\n",
       "      <th>cf_hshelp2_childa</th>\n",
       "      <th>cf_hshelp2_childb</th>\n",
       "      <th>cf_hshelp2_childc</th>\n",
       "      <th>cf_hshelp2_childd</th>\n",
       "      <th>cf_hshelp2_childe</th>\n",
       "      <th>cf_tutoring1_childa</th>\n",
       "      <th>cf_tutoring2_childa</th>\n",
       "      <th>cf_tutoring3_childa</th>\n",
       "      <th>cf_tutoring1_childb</th>\n",
       "      <th>cf_tutoring2_childb</th>\n",
       "      <th>cf_tutoring3_childb</th>\n",
       "      <th>cf_tutoring1_childc</th>\n",
       "      <th>cf_tutoring2_childc</th>\n",
       "      <th>cf_tutoring3_childc</th>\n",
       "      <th>cf_tutoring1_childd</th>\n",
       "      <th>cf_tutoring2_childd</th>\n",
       "      <th>cf_tutoring3_childd</th>\n",
       "      <th>cf_tutoring1_childe</th>\n",
       "      <th>cf_tutoring2_childe</th>\n",
       "      <th>cf_tutoring3_childe</th>\n",
       "      <th>cf_remedials_childa</th>\n",
       "      <th>cf_remedials_childb</th>\n",
       "      <th>cf_remedials_childc</th>\n",
       "      <th>cf_remedials_childd</th>\n",
       "      <th>cf_remedials_childe</th>\n",
       "      <th>cf_academprg_childa</th>\n",
       "      <th>cf_academprg_childb</th>\n",
       "      <th>cf_academprg_childc</th>\n",
       "      <th>cf_academprg_childd</th>\n",
       "      <th>cf_academprg_childe</th>\n",
       "      <th>cf_cospace1_childa</th>\n",
       "      <th>cf_cospace1_childb</th>\n",
       "      <th>cf_cospace1_childc</th>\n",
       "      <th>cf_cospace1_childd</th>\n",
       "      <th>cf_cospace1_childe</th>\n",
       "      <th>cf_cospace2_childa</th>\n",
       "      <th>cf_cospace2_childb</th>\n",
       "      <th>cf_cospace2_childc</th>\n",
       "      <th>cf_cospace2_childd</th>\n",
       "      <th>cf_cospace2_childe</th>\n",
       "      <th>cf_cospace3_childa</th>\n",
       "      <th>cf_cospace3_childb</th>\n",
       "      <th>cf_cospace3_childc</th>\n",
       "      <th>cf_cospace3_childd</th>\n",
       "      <th>cf_cospace3_childe</th>\n",
       "      <th>cf_cospace4_childa</th>\n",
       "      <th>cf_cospace4_childb</th>\n",
       "      <th>cf_cospace4_childc</th>\n",
       "      <th>cf_cospace4_childd</th>\n",
       "      <th>cf_cospace4_childe</th>\n",
       "      <th>cf_cospace5_childa</th>\n",
       "      <th>cf_cospace5_childb</th>\n",
       "      <th>cf_cospace5_childc</th>\n",
       "      <th>cf_cospace5_childd</th>\n",
       "      <th>cf_cospace5_childe</th>\n",
       "      <th>cf_sclfsato_cv</th>\n",
       "      <th>cf_scghqa</th>\n",
       "      <th>cf_scghqb</th>\n",
       "      <th>cf_scghqc</th>\n",
       "      <th>cf_scghqd</th>\n",
       "      <th>cf_scghqe</th>\n",
       "      <th>cf_scghqf</th>\n",
       "      <th>cf_scghqg</th>\n",
       "      <th>cf_scghqh</th>\n",
       "      <th>cf_scghqi</th>\n",
       "      <th>cf_scghqj</th>\n",
       "      <th>cf_scghqk</th>\n",
       "      <th>cf_scghql</th>\n",
       "      <th>cf_incentives</th>\n",
       "      <th>cf_noemailvoucher</th>\n",
       "      <th>cf_scghq1_dv</th>\n",
       "      <th>cf_scghq2_dv</th>\n",
       "      <th>cf_outcome</th>\n",
       "      <th>cf_lastq</th>\n",
       "      <th>cf_lastmodule</th>\n",
       "      <th>cf_link</th>\n",
       "      <th>cf_surveystart</th>\n",
       "      <th>cf_surveyend</th>\n",
       "      <th>cf_surveytime</th>\n",
       "      <th>cf_tsidcheckst</th>\n",
       "      <th>cf_tsidcheckend</th>\n",
       "      <th>cf_tshhrelst</th>\n",
       "      <th>cf_tshhrelend</th>\n",
       "      <th>cf_tssahst</th>\n",
       "      <th>cf_tssahend</th>\n",
       "      <th>cf_tscovidst</th>\n",
       "      <th>cf_tscovidend</th>\n",
       "      <th>cf_tshhcvst</th>\n",
       "      <th>cf_tshhcvend</th>\n",
       "      <th>cf_tsflust</th>\n",
       "      <th>cf_tsfluend</th>\n",
       "      <th>cf_tslthealthst</th>\n",
       "      <th>cf_tslthealthend</th>\n",
       "      <th>cf_tscaringhhst</th>\n",
       "      <th>cf_tscaringhhend</th>\n",
       "      <th>cf_tscareexhhst</th>\n",
       "      <th>cf_tscareexhhend</th>\n",
       "      <th>cf_tslonelyst</th>\n",
       "      <th>cf_tslonelyend</th>\n",
       "      <th>cf_tscffst</th>\n",
       "      <th>cf_tscffend</th>\n",
       "      <th>cf_tshsingst</th>\n",
       "      <th>cf_tshsingend</th>\n",
       "      <th>cf_tsempst</th>\n",
       "      <th>cf_tsempend</th>\n",
       "      <th>cf_tsttwst</th>\n",
       "      <th>cf_tsttwend</th>\n",
       "      <th>cf_tstranspst</th>\n",
       "      <th>cf_tstranspend</th>\n",
       "      <th>cf_tsfinst</th>\n",
       "      <th>cf_tsfinend</th>\n",
       "      <th>cf_tsfinsecst</th>\n",
       "      <th>cf_tsfinsecend</th>\n",
       "      <th>cf_tsnbhdst</th>\n",
       "      <th>cf_tsnbhdend</th>\n",
       "      <th>cf_tsnovschst</th>\n",
       "      <th>cf_tsnovschend</th>\n",
       "      <th>cf_tslfsatst</th>\n",
       "      <th>cf_tslfsatend</th>\n",
       "      <th>cf_tsghqst</th>\n",
       "      <th>cf_tsghqend</th>\n",
       "      <th>cf_tsclosest</th>\n",
       "      <th>cf_tscloseend</th>\n",
       "      <th>cf_screenres</th>\n",
       "      <th>cf_browserres</th>\n",
       "      <th>cf_useragentstring</th>\n",
       "      <th>cf_ff_prevsurv</th>\n",
       "      <th>cf_ff_intd</th>\n",
       "      <th>cf_ff_intm</th>\n",
       "      <th>cf_ff_inty</th>\n",
       "      <th>cf_ff_country</th>\n",
       "      <th>cf_gor_dv</th>\n",
       "      <th>cf_aid_dv</th>\n",
       "      <th>cf_betaindin_xw</th>\n",
       "      <th>cf_betaindin_xw_t</th>\n",
       "      <th>cf_betaindin_lw</th>\n",
       "      <th>cf_betaindin_lw_t1</th>\n",
       "      <th>cf_betaindin_lw_t2</th>\n",
       "    </tr>\n",
       "  </thead>\n",
       "  <tbody>\n",
       "  </tbody>\n",
       "</table>\n",
       "</div>"
      ],
      "text/plain": [
       "Empty DataFrame\n",
       "Columns: [pidp, psu, strata, birthy, racel_dv, bornuk_dv, i_hidp, j_hidp, k_hidp, i_ioutcome, j_ioutcome, k_ioutcome, cf_welsh, cf_dobchk, cf_age, cf_sex_cv, cf_addrchk, cf_couplewsh, cf_hhnum, cf_personsexa, cf_personsexb, cf_personsexc, cf_personsexd, cf_personsexe, cf_personsexf, cf_personsexg, cf_personsexh, cf_personsexi, cf_personsexj, cf_personsexk, cf_personagea, cf_personageb, cf_personagec, cf_personaged, cf_personagee, cf_personagef, cf_personageg, cf_personageh, cf_personagei, cf_personagej, cf_personagek, cf_relationa, cf_relationb, cf_relationc, cf_relationd, cf_relatione, cf_relationf, cf_relationg, cf_relationh, cf_relationi, cf_relationj, cf_relationk, cf_couple, cf_hhcompa, cf_hhcompb, cf_hhcompc, cf_hhcompd, cf_hhcompe, cf_parent0plus, cf_parent5plus, cf_parent015, cf_parent1619, cf_parent511, cf_parent1217, cf_parent418, cf_scsf1, cf_ff_hadsymp, cf_clinvuln_dv, cf_hadsymp, cf_hassymp, cf_symptoms1, cf_symptoms2, cf_symptoms23, cf_symptoms24, cf_symptoms25, cf_symptoms3, cf_symptoms4, cf_symptoms5, cf_symptoms6, cf_symptoms7, cf_symptoms8, cf_symptoms9, cf_symptoms10, cf_symptoms12, cf_symptoms13, cf_symptoms14, cf_symptoms15, cf_symptoms16, cf_symptoms17, cf_symptoms18, cf_symptoms19, cf_symptoms20, cf_symptoms21, cf_symptoms22, cf_symptoms11, cf_cv19treat, cf_cv19trwhat1, cf_cv19trwhat2, cf_cv19trwhat3, cf_cv19trwhat4, ...]\n",
       "Index: []"
      ]
     },
     "execution_count": 89,
     "metadata": {},
     "output_type": "execute_result"
    }
   ],
   "source": [
    "# Display all columns in the Understanding Society: COVID-19 Study\n",
    "pd.options.display.max_columns = None\n",
    "\n",
    "USocietyCovid.head(0)  # display headings only as the data is safeguarded"
   ]
  },
  {
   "cell_type": "code",
   "execution_count": 4,
   "metadata": {
    "colab": {
     "base_uri": "https://localhost:8080/"
    },
    "executionInfo": {
     "elapsed": 34687,
     "status": "ok",
     "timestamp": 1617187659067,
     "user": {
      "displayName": "Valentin Danchev",
      "photoUrl": "https://lh3.googleusercontent.com/a-/AOh14Gh90YzToc2qd-IrJXNzgu3LRVLxkU3sMg1swbMwzg=s64",
      "userId": "02219535538470165535"
     },
     "user_tz": -60
    },
    "id": "p5AVcpu4osAb",
    "outputId": "f8c13142-dd63-48dc-a3b7-19980652b088"
   },
   "outputs": [
    {
     "data": {
      "text/plain": [
       "(12035, 916)"
      ]
     },
     "execution_count": 4,
     "metadata": {},
     "output_type": "execute_result"
    }
   ],
   "source": [
    "USocietyCovid.shape"
   ]
  },
  {
   "cell_type": "code",
   "execution_count": 5,
   "metadata": {
    "colab": {
     "base_uri": "https://localhost:8080/"
    },
    "executionInfo": {
     "elapsed": 34686,
     "status": "ok",
     "timestamp": 1617187659067,
     "user": {
      "displayName": "Valentin Danchev",
      "photoUrl": "https://lh3.googleusercontent.com/a-/AOh14Gh90YzToc2qd-IrJXNzgu3LRVLxkU3sMg1swbMwzg=s64",
      "userId": "02219535538470165535"
     },
     "user_tz": -60
    },
    "id": "eOydsC7oieo-",
    "outputId": "9047bc81-c3c9-48ab-d84f-753b1341d64c"
   },
   "outputs": [
    {
     "name": "stdout",
     "output_type": "stream",
     "text": [
      "<class 'pandas.core.frame.DataFrame'>\n",
      "RangeIndex: 12035 entries, 0 to 12034\n",
      "Columns: 916 entries, pidp to cf_betaindin_lw_t2\n",
      "dtypes: float64(10), int64(855), object(51)\n",
      "memory usage: 84.1+ MB\n"
     ]
    }
   ],
   "source": [
    "USocietyCovid.info()"
   ]
  },
  {
   "cell_type": "markdown",
   "metadata": {
    "id": "MdkXZupol_CU"
   },
   "source": [
    "# Defining Output and Input variables\n",
    "\n",
    "Here are the Output and Input data features we will use in this session."
   ]
  },
  {
   "cell_type": "markdown",
   "metadata": {
    "id": "Mp2qGrbCkbU7"
   },
   "source": [
    "#### Outcome: Output _(Y)_\n",
    "\n",
    "|Description| Variable| Values\n",
    "| ---| ---|---|\n",
    "|Likelihood of taking up a coronavirus vaccination | cf_vaxxer | 1 = Very likely, 2 = Likely, 3 = Unlikely, 4 = Very unlikely"
   ]
  },
  {
   "cell_type": "markdown",
   "metadata": {
    "id": "q8ovAPr-kG6y"
   },
   "source": [
    "#### Predictors: Input features _(X)_\n",
    "\n",
    "We select 4 (demographic and health-related) variables as examples only, no prior literature or expert knowledge is considered. We will discuss the role of prior literature and expert knowledge in the process of variable selection when we learn causal inference approaches. \n",
    "\n",
    "|Description| Variable| Values\n",
    "| ---| ---|---|\n",
    "|Age | cf_age | Integer values (whole numbers)\n",
    "| Respondent sex | cf_sex_cv | 1 = Male, 2 = Female, 3 = Prefer not to say\n",
    "| General health | cf_scsf1 | 1 = Excellent, 2 = Very good, 3 = Good, 4 = Fair, 5 = Poor \n",
    "| At risk of serious illness from Covid-19 | cf_clinvuln_dv | 0 = no risk (not clinically vulnerable), 1 = moderate risk (clinically vulnerable), 2 = high risk (clinically extremely vulnerable)"
   ]
  },
  {
   "cell_type": "markdown",
   "metadata": {},
   "source": [
    "# Data wrangling"
   ]
  },
  {
   "cell_type": "code",
   "execution_count": 6,
   "metadata": {
    "colab": {
     "base_uri": "https://localhost:8080/",
     "height": 419
    },
    "executionInfo": {
     "elapsed": 34686,
     "status": "ok",
     "timestamp": 1617187659068,
     "user": {
      "displayName": "Valentin Danchev",
      "photoUrl": "https://lh3.googleusercontent.com/a-/AOh14Gh90YzToc2qd-IrJXNzgu3LRVLxkU3sMg1swbMwzg=s64",
      "userId": "02219535538470165535"
     },
     "user_tz": -60
    },
    "id": "OYUOD0tZGymH",
    "outputId": "a868a0fd-e7e6-4fbd-c015-d8e31d7739e9"
   },
   "outputs": [
    {
     "data": {
      "text/html": [
       "<div>\n",
       "<style scoped>\n",
       "    .dataframe tbody tr th:only-of-type {\n",
       "        vertical-align: middle;\n",
       "    }\n",
       "\n",
       "    .dataframe tbody tr th {\n",
       "        vertical-align: top;\n",
       "    }\n",
       "\n",
       "    .dataframe thead th {\n",
       "        text-align: right;\n",
       "    }\n",
       "</style>\n",
       "<table border=\"1\" class=\"dataframe\">\n",
       "  <thead>\n",
       "    <tr style=\"text-align: right;\">\n",
       "      <th></th>\n",
       "      <th>cf_vaxxer</th>\n",
       "      <th>cf_age</th>\n",
       "      <th>cf_sex_cv</th>\n",
       "      <th>cf_scsf1</th>\n",
       "      <th>cf_clinvuln_dv</th>\n",
       "    </tr>\n",
       "  </thead>\n",
       "  <tbody>\n",
       "    <tr>\n",
       "      <th>0</th>\n",
       "      <td>2</td>\n",
       "      <td>37</td>\n",
       "      <td>2</td>\n",
       "      <td>2</td>\n",
       "      <td>0</td>\n",
       "    </tr>\n",
       "    <tr>\n",
       "      <th>1</th>\n",
       "      <td>3</td>\n",
       "      <td>35</td>\n",
       "      <td>1</td>\n",
       "      <td>4</td>\n",
       "      <td>0</td>\n",
       "    </tr>\n",
       "    <tr>\n",
       "      <th>2</th>\n",
       "      <td>3</td>\n",
       "      <td>55</td>\n",
       "      <td>2</td>\n",
       "      <td>2</td>\n",
       "      <td>0</td>\n",
       "    </tr>\n",
       "    <tr>\n",
       "      <th>3</th>\n",
       "      <td>1</td>\n",
       "      <td>38</td>\n",
       "      <td>1</td>\n",
       "      <td>3</td>\n",
       "      <td>1</td>\n",
       "    </tr>\n",
       "    <tr>\n",
       "      <th>4</th>\n",
       "      <td>1</td>\n",
       "      <td>67</td>\n",
       "      <td>2</td>\n",
       "      <td>2</td>\n",
       "      <td>0</td>\n",
       "    </tr>\n",
       "  </tbody>\n",
       "</table>\n",
       "</div>"
      ],
      "text/plain": [
       "   cf_vaxxer  cf_age  cf_sex_cv  cf_scsf1  cf_clinvuln_dv\n",
       "0          2      37          2         2               0\n",
       "1          3      35          1         4               0\n",
       "2          3      55          2         2               0\n",
       "3          1      38          1         3               1\n",
       "4          1      67          2         2               0"
      ]
     },
     "execution_count": 6,
     "metadata": {},
     "output_type": "execute_result"
    }
   ],
   "source": [
    "# Select output y and input X variables\n",
    "USocietyCovid = USocietyCovid[\n",
    "    [\"cf_vaxxer\", \"cf_age\", \"cf_sex_cv\", \"cf_scsf1\", \"cf_clinvuln_dv\"]\n",
    "]\n",
    "USocietyCovid.head()"
   ]
  },
  {
   "cell_type": "code",
   "execution_count": 7,
   "metadata": {
    "colab": {
     "base_uri": "https://localhost:8080/",
     "height": 532
    },
    "executionInfo": {
     "elapsed": 35983,
     "status": "ok",
     "timestamp": 1617187660366,
     "user": {
      "displayName": "Valentin Danchev",
      "photoUrl": "https://lh3.googleusercontent.com/a-/AOh14Gh90YzToc2qd-IrJXNzgu3LRVLxkU3sMg1swbMwzg=s64",
      "userId": "02219535538470165535"
     },
     "user_tz": -60
    },
    "id": "l9U3N7c7ieo-",
    "outputId": "e4cfc542-7475-477f-b9fe-c29b90955d0a"
   },
   "outputs": [
    {
     "data": {
      "text/plain": [
       "<seaborn.axisgrid.FacetGrid at 0x7f9209efc670>"
      ]
     },
     "execution_count": 7,
     "metadata": {},
     "output_type": "execute_result"
    },
    {
     "data": {
      "image/png": "[encoded data removed]",
      "text/plain": [
       "<Figure size 648x432 with 1 Axes>"
      ]
     },
     "metadata": {
      "needs_background": "light"
     },
     "output_type": "display_data"
    }
   ],
   "source": [
    "import seaborn as sns\n",
    "\n",
    "sns.set_context(\"notebook\", font_scale=1.5)\n",
    "%matplotlib inline\n",
    "\n",
    "fig = sns.catplot(\n",
    "    x=\"cf_vaxxer\",\n",
    "    kind=\"count\",\n",
    "    height=6,\n",
    "    aspect=1.5,\n",
    "    palette=\"ch:.25\",\n",
    "    data=USocietyCovid,\n",
    ")\n",
    "\n",
    "# Tweak the plot\n",
    "(\n",
    "    fig.set_axis_labels(\n",
    "        \"Likelihood of taking up a coronavirus vaccination\", \"Frequency\"\n",
    "    )\n",
    "    .set_xticklabels(\n",
    "        [\n",
    "            \"missing\",\n",
    "            \"inapplicable\",\n",
    "            \"refusal\",\n",
    "            \"don't know\",\n",
    "            \"Very likely\",\n",
    "            \"Likely\",\n",
    "            \"Unlikely\",\n",
    "            \"Very unlikely\",\n",
    "        ]\n",
    "    )\n",
    "    .set_xticklabels(rotation=45)\n",
    ")"
   ]
  },
  {
   "cell_type": "markdown",
   "metadata": {
    "id": "jKmUtEesrn0X"
   },
   "source": [
    "Missing observations in Understanding Society are indicated by negative values. Let's convert negative values to NaN using the function `mask` in `pandas`. An alternative approach would be to reload the data using the Pandas `read_csv()` function and provide the negative values as an argument to the parameter `na_values`, as a result of which Pandas will recognise these values as NaN.  "
   ]
  },
  {
   "cell_type": "code",
   "execution_count": 8,
   "metadata": {
    "colab": {
     "base_uri": "https://localhost:8080/",
     "height": 419
    },
    "executionInfo": {
     "elapsed": 35982,
     "status": "ok",
     "timestamp": 1617187660366,
     "user": {
      "displayName": "Valentin Danchev",
      "photoUrl": "https://lh3.googleusercontent.com/a-/AOh14Gh90YzToc2qd-IrJXNzgu3LRVLxkU3sMg1swbMwzg=s64",
      "userId": "02219535538470165535"
     },
     "user_tz": -60
    },
    "id": "-BuQOkuipAO8",
    "outputId": "ba87ecf6-d918-4817-a997-a04fd81356d2"
   },
   "outputs": [
    {
     "data": {
      "text/html": [
       "<div>\n",
       "<style scoped>\n",
       "    .dataframe tbody tr th:only-of-type {\n",
       "        vertical-align: middle;\n",
       "    }\n",
       "\n",
       "    .dataframe tbody tr th {\n",
       "        vertical-align: top;\n",
       "    }\n",
       "\n",
       "    .dataframe thead th {\n",
       "        text-align: right;\n",
       "    }\n",
       "</style>\n",
       "<table border=\"1\" class=\"dataframe\">\n",
       "  <thead>\n",
       "    <tr style=\"text-align: right;\">\n",
       "      <th></th>\n",
       "      <th>cf_vaxxer</th>\n",
       "      <th>cf_age</th>\n",
       "      <th>cf_sex_cv</th>\n",
       "      <th>cf_scsf1</th>\n",
       "      <th>cf_clinvuln_dv</th>\n",
       "    </tr>\n",
       "  </thead>\n",
       "  <tbody>\n",
       "    <tr>\n",
       "      <th>0</th>\n",
       "      <td>2.0</td>\n",
       "      <td>37</td>\n",
       "      <td>2</td>\n",
       "      <td>2.0</td>\n",
       "      <td>0.0</td>\n",
       "    </tr>\n",
       "    <tr>\n",
       "      <th>1</th>\n",
       "      <td>3.0</td>\n",
       "      <td>35</td>\n",
       "      <td>1</td>\n",
       "      <td>4.0</td>\n",
       "      <td>0.0</td>\n",
       "    </tr>\n",
       "    <tr>\n",
       "      <th>2</th>\n",
       "      <td>3.0</td>\n",
       "      <td>55</td>\n",
       "      <td>2</td>\n",
       "      <td>2.0</td>\n",
       "      <td>0.0</td>\n",
       "    </tr>\n",
       "    <tr>\n",
       "      <th>3</th>\n",
       "      <td>1.0</td>\n",
       "      <td>38</td>\n",
       "      <td>1</td>\n",
       "      <td>3.0</td>\n",
       "      <td>1.0</td>\n",
       "    </tr>\n",
       "    <tr>\n",
       "      <th>4</th>\n",
       "      <td>1.0</td>\n",
       "      <td>67</td>\n",
       "      <td>2</td>\n",
       "      <td>2.0</td>\n",
       "      <td>0.0</td>\n",
       "    </tr>\n",
       "    <tr>\n",
       "      <th>...</th>\n",
       "      <td>...</td>\n",
       "      <td>...</td>\n",
       "      <td>...</td>\n",
       "      <td>...</td>\n",
       "      <td>...</td>\n",
       "    </tr>\n",
       "    <tr>\n",
       "      <th>12030</th>\n",
       "      <td>1.0</td>\n",
       "      <td>57</td>\n",
       "      <td>1</td>\n",
       "      <td>2.0</td>\n",
       "      <td>0.0</td>\n",
       "    </tr>\n",
       "    <tr>\n",
       "      <th>12031</th>\n",
       "      <td>2.0</td>\n",
       "      <td>70</td>\n",
       "      <td>2</td>\n",
       "      <td>3.0</td>\n",
       "      <td>1.0</td>\n",
       "    </tr>\n",
       "    <tr>\n",
       "      <th>12032</th>\n",
       "      <td>2.0</td>\n",
       "      <td>64</td>\n",
       "      <td>1</td>\n",
       "      <td>2.0</td>\n",
       "      <td>0.0</td>\n",
       "    </tr>\n",
       "    <tr>\n",
       "      <th>12033</th>\n",
       "      <td>4.0</td>\n",
       "      <td>31</td>\n",
       "      <td>1</td>\n",
       "      <td>1.0</td>\n",
       "      <td>0.0</td>\n",
       "    </tr>\n",
       "    <tr>\n",
       "      <th>12034</th>\n",
       "      <td>3.0</td>\n",
       "      <td>41</td>\n",
       "      <td>2</td>\n",
       "      <td>3.0</td>\n",
       "      <td>0.0</td>\n",
       "    </tr>\n",
       "  </tbody>\n",
       "</table>\n",
       "<p>12035 rows × 5 columns</p>\n",
       "</div>"
      ],
      "text/plain": [
       "       cf_vaxxer  cf_age  cf_sex_cv  cf_scsf1  cf_clinvuln_dv\n",
       "0            2.0      37          2       2.0             0.0\n",
       "1            3.0      35          1       4.0             0.0\n",
       "2            3.0      55          2       2.0             0.0\n",
       "3            1.0      38          1       3.0             1.0\n",
       "4            1.0      67          2       2.0             0.0\n",
       "...          ...     ...        ...       ...             ...\n",
       "12030        1.0      57          1       2.0             0.0\n",
       "12031        2.0      70          2       3.0             1.0\n",
       "12032        2.0      64          1       2.0             0.0\n",
       "12033        4.0      31          1       1.0             0.0\n",
       "12034        3.0      41          2       3.0             0.0\n",
       "\n",
       "[12035 rows x 5 columns]"
      ]
     },
     "execution_count": 8,
     "metadata": {},
     "output_type": "execute_result"
    }
   ],
   "source": [
    "# The function 'mask' in pandas replaces values where a condition is met.\n",
    "USocietyCovid = USocietyCovid.mask(USocietyCovid < 0)\n",
    "# Alternatively, you could replace negative values with another value, e.g., 0,\n",
    "# using the code USocietyCovid.mask(USocietyCovid < 0, 0).\n",
    "USocietyCovid"
   ]
  },
  {
   "cell_type": "code",
   "execution_count": 9,
   "metadata": {
    "colab": {
     "base_uri": "https://localhost:8080/",
     "height": 419
    },
    "executionInfo": {
     "elapsed": 35982,
     "status": "ok",
     "timestamp": 1617187660367,
     "user": {
      "displayName": "Valentin Danchev",
      "photoUrl": "https://lh3.googleusercontent.com/a-/AOh14Gh90YzToc2qd-IrJXNzgu3LRVLxkU3sMg1swbMwzg=s64",
      "userId": "02219535538470165535"
     },
     "user_tz": -60
    },
    "id": "QqX9cLlBieo-",
    "outputId": "f0a8490b-d5e4-475c-869d-ef299db0835a"
   },
   "outputs": [
    {
     "data": {
      "text/html": [
       "<div>\n",
       "<style scoped>\n",
       "    .dataframe tbody tr th:only-of-type {\n",
       "        vertical-align: middle;\n",
       "    }\n",
       "\n",
       "    .dataframe tbody tr th {\n",
       "        vertical-align: top;\n",
       "    }\n",
       "\n",
       "    .dataframe thead th {\n",
       "        text-align: right;\n",
       "    }\n",
       "</style>\n",
       "<table border=\"1\" class=\"dataframe\">\n",
       "  <thead>\n",
       "    <tr style=\"text-align: right;\">\n",
       "      <th></th>\n",
       "      <th>cf_vaxxer</th>\n",
       "      <th>cf_age</th>\n",
       "      <th>cf_sex_cv</th>\n",
       "      <th>cf_scsf1</th>\n",
       "      <th>cf_clinvuln_dv</th>\n",
       "    </tr>\n",
       "  </thead>\n",
       "  <tbody>\n",
       "    <tr>\n",
       "      <th>0</th>\n",
       "      <td>2.0</td>\n",
       "      <td>37</td>\n",
       "      <td>2</td>\n",
       "      <td>2.0</td>\n",
       "      <td>0.0</td>\n",
       "    </tr>\n",
       "    <tr>\n",
       "      <th>1</th>\n",
       "      <td>3.0</td>\n",
       "      <td>35</td>\n",
       "      <td>1</td>\n",
       "      <td>4.0</td>\n",
       "      <td>0.0</td>\n",
       "    </tr>\n",
       "    <tr>\n",
       "      <th>2</th>\n",
       "      <td>3.0</td>\n",
       "      <td>55</td>\n",
       "      <td>2</td>\n",
       "      <td>2.0</td>\n",
       "      <td>0.0</td>\n",
       "    </tr>\n",
       "    <tr>\n",
       "      <th>3</th>\n",
       "      <td>1.0</td>\n",
       "      <td>38</td>\n",
       "      <td>1</td>\n",
       "      <td>3.0</td>\n",
       "      <td>1.0</td>\n",
       "    </tr>\n",
       "    <tr>\n",
       "      <th>4</th>\n",
       "      <td>1.0</td>\n",
       "      <td>67</td>\n",
       "      <td>2</td>\n",
       "      <td>2.0</td>\n",
       "      <td>0.0</td>\n",
       "    </tr>\n",
       "    <tr>\n",
       "      <th>...</th>\n",
       "      <td>...</td>\n",
       "      <td>...</td>\n",
       "      <td>...</td>\n",
       "      <td>...</td>\n",
       "      <td>...</td>\n",
       "    </tr>\n",
       "    <tr>\n",
       "      <th>12030</th>\n",
       "      <td>1.0</td>\n",
       "      <td>57</td>\n",
       "      <td>1</td>\n",
       "      <td>2.0</td>\n",
       "      <td>0.0</td>\n",
       "    </tr>\n",
       "    <tr>\n",
       "      <th>12031</th>\n",
       "      <td>2.0</td>\n",
       "      <td>70</td>\n",
       "      <td>2</td>\n",
       "      <td>3.0</td>\n",
       "      <td>1.0</td>\n",
       "    </tr>\n",
       "    <tr>\n",
       "      <th>12032</th>\n",
       "      <td>2.0</td>\n",
       "      <td>64</td>\n",
       "      <td>1</td>\n",
       "      <td>2.0</td>\n",
       "      <td>0.0</td>\n",
       "    </tr>\n",
       "    <tr>\n",
       "      <th>12033</th>\n",
       "      <td>4.0</td>\n",
       "      <td>31</td>\n",
       "      <td>1</td>\n",
       "      <td>1.0</td>\n",
       "      <td>0.0</td>\n",
       "    </tr>\n",
       "    <tr>\n",
       "      <th>12034</th>\n",
       "      <td>3.0</td>\n",
       "      <td>41</td>\n",
       "      <td>2</td>\n",
       "      <td>3.0</td>\n",
       "      <td>0.0</td>\n",
       "    </tr>\n",
       "  </tbody>\n",
       "</table>\n",
       "<p>11930 rows × 5 columns</p>\n",
       "</div>"
      ],
      "text/plain": [
       "       cf_vaxxer  cf_age  cf_sex_cv  cf_scsf1  cf_clinvuln_dv\n",
       "0            2.0      37          2       2.0             0.0\n",
       "1            3.0      35          1       4.0             0.0\n",
       "2            3.0      55          2       2.0             0.0\n",
       "3            1.0      38          1       3.0             1.0\n",
       "4            1.0      67          2       2.0             0.0\n",
       "...          ...     ...        ...       ...             ...\n",
       "12030        1.0      57          1       2.0             0.0\n",
       "12031        2.0      70          2       3.0             1.0\n",
       "12032        2.0      64          1       2.0             0.0\n",
       "12033        4.0      31          1       1.0             0.0\n",
       "12034        3.0      41          2       3.0             0.0\n",
       "\n",
       "[11930 rows x 5 columns]"
      ]
     },
     "execution_count": 9,
     "metadata": {},
     "output_type": "execute_result"
    }
   ],
   "source": [
    "# Remove NaN\n",
    "USocietyCovid = USocietyCovid[\n",
    "    [\"cf_vaxxer\", \"cf_age\", \"cf_sex_cv\", \"cf_scsf1\", \"cf_clinvuln_dv\"]\n",
    "].dropna()\n",
    "\n",
    "USocietyCovid"
   ]
  },
  {
   "cell_type": "code",
   "execution_count": 10,
   "metadata": {
    "colab": {
     "base_uri": "https://localhost:8080/",
     "height": 532
    },
    "executionInfo": {
     "elapsed": 36409,
     "status": "ok",
     "timestamp": 1617187660795,
     "user": {
      "displayName": "Valentin Danchev",
      "photoUrl": "https://lh3.googleusercontent.com/a-/AOh14Gh90YzToc2qd-IrJXNzgu3LRVLxkU3sMg1swbMwzg=s64",
      "userId": "02219535538470165535"
     },
     "user_tz": -60
    },
    "id": "MjvJEEE9ieo_",
    "outputId": "5cdcdc76-4ba0-4f65-a3ed-98e118f32f80"
   },
   "outputs": [
    {
     "data": {
      "text/plain": [
       "<seaborn.axisgrid.FacetGrid at 0x7f92284700d0>"
      ]
     },
     "execution_count": 10,
     "metadata": {},
     "output_type": "execute_result"
    },
    {
     "data": {
      "image/png": "[encoded data removed]",
      "text/plain": [
       "<Figure size 648x432 with 1 Axes>"
      ]
     },
     "metadata": {
      "needs_background": "light"
     },
     "output_type": "display_data"
    }
   ],
   "source": [
    "# Plot the new cf_vaxxer (vaccination likelihood) variable\n",
    "\n",
    "fig = sns.catplot(\n",
    "    x=\"cf_vaxxer\",\n",
    "    kind=\"count\",\n",
    "    height=6,\n",
    "    aspect=1.5,\n",
    "    palette=\"ch:.25\",\n",
    "    data=USocietyCovid,\n",
    ")\n",
    "\n",
    "# Tweak the plot\n",
    "(\n",
    "    fig.set_axis_labels(\n",
    "        \"Likelihood of taking up a coronavirus vaccination\", \"Frequency\"\n",
    "    )\n",
    "    .set_xticklabels([\"Very likely\", \"Likely\", \"Unlikely\", \"Very unlikely\"])\n",
    "    .set_xticklabels(rotation=45)\n",
    ")"
   ]
  },
  {
   "cell_type": "markdown",
   "metadata": {},
   "source": [
    "To simplify the problem, we will recode `cf_vaxxer` (vaccination likelihood) variable into a binary variable where 1 refers to 'Likely to take up a Covid-19 vaccine' and 2 refers to 'Unlikely to take up a Covid-19 vaccine'. To achieve this, we use the `replace()` method which replaces a set of values we specify (in our case, `[1,2,3,4]`) with another set of values we specify (in our case, `[1,1,0,0]`).     "
   ]
  },
  {
   "cell_type": "code",
   "execution_count": 43,
   "metadata": {
    "colab": {
     "base_uri": "https://localhost:8080/",
     "height": 204
    },
    "executionInfo": {
     "elapsed": 36408,
     "status": "ok",
     "timestamp": 1617187660795,
     "user": {
      "displayName": "Valentin Danchev",
      "photoUrl": "https://lh3.googleusercontent.com/a-/AOh14Gh90YzToc2qd-IrJXNzgu3LRVLxkU3sMg1swbMwzg=s64",
      "userId": "02219535538470165535"
     },
     "user_tz": -60
    },
    "id": "celj8tw_ieo_",
    "outputId": "4b57a490-74b5-4d6f-8ce2-d74de45d10fa"
   },
   "outputs": [
    {
     "data": {
      "text/html": [
       "<div>\n",
       "<style scoped>\n",
       "    .dataframe tbody tr th:only-of-type {\n",
       "        vertical-align: middle;\n",
       "    }\n",
       "\n",
       "    .dataframe tbody tr th {\n",
       "        vertical-align: top;\n",
       "    }\n",
       "\n",
       "    .dataframe thead th {\n",
       "        text-align: right;\n",
       "    }\n",
       "</style>\n",
       "<table border=\"1\" class=\"dataframe\">\n",
       "  <thead>\n",
       "    <tr style=\"text-align: right;\">\n",
       "      <th></th>\n",
       "      <th>cf_vaxxer</th>\n",
       "      <th>cf_age</th>\n",
       "      <th>cf_sex_cv</th>\n",
       "      <th>cf_scsf1</th>\n",
       "      <th>cf_clinvuln_dv</th>\n",
       "    </tr>\n",
       "  </thead>\n",
       "  <tbody>\n",
       "    <tr>\n",
       "      <th>0</th>\n",
       "      <td>1.0</td>\n",
       "      <td>37</td>\n",
       "      <td>2</td>\n",
       "      <td>2.0</td>\n",
       "      <td>0.0</td>\n",
       "    </tr>\n",
       "    <tr>\n",
       "      <th>1</th>\n",
       "      <td>0.0</td>\n",
       "      <td>35</td>\n",
       "      <td>1</td>\n",
       "      <td>4.0</td>\n",
       "      <td>0.0</td>\n",
       "    </tr>\n",
       "    <tr>\n",
       "      <th>2</th>\n",
       "      <td>0.0</td>\n",
       "      <td>55</td>\n",
       "      <td>2</td>\n",
       "      <td>2.0</td>\n",
       "      <td>0.0</td>\n",
       "    </tr>\n",
       "    <tr>\n",
       "      <th>3</th>\n",
       "      <td>1.0</td>\n",
       "      <td>38</td>\n",
       "      <td>1</td>\n",
       "      <td>3.0</td>\n",
       "      <td>1.0</td>\n",
       "    </tr>\n",
       "    <tr>\n",
       "      <th>4</th>\n",
       "      <td>1.0</td>\n",
       "      <td>67</td>\n",
       "      <td>2</td>\n",
       "      <td>2.0</td>\n",
       "      <td>0.0</td>\n",
       "    </tr>\n",
       "  </tbody>\n",
       "</table>\n",
       "</div>"
      ],
      "text/plain": [
       "   cf_vaxxer  cf_age  cf_sex_cv  cf_scsf1  cf_clinvuln_dv\n",
       "0        1.0      37          2       2.0             0.0\n",
       "1        0.0      35          1       4.0             0.0\n",
       "2        0.0      55          2       2.0             0.0\n",
       "3        1.0      38          1       3.0             1.0\n",
       "4        1.0      67          2       2.0             0.0"
      ]
     },
     "execution_count": 43,
     "metadata": {},
     "output_type": "execute_result"
    }
   ],
   "source": [
    "# Recode cf_vaxxer into a binary variable\n",
    "USocietyCovid[\"cf_vaxxer\"] = USocietyCovid[\"cf_vaxxer\"].replace(\n",
    "    [1, 2, 3, 4], [1, 1, 0, 0]\n",
    ")\n",
    "USocietyCovid.head()"
   ]
  },
  {
   "cell_type": "code",
   "execution_count": 12,
   "metadata": {
    "colab": {
     "base_uri": "https://localhost:8080/",
     "height": 504
    },
    "executionInfo": {
     "elapsed": 36981,
     "status": "ok",
     "timestamp": 1617187661369,
     "user": {
      "displayName": "Valentin Danchev",
      "photoUrl": "https://lh3.googleusercontent.com/a-/AOh14Gh90YzToc2qd-IrJXNzgu3LRVLxkU3sMg1swbMwzg=s64",
      "userId": "02219535538470165535"
     },
     "user_tz": -60
    },
    "id": "Hx0HBHB4MrVV",
    "outputId": "31f56e0e-d8e1-40df-d030-c766e9469f3b"
   },
   "outputs": [
    {
     "data": {
      "text/plain": [
       "<seaborn.axisgrid.FacetGrid at 0x7f92586612b0>"
      ]
     },
     "execution_count": 12,
     "metadata": {},
     "output_type": "execute_result"
    },
    {
     "data": {
      "image/png": "[encoded data removed]",
      "text/plain": [
       "<Figure size 648x432 with 1 Axes>"
      ]
     },
     "metadata": {
      "needs_background": "light"
     },
     "output_type": "display_data"
    }
   ],
   "source": [
    "# Plot the binary cf_vaxxer (vaccination likelihood) variable\n",
    "fig = sns.catplot(\n",
    "    x=\"cf_vaxxer\",\n",
    "    kind=\"count\",\n",
    "    height=6,\n",
    "    aspect=1.5,\n",
    "    palette=\"ch:.25\",\n",
    "    data=USocietyCovid,\n",
    ")\n",
    "\n",
    "# Tweak the plot\n",
    "(\n",
    "    fig.set_axis_labels(\n",
    "        \"Likelihood of taking up a coronavirus vaccination\", \"Frequency\"\n",
    "    )\n",
    "    .set_xticklabels([\"Unlikely\", \"Likely\"])\n",
    "    .set_xticklabels(rotation=45)\n",
    ")"
   ]
  },
  {
   "cell_type": "code",
   "execution_count": 13,
   "metadata": {
    "colab": {
     "base_uri": "https://localhost:8080/",
     "height": 142
    },
    "executionInfo": {
     "elapsed": 36980,
     "status": "ok",
     "timestamp": 1617187661369,
     "user": {
      "displayName": "Valentin Danchev",
      "photoUrl": "https://lh3.googleusercontent.com/a-/AOh14Gh90YzToc2qd-IrJXNzgu3LRVLxkU3sMg1swbMwzg=s64",
      "userId": "02219535538470165535"
     },
     "user_tz": -60
    },
    "id": "WIFrSNvdVUnm",
    "outputId": "8cc00187-53d8-42e4-8b79-be8ff92b69fb"
   },
   "outputs": [
    {
     "data": {
      "text/html": [
       "<div>\n",
       "<style scoped>\n",
       "    .dataframe tbody tr th:only-of-type {\n",
       "        vertical-align: middle;\n",
       "    }\n",
       "\n",
       "    .dataframe tbody tr th {\n",
       "        vertical-align: top;\n",
       "    }\n",
       "\n",
       "    .dataframe thead th {\n",
       "        text-align: right;\n",
       "    }\n",
       "</style>\n",
       "<table border=\"1\" class=\"dataframe\">\n",
       "  <thead>\n",
       "    <tr style=\"text-align: right;\">\n",
       "      <th></th>\n",
       "      <th>cf_age</th>\n",
       "      <th>cf_sex_cv</th>\n",
       "      <th>cf_scsf1</th>\n",
       "      <th>cf_clinvuln_dv</th>\n",
       "    </tr>\n",
       "    <tr>\n",
       "      <th>cf_vaxxer</th>\n",
       "      <th></th>\n",
       "      <th></th>\n",
       "      <th></th>\n",
       "      <th></th>\n",
       "    </tr>\n",
       "  </thead>\n",
       "  <tbody>\n",
       "    <tr>\n",
       "      <th>0.0</th>\n",
       "      <td>1837</td>\n",
       "      <td>1837</td>\n",
       "      <td>1837</td>\n",
       "      <td>1837</td>\n",
       "    </tr>\n",
       "    <tr>\n",
       "      <th>1.0</th>\n",
       "      <td>10093</td>\n",
       "      <td>10093</td>\n",
       "      <td>10093</td>\n",
       "      <td>10093</td>\n",
       "    </tr>\n",
       "  </tbody>\n",
       "</table>\n",
       "</div>"
      ],
      "text/plain": [
       "           cf_age  cf_sex_cv  cf_scsf1  cf_clinvuln_dv\n",
       "cf_vaxxer                                             \n",
       "0.0          1837       1837      1837            1837\n",
       "1.0         10093      10093     10093           10093"
      ]
     },
     "execution_count": 13,
     "metadata": {},
     "output_type": "execute_result"
    }
   ],
   "source": [
    "USocietyCovid.groupby(\"cf_vaxxer\").count()"
   ]
  },
  {
   "cell_type": "code",
   "execution_count": 14,
   "metadata": {
    "colab": {
     "base_uri": "https://localhost:8080/"
    },
    "executionInfo": {
     "elapsed": 36979,
     "status": "ok",
     "timestamp": 1617187661370,
     "user": {
      "displayName": "Valentin Danchev",
      "photoUrl": "https://lh3.googleusercontent.com/a-/AOh14Gh90YzToc2qd-IrJXNzgu3LRVLxkU3sMg1swbMwzg=s64",
      "userId": "02219535538470165535"
     },
     "user_tz": -60
    },
    "id": "GdiwPDkiVPjR",
    "outputId": "d0d720e3-78d2-43f2-bacb-8e66333c3ef6"
   },
   "outputs": [
    {
     "data": {
      "text/plain": [
       "11930"
      ]
     },
     "execution_count": 14,
     "metadata": {},
     "output_type": "execute_result"
    }
   ],
   "source": [
    "USocietyCovid.shape[0]"
   ]
  },
  {
   "cell_type": "code",
   "execution_count": 15,
   "metadata": {
    "colab": {
     "base_uri": "https://localhost:8080/",
     "height": 142
    },
    "executionInfo": {
     "elapsed": 36978,
     "status": "ok",
     "timestamp": 1617187661370,
     "user": {
      "displayName": "Valentin Danchev",
      "photoUrl": "https://lh3.googleusercontent.com/a-/AOh14Gh90YzToc2qd-IrJXNzgu3LRVLxkU3sMg1swbMwzg=s64",
      "userId": "02219535538470165535"
     },
     "user_tz": -60
    },
    "id": "LDJ-PvmElb1e",
    "outputId": "c3c332aa-6d98-4a17-ac53-09e7ed9661e3"
   },
   "outputs": [
    {
     "data": {
      "text/html": [
       "<div>\n",
       "<style scoped>\n",
       "    .dataframe tbody tr th:only-of-type {\n",
       "        vertical-align: middle;\n",
       "    }\n",
       "\n",
       "    .dataframe tbody tr th {\n",
       "        vertical-align: top;\n",
       "    }\n",
       "\n",
       "    .dataframe thead th {\n",
       "        text-align: right;\n",
       "    }\n",
       "</style>\n",
       "<table border=\"1\" class=\"dataframe\">\n",
       "  <thead>\n",
       "    <tr style=\"text-align: right;\">\n",
       "      <th></th>\n",
       "      <th>cf_age</th>\n",
       "      <th>cf_sex_cv</th>\n",
       "      <th>cf_scsf1</th>\n",
       "      <th>cf_clinvuln_dv</th>\n",
       "    </tr>\n",
       "    <tr>\n",
       "      <th>cf_vaxxer</th>\n",
       "      <th></th>\n",
       "      <th></th>\n",
       "      <th></th>\n",
       "      <th></th>\n",
       "    </tr>\n",
       "  </thead>\n",
       "  <tbody>\n",
       "    <tr>\n",
       "      <th>0.0</th>\n",
       "      <td>0.153982</td>\n",
       "      <td>0.153982</td>\n",
       "      <td>0.153982</td>\n",
       "      <td>0.153982</td>\n",
       "    </tr>\n",
       "    <tr>\n",
       "      <th>1.0</th>\n",
       "      <td>0.846018</td>\n",
       "      <td>0.846018</td>\n",
       "      <td>0.846018</td>\n",
       "      <td>0.846018</td>\n",
       "    </tr>\n",
       "  </tbody>\n",
       "</table>\n",
       "</div>"
      ],
      "text/plain": [
       "             cf_age  cf_sex_cv  cf_scsf1  cf_clinvuln_dv\n",
       "cf_vaxxer                                               \n",
       "0.0        0.153982   0.153982  0.153982        0.153982\n",
       "1.0        0.846018   0.846018  0.846018        0.846018"
      ]
     },
     "execution_count": 15,
     "metadata": {},
     "output_type": "execute_result"
    }
   ],
   "source": [
    "# 84.6% of respondents very likely or likely to take up a Covid vaccine\n",
    "# and 15.4% very unlikely or unlikely\n",
    "USocietyCovid.groupby(\"cf_vaxxer\").count() / USocietyCovid.shape[0]"
   ]
  },
  {
   "cell_type": "markdown",
   "metadata": {},
   "source": [
    "So far, we have described our outcome variable to make sense of the task but we have neither looked at the predictor variables nor examined any relationships between predictor variables and outcomes. It is a good practice to first split the data into training set and test set and only then explore predictors and relationships in the training set."
   ]
  },
  {
   "cell_type": "markdown",
   "metadata": {
    "id": "OmsiDa6kS4cq"
   },
   "source": [
    "# Overfitting and data splitting\n",
    "\n",
    "#### The problem of model overfitting\n",
    "Overfitting occurs when model captures 'noise' in a specific sample while failing to recognise general patterns across samples. As a result of overfitting, the model produces accurate predictions for examples from the sample at hand but will predict poorly new examples the model has never seen.\n",
    "\n",
    "#### Training set, Validation set, and Test set\n",
    "To avoid overfitting, data is typically split into three groups: \n",
    "* Training set — used to train models \n",
    "* Validation set — used to tune the model and estimate  model performance/accuracy for best model selection\n",
    "* Test set - used to evaluate the generalisability of the model to new observations the model has never seen\n",
    "\n",
    "If your data set is not large enough, a possible strategy, which we will use here, is to split the data into training set and test set, and use cross-validation on the training set to evaluate our models' performance/accuracy. We will use 2/3 of the data to train the predictive model and the remaining 1/3 to create the test set.   "
   ]
  },
  {
   "cell_type": "code",
   "execution_count": 16,
   "metadata": {
    "executionInfo": {
     "elapsed": 37241,
     "status": "ok",
     "timestamp": 1617187661642,
     "user": {
      "displayName": "Valentin Danchev",
      "photoUrl": "https://lh3.googleusercontent.com/a-/AOh14Gh90YzToc2qd-IrJXNzgu3LRVLxkU3sMg1swbMwzg=s64",
      "userId": "02219535538470165535"
     },
     "user_tz": -60
    },
    "id": "zIdWXmbdS0MO"
   },
   "outputs": [],
   "source": [
    "# Split train and test data\n",
    "\n",
    "from sklearn.model_selection import train_test_split\n",
    "\n",
    "# Outcome variable\n",
    "y = USocietyCovid[[\"cf_vaxxer\"]]\n",
    "\n",
    "# Predictor variables\n",
    "X = USocietyCovid[[\"cf_age\", \"cf_sex_cv\", \"cf_scsf1\", \"cf_clinvuln_dv\"]]\n",
    "\n",
    "# Split data into training set and test set\n",
    "X_train, X_test, y_train, y_test = train_test_split(\n",
    "    X, y, test_size=0.33, stratify=y, random_state=0\n",
    ")"
   ]
  },
  {
   "cell_type": "code",
   "execution_count": 17,
   "metadata": {
    "colab": {
     "base_uri": "https://localhost:8080/"
    },
    "executionInfo": {
     "elapsed": 37241,
     "status": "ok",
     "timestamp": 1617187661643,
     "user": {
      "displayName": "Valentin Danchev",
      "photoUrl": "https://lh3.googleusercontent.com/a-/AOh14Gh90YzToc2qd-IrJXNzgu3LRVLxkU3sMg1swbMwzg=s64",
      "userId": "02219535538470165535"
     },
     "user_tz": -60
    },
    "id": "Q2WQAu1DS0MO",
    "outputId": "ec094c9f-a989-4c5e-bd2b-65709702f8a3"
   },
   "outputs": [
    {
     "name": "stdout",
     "output_type": "stream",
     "text": [
      "Train data (7993, 4) \n",
      "Test data (3937, 4)\n"
     ]
    }
   ],
   "source": [
    "print(\"Train data\", X_train.shape, \"\\n\" \"Test data\", X_test.shape)"
   ]
  },
  {
   "cell_type": "markdown",
   "metadata": {
    "id": "YwXMxGQLNhwT"
   },
   "source": [
    "# Preprocessing the training data set"
   ]
  },
  {
   "cell_type": "markdown",
   "metadata": {
    "id": "ZfL6ewdyI5Ln"
   },
   "source": [
    "## Categorical predictors — dummy variables\n",
    "\n",
    "Categorical variables are often encoded using numeric values. For example, Respondent sex is recorded as 1 = Men, 2 = Female, 3 = Prefer not to say. The numeric values can be 'misinterpreted' by the algorithms — the value of 1 is obviously less than the value of 3 but that does not correspond to real-world numerical differences. \n",
    "\n",
    "A solution is to convert categorical predictors into dummy variables. Basically, each category value is converted into a new column and assigns a 1 or 0 (True/False) values using the function `get_dummies` in `pandas`. The function creates dummy/indicator variables that contain value of 1 or 0. \n",
    "\n",
    "The Respondent sex variable is converted below is three columns of 1s or 0s corresponding to the respective value."
   ]
  },
  {
   "cell_type": "code",
   "execution_count": 18,
   "metadata": {
    "colab": {
     "base_uri": "https://localhost:8080/",
     "height": 204
    },
    "executionInfo": {
     "elapsed": 36976,
     "status": "ok",
     "timestamp": 1617187661372,
     "user": {
      "displayName": "Valentin Danchev",
      "photoUrl": "https://lh3.googleusercontent.com/a-/AOh14Gh90YzToc2qd-IrJXNzgu3LRVLxkU3sMg1swbMwzg=s64",
      "userId": "02219535538470165535"
     },
     "user_tz": -60
    },
    "id": "sfmtszzhMqCp",
    "outputId": "2923e88f-681d-46be-8b02-f6f20973ff05"
   },
   "outputs": [
    {
     "data": {
      "text/html": [
       "<div>\n",
       "<style scoped>\n",
       "    .dataframe tbody tr th:only-of-type {\n",
       "        vertical-align: middle;\n",
       "    }\n",
       "\n",
       "    .dataframe tbody tr th {\n",
       "        vertical-align: top;\n",
       "    }\n",
       "\n",
       "    .dataframe thead th {\n",
       "        text-align: right;\n",
       "    }\n",
       "</style>\n",
       "<table border=\"1\" class=\"dataframe\">\n",
       "  <thead>\n",
       "    <tr style=\"text-align: right;\">\n",
       "      <th></th>\n",
       "      <th>cf_age</th>\n",
       "      <th>cf_scsf1</th>\n",
       "      <th>cf_clinvuln_dv</th>\n",
       "      <th>cf_sex_cv_1</th>\n",
       "      <th>cf_sex_cv_2</th>\n",
       "      <th>cf_sex_cv_3</th>\n",
       "    </tr>\n",
       "  </thead>\n",
       "  <tbody>\n",
       "    <tr>\n",
       "      <th>994</th>\n",
       "      <td>28</td>\n",
       "      <td>2.0</td>\n",
       "      <td>0.0</td>\n",
       "      <td>0</td>\n",
       "      <td>1</td>\n",
       "      <td>0</td>\n",
       "    </tr>\n",
       "    <tr>\n",
       "      <th>11376</th>\n",
       "      <td>41</td>\n",
       "      <td>5.0</td>\n",
       "      <td>0.0</td>\n",
       "      <td>0</td>\n",
       "      <td>1</td>\n",
       "      <td>0</td>\n",
       "    </tr>\n",
       "    <tr>\n",
       "      <th>9730</th>\n",
       "      <td>77</td>\n",
       "      <td>3.0</td>\n",
       "      <td>1.0</td>\n",
       "      <td>0</td>\n",
       "      <td>1</td>\n",
       "      <td>0</td>\n",
       "    </tr>\n",
       "    <tr>\n",
       "      <th>8235</th>\n",
       "      <td>41</td>\n",
       "      <td>3.0</td>\n",
       "      <td>2.0</td>\n",
       "      <td>0</td>\n",
       "      <td>1</td>\n",
       "      <td>0</td>\n",
       "    </tr>\n",
       "    <tr>\n",
       "      <th>1406</th>\n",
       "      <td>60</td>\n",
       "      <td>2.0</td>\n",
       "      <td>0.0</td>\n",
       "      <td>0</td>\n",
       "      <td>1</td>\n",
       "      <td>0</td>\n",
       "    </tr>\n",
       "  </tbody>\n",
       "</table>\n",
       "</div>"
      ],
      "text/plain": [
       "       cf_age  cf_scsf1  cf_clinvuln_dv  cf_sex_cv_1  cf_sex_cv_2  cf_sex_cv_3\n",
       "994        28       2.0             0.0            0            1            0\n",
       "11376      41       5.0             0.0            0            1            0\n",
       "9730       77       3.0             1.0            0            1            0\n",
       "8235       41       3.0             2.0            0            1            0\n",
       "1406       60       2.0             0.0            0            1            0"
      ]
     },
     "execution_count": 18,
     "metadata": {},
     "output_type": "execute_result"
    }
   ],
   "source": [
    "# Use get_dummies to convert the Respondent sex categorical variable into\n",
    "# 3 dummy/indicator variables\n",
    "X_train_predictors = pd.get_dummies(X_train, columns=[\"cf_sex_cv\"])\n",
    "X_train_predictors.head()"
   ]
  },
  {
   "cell_type": "code",
   "execution_count": 44,
   "metadata": {
    "executionInfo": {
     "elapsed": 36976,
     "status": "ok",
     "timestamp": 1617187661373,
     "user": {
      "displayName": "Valentin Danchev",
      "photoUrl": "https://lh3.googleusercontent.com/a-/AOh14Gh90YzToc2qd-IrJXNzgu3LRVLxkU3sMg1swbMwzg=s64",
      "userId": "02219535538470165535"
     },
     "user_tz": -60
    },
    "id": "tU8j-4IDPW1a"
   },
   "outputs": [],
   "source": [
    "# Create two DataFrames, one for numerical variables\n",
    "# and one for categorical variables\n",
    "X_train_predictors_cat = X_train_predictors[\n",
    "    [\"cf_sex_cv_1\", \"cf_sex_cv_2\", \"cf_sex_cv_3\"]\n",
    "]\n",
    "X_train_predictors_cont = X_train_predictors[[\"cf_age\", \"cf_scsf1\", \"cf_clinvuln_dv\"]]"
   ]
  },
  {
   "cell_type": "markdown",
   "metadata": {
    "id": "_47rOVEczgOC"
   },
   "source": [
    "## Continuous predictors — standardisation\n",
    "We standardise the continuous input variables."
   ]
  },
  {
   "cell_type": "code",
   "execution_count": 91,
   "metadata": {
    "colab": {
     "base_uri": "https://localhost:8080/"
    },
    "executionInfo": {
     "elapsed": 37243,
     "status": "ok",
     "timestamp": 1617187661641,
     "user": {
      "displayName": "Valentin Danchev",
      "photoUrl": "https://lh3.googleusercontent.com/a-/AOh14Gh90YzToc2qd-IrJXNzgu3LRVLxkU3sMg1swbMwzg=s64",
      "userId": "02219535538470165535"
     },
     "user_tz": -60
    },
    "id": "bt_ob4YaMqVW",
    "outputId": "6ee11353-422e-4d08-cd3f-05850a02c43a"
   },
   "outputs": [
    {
     "data": {
      "text/plain": [
       "array([[-1.65608796, -0.56081614, -0.80754698],\n",
       "       [-0.84497135,  2.64868513, -0.80754698],\n",
       "       [ 1.40119771,  0.50901761,  0.81873748],\n",
       "       ...,\n",
       "       [-0.96975852, -1.6306499 , -0.80754698],\n",
       "       [ 0.46529394,  0.50901761,  2.44502193],\n",
       "       [ 0.77726186,  0.50901761,  0.81873748]])"
      ]
     },
     "execution_count": 91,
     "metadata": {},
     "output_type": "execute_result"
    }
   ],
   "source": [
    "# Standardise the predictors using the StandardScaler function in sklearn\n",
    "from sklearn.preprocessing import StandardScaler  # For standartising data\n",
    "\n",
    "scaler = StandardScaler()  # Initialising the scaler using the default arguments\n",
    "X_train_predictors_cont_scale = scaler.fit_transform(\n",
    "    X_train_predictors_cont\n",
    ")  # Fit to continuous input variables and return the standardised dataset\n",
    "X_train_predictors_cont_scale"
   ]
  },
  {
   "cell_type": "markdown",
   "metadata": {
    "id": "GXv05B72SQ9h"
   },
   "source": [
    "#### Combine categorical and continuous predictors into one data array"
   ]
  },
  {
   "cell_type": "code",
   "execution_count": 21,
   "metadata": {
    "colab": {
     "base_uri": "https://localhost:8080/"
    },
    "executionInfo": {
     "elapsed": 37242,
     "status": "ok",
     "timestamp": 1617187661641,
     "user": {
      "displayName": "Valentin Danchev",
      "photoUrl": "https://lh3.googleusercontent.com/a-/AOh14Gh90YzToc2qd-IrJXNzgu3LRVLxkU3sMg1swbMwzg=s64",
      "userId": "02219535538470165535"
     },
     "user_tz": -60
    },
    "id": "AvXFOvpPMpuB",
    "outputId": "0537186d-8dfd-4355-85e7-cc96e49af91b"
   },
   "outputs": [
    {
     "data": {
      "text/plain": [
       "array([[-1.65608796, -0.56081614, -0.80754698,  0.        ,  1.        ,\n",
       "         0.        ],\n",
       "       [-0.84497135,  2.64868513, -0.80754698,  0.        ,  1.        ,\n",
       "         0.        ],\n",
       "       [ 1.40119771,  0.50901761,  0.81873748,  0.        ,  1.        ,\n",
       "         0.        ],\n",
       "       ...,\n",
       "       [-0.96975852, -1.6306499 , -0.80754698,  0.        ,  1.        ,\n",
       "         0.        ],\n",
       "       [ 0.46529394,  0.50901761,  2.44502193,  0.        ,  1.        ,\n",
       "         0.        ],\n",
       "       [ 0.77726186,  0.50901761,  0.81873748,  1.        ,  0.        ,\n",
       "         0.        ]])"
      ]
     },
     "execution_count": 21,
     "metadata": {},
     "output_type": "execute_result"
    }
   ],
   "source": [
    "# Use the concatenate function in Numpy to combine all variables\n",
    "# (both categorical and continuous predictors) in one array\n",
    "X_train_preprocessed = np.concatenate(\n",
    "    [X_train_predictors_cont_scale, X_train_predictors_cat], axis=1\n",
    ")\n",
    "X_train_preprocessed"
   ]
  },
  {
   "cell_type": "code",
   "execution_count": 22,
   "metadata": {
    "colab": {
     "base_uri": "https://localhost:8080/"
    },
    "executionInfo": {
     "elapsed": 37242,
     "status": "ok",
     "timestamp": 1617187661642,
     "user": {
      "displayName": "Valentin Danchev",
      "photoUrl": "https://lh3.googleusercontent.com/a-/AOh14Gh90YzToc2qd-IrJXNzgu3LRVLxkU3sMg1swbMwzg=s64",
      "userId": "02219535538470165535"
     },
     "user_tz": -60
    },
    "id": "08q7xZiv8QuL",
    "outputId": "7f3aebc4-65fb-4488-c696-53855d2f19eb"
   },
   "outputs": [
    {
     "data": {
      "text/plain": [
       "(7993, 6)"
      ]
     },
     "execution_count": 22,
     "metadata": {},
     "output_type": "execute_result"
    }
   ],
   "source": [
    "X_train_preprocessed.shape"
   ]
  },
  {
   "cell_type": "markdown",
   "metadata": {
    "id": "NhVLE9wCKUdn"
   },
   "source": [
    "# Unbalance class problem\n",
    "\n",
    "In the case of the vaccination likelihood question, one of the classes (likely to vaccinate) has a significantly greater proportion of cases (84.6%) than the other case (unlikely to vaccinate) (15.4%). We therefore face an unbalanced class problem. \n",
    "\n",
    "Different methods to mitigate the problem exist. We will use a method called ADASYN: Adaptive Synthetic Sampling Method for Imbalanced Data. The method oversamples the minority class in the training data set until both classes have an equal number of observations. Hence, the data set we use to train our models contains two balanced classes."
   ]
  },
  {
   "cell_type": "code",
   "execution_count": 23,
   "metadata": {
    "colab": {
     "base_uri": "https://localhost:8080/"
    },
    "executionInfo": {
     "elapsed": 37637,
     "status": "ok",
     "timestamp": 1617187662040,
     "user": {
      "displayName": "Valentin Danchev",
      "photoUrl": "https://lh3.googleusercontent.com/a-/AOh14Gh90YzToc2qd-IrJXNzgu3LRVLxkU3sMg1swbMwzg=s64",
      "userId": "02219535538470165535"
     },
     "user_tz": -60
    },
    "id": "yMIBweLEJnLI",
    "outputId": "04c4a263-b07b-4d3a-b940-71b2efd53ae5"
   },
   "outputs": [],
   "source": [
    "from imblearn.over_sampling import ADASYN\n",
    "\n",
    "# Initialization of the ADASYN resampling method; set random_state for reproducibility\n",
    "adasyn = ADASYN(random_state=0)\n",
    "\n",
    "# Fit the ADASYN resampling method to the train data\n",
    "X_train_balance, y_train_balance = adasyn.fit_resample(X_train_preprocessed, y_train)"
   ]
  },
  {
   "cell_type": "markdown",
   "metadata": {
    "id": "A7hcQyNuOEhM"
   },
   "source": [
    "The resulting `X_train_balance` and `y_train_balance` now include both the original data and the resampled data. The `y_train_balance` now includes an almost equal number of labels for each class."
   ]
  },
  {
   "cell_type": "code",
   "execution_count": 24,
   "metadata": {
    "colab": {
     "base_uri": "https://localhost:8080/"
    },
    "executionInfo": {
     "elapsed": 37637,
     "status": "ok",
     "timestamp": 1617187662041,
     "user": {
      "displayName": "Valentin Danchev",
      "photoUrl": "https://lh3.googleusercontent.com/a-/AOh14Gh90YzToc2qd-IrJXNzgu3LRVLxkU3sMg1swbMwzg=s64",
      "userId": "02219535538470165535"
     },
     "user_tz": -60
    },
    "id": "PxM4W2MyOCko",
    "outputId": "0e1200e7-1937-491b-b97e-bb7e087415e1"
   },
   "outputs": [
    {
     "data": {
      "text/plain": [
       "(13611, 6)"
      ]
     },
     "execution_count": 24,
     "metadata": {},
     "output_type": "execute_result"
    }
   ],
   "source": [
    "# Now that the two classes are balanced, the train data\n",
    "# is ~14K observations, greater than the original ~8K.\n",
    "X_train_balance.shape"
   ]
  },
  {
   "cell_type": "markdown",
   "metadata": {
    "id": "7i6gJNUUaEVO"
   },
   "source": [
    "### Hands-on mini-exercise\n",
    "\n",
    "Verify that after the oversampling the `y_train_balance` data object contains indeed approximately equal number of observations for both classes, those likely to vaccinate (1) and those unlikely to vaccinate (0). \n",
    "\n",
    "Note that `y_train_balance` is a NumPy array. You can check that on your own using the function `type()`, for example: type(y_train)."
   ]
  },
  {
   "cell_type": "code",
   "execution_count": 25,
   "metadata": {
    "colab": {
     "base_uri": "https://localhost:8080/"
    },
    "executionInfo": {
     "elapsed": 37636,
     "status": "ok",
     "timestamp": 1617187662042,
     "user": {
      "displayName": "Valentin Danchev",
      "photoUrl": "https://lh3.googleusercontent.com/a-/AOh14Gh90YzToc2qd-IrJXNzgu3LRVLxkU3sMg1swbMwzg=s64",
      "userId": "02219535538470165535"
     },
     "user_tz": -60
    },
    "id": "hAKEEFUbrmLI",
    "outputId": "b73bff3c-d27a-4405-f555-54ec3fc2c8c4"
   },
   "outputs": [
    {
     "data": {
      "text/plain": [
       "cf_vaxxer    6849\n",
       "dtype: int64"
      ]
     },
     "execution_count": 25,
     "metadata": {},
     "output_type": "execute_result"
    }
   ],
   "source": [
    "(y_train_balance == 0).sum()"
   ]
  },
  {
   "cell_type": "code",
   "execution_count": 26,
   "metadata": {
    "colab": {
     "base_uri": "https://localhost:8080/"
    },
    "executionInfo": {
     "elapsed": 37636,
     "status": "ok",
     "timestamp": 1617187662043,
     "user": {
      "displayName": "Valentin Danchev",
      "photoUrl": "https://lh3.googleusercontent.com/a-/AOh14Gh90YzToc2qd-IrJXNzgu3LRVLxkU3sMg1swbMwzg=s64",
      "userId": "02219535538470165535"
     },
     "user_tz": -60
    },
    "id": "yTBBu8rVr6F3",
    "outputId": "f95e3210-8f3a-4ce8-949b-bacb3943c56c"
   },
   "outputs": [
    {
     "data": {
      "text/plain": [
       "cf_vaxxer    6762\n",
       "dtype: int64"
      ]
     },
     "execution_count": 26,
     "metadata": {},
     "output_type": "execute_result"
    }
   ],
   "source": [
    "(y_train_balance == 1).sum()"
   ]
  },
  {
   "cell_type": "markdown",
   "metadata": {
    "id": "rcFNaFp9hFAa"
   },
   "source": [
    "# Train models on training data\n",
    "\n",
    "We fit two classifiers — k-Nearest Neighbours (k-NN) and Logistic Regression — on the training data. The k-Nearest Neighbours classifier (k-NN) and Logistic Regression classifier are two widely used classifiers. Our focus is on the end-to-end workflow so we do not discuss the workings of the two classifiers in detail. To learn more about the two classifiers, see [Python Data Science Handbook](https://jakevdp.github.io/PythonDataScienceHandbook/05.03-hyperparameters-and-model-validation.html) by Jake VanderPlas (on k-NN) and the DataCamp course [Supervised Learning with scikit-learn](https://learn.datacamp.com/courses/supervised-learning-with-scikit-learn). \n",
    "\n",
    "In the models below, we use the default hyperparameters (hyperparameter are parameters that are not learned from data but are set by the researcher to guide the learning process) for both classifiers."
   ]
  },
  {
   "cell_type": "code",
   "execution_count": 67,
   "metadata": {
    "colab": {
     "base_uri": "https://localhost:8080/"
    },
    "executionInfo": {
     "elapsed": 37635,
     "status": "ok",
     "timestamp": 1617187662044,
     "user": {
      "displayName": "Valentin Danchev",
      "photoUrl": "https://lh3.googleusercontent.com/a-/AOh14Gh90YzToc2qd-IrJXNzgu3LRVLxkU3sMg1swbMwzg=s64",
      "userId": "02219535538470165535"
     },
     "user_tz": -60
    },
    "id": "VBmNgdLFMpZ8",
    "outputId": "76a73814-2803-4b87-dd15-bcfab19e5783"
   },
   "outputs": [
    {
     "data": {
      "text/plain": [
       "LogisticRegression()"
      ]
     },
     "execution_count": 67,
     "metadata": {},
     "output_type": "execute_result"
    }
   ],
   "source": [
    "from sklearn.neighbors import KNeighborsClassifier\n",
    "from sklearn.linear_model import LogisticRegression\n",
    "\n",
    "# Create an instance of k-nearest neighbors (k-NN) classifier.\n",
    "# We set the hyperparameter n_neighbors=5 meaning that\n",
    "# the label of an unknown respondent (0 or 1) is a function of\n",
    "# the labels of its five closest training respondents.\n",
    "kNN_Classifier = KNeighborsClassifier(n_neighbors=5)\n",
    "\n",
    "# Create an instance of Logistic Regression Classifier\n",
    "LogReg_Classifier = LogisticRegression()\n",
    "\n",
    "# Fit both models to the training data\n",
    "kNN_Classifier.fit(X_train_balance, y_train_balance.cf_vaxxer)\n",
    "LogReg_Classifier.fit(X_train_balance, y_train_balance.cf_vaxxer)"
   ]
  },
  {
   "cell_type": "markdown",
   "metadata": {
    "id": "z0DcAjASM0v6"
   },
   "source": [
    "# Model evaluation using Cross-validation\n",
    "\n",
    "Now that your two models are fitted, you can evaluate the accuracy of their prediction. In older approaches, the prediction accuracy is often calculated on the same set of training data used to fit the model. The problem of such an approach is that the model can 'memorise' the training data and show high prediction accuracy on that data set while failing to perform well on new data. For this reason, approaches in data science, and machine learning in particular, prefer to evaluate the prediction accuracy of a model on new data that has not been used in training the model.\n",
    "\n",
    "## The cross-validation technique\n",
    "\n",
    "Cross-validation is a technique for assessing accuracy of model prediction without relying on in-sample prediction. We will split our training set into _k_ equal folds or parts. The number of folds can differ but for simplicity we will consider 5-fold cross-validation. How does 5-fold cross-validation work? While keeping aside one fold (or part), we fit the model with the remaining four folds and use the fitted model to predict outcomes of observations in fold one and on this basis compute model prediction accuracy. We repeat the procedure for all 5 folds or parts of the data and compute the average prediction accuracy.\n",
    "\n",
    "## Metrics to evaluate model performance\n",
    "Many [metrics](https://scikit-learn.org/stable/modules/model_evaluation.html#scoring-parameter) to evaluate model performance exist. We evaluate model performance using the accuracy score. The accuracy score is the simplest metric for evaluating classification models. Simply put, accuracy is the proportion of predictions our model got right. Keep in mind, however, that because of the unbalanced class problem, accuracy may not be the best metric in our case. Because one of our classes accounts for 84.6% of the cases, even a model that uniformly predicts that all respondents are likely to take up the vaccine will obtain very high accuracy of 0.846 while being useless for identifying respondents who are unlikely to take up the vaccine. We will return to this problem shortly."
   ]
  },
  {
   "cell_type": "code",
   "execution_count": 68,
   "metadata": {
    "colab": {
     "base_uri": "https://localhost:8080/"
    },
    "executionInfo": {
     "elapsed": 38552,
     "status": "ok",
     "timestamp": 1617187662962,
     "user": {
      "displayName": "Valentin Danchev",
      "photoUrl": "https://lh3.googleusercontent.com/a-/AOh14Gh90YzToc2qd-IrJXNzgu3LRVLxkU3sMg1swbMwzg=s64",
      "userId": "02219535538470165535"
     },
     "user_tz": -60
    },
    "id": "B53hC2uSob31",
    "outputId": "4f9a696b-60db-4897-a527-05e106b957a4"
   },
   "outputs": [
    {
     "data": {
      "text/plain": [
       "array([0.6232097 , 0.65686995, 0.64070536, 0.65980896, 0.64731815])"
      ]
     },
     "execution_count": 68,
     "metadata": {},
     "output_type": "execute_result"
    }
   ],
   "source": [
    "# Import the function cross_val_score() which performs\n",
    "# cross-validation and evaluates the model using a score.\n",
    "# Many scores are available to evaluate a classification mdoel,\n",
    "# as a starting point, we select the simplest one called accuracy.\n",
    "from sklearn.model_selection import cross_val_score\n",
    "\n",
    "# Evaluate the kNN_Classifier model via 5-fold cross-validation\n",
    "kNN_score = cross_val_score(\n",
    "    kNN_Classifier, X_train_balance, y_train_balance.cf_vaxxer, cv=5, scoring=\"accuracy\"\n",
    ")\n",
    "kNN_score"
   ]
  },
  {
   "cell_type": "code",
   "execution_count": 69,
   "metadata": {
    "colab": {
     "base_uri": "https://localhost:8080/"
    },
    "executionInfo": {
     "elapsed": 38551,
     "status": "ok",
     "timestamp": 1617187662962,
     "user": {
      "displayName": "Valentin Danchev",
      "photoUrl": "https://lh3.googleusercontent.com/a-/AOh14Gh90YzToc2qd-IrJXNzgu3LRVLxkU3sMg1swbMwzg=s64",
      "userId": "02219535538470165535"
     },
     "user_tz": -60
    },
    "id": "nbXV_8nXtu06",
    "outputId": "f378aeca-ff82-448c-e9ff-23d8ce2b9a31"
   },
   "outputs": [
    {
     "data": {
      "text/plain": [
       "64.55824239753719"
      ]
     },
     "execution_count": 69,
     "metadata": {},
     "output_type": "execute_result"
    }
   ],
   "source": [
    "# Take the mean across the five accuracy scores\n",
    "kNN_score.mean() * 100"
   ]
  },
  {
   "cell_type": "code",
   "execution_count": 70,
   "metadata": {
    "colab": {
     "base_uri": "https://localhost:8080/"
    },
    "executionInfo": {
     "elapsed": 38551,
     "status": "ok",
     "timestamp": 1617187662963,
     "user": {
      "displayName": "Valentin Danchev",
      "photoUrl": "https://lh3.googleusercontent.com/a-/AOh14Gh90YzToc2qd-IrJXNzgu3LRVLxkU3sMg1swbMwzg=s64",
      "userId": "02219535538470165535"
     },
     "user_tz": -60
    },
    "id": "sA3JfOcXtunj",
    "outputId": "d80bfd0b-2ff8-43a5-80d2-3ef84937016b"
   },
   "outputs": [
    {
     "data": {
      "text/plain": [
       "62.21431553077533"
      ]
     },
     "execution_count": 70,
     "metadata": {},
     "output_type": "execute_result"
    }
   ],
   "source": [
    "# Repeat for our logistic regression model\n",
    "LogReg_score = cross_val_score(\n",
    "    LogReg_Classifier,\n",
    "    X_train_balance,\n",
    "    y_train_balance.cf_vaxxer,\n",
    "    cv=5,\n",
    "    scoring=\"accuracy\",\n",
    ")\n",
    "LogReg_score.mean() * 100"
   ]
  },
  {
   "cell_type": "markdown",
   "metadata": {
    "id": "NE2c_o3H1MHS"
   },
   "source": [
    "The output from the cross-validation technique shows that the performance of our two models is comparable as measured by the accuracy score. \n",
    "\n",
    "At this stage, we could fine-tune model hyperparameters — i.e., parameters that the model does not learn from data, e.g., the number of _k_ neighbours in the _k_-NN algorithm — and re-evaluate model performance. During the process of model validation, we do not use the test data. Once we are happy with how our model(s) perform, we test the model on unseen data.  "
   ]
  },
  {
   "cell_type": "markdown",
   "metadata": {
    "id": "7OLV3ll12kbb"
   },
   "source": [
    "# Testing model accuracy on new data\n",
    "\n",
    "Before we test the accuracy of our model on the test data set, we preprocess the test data set using the same procedure we used to preprocess the training data.\n",
    "\n",
    "# Preprocessing the test data set"
   ]
  },
  {
   "cell_type": "code",
   "execution_count": 71,
   "metadata": {
    "executionInfo": {
     "elapsed": 38762,
     "status": "ok",
     "timestamp": 1617187663175,
     "user": {
      "displayName": "Valentin Danchev",
      "photoUrl": "https://lh3.googleusercontent.com/a-/AOh14Gh90YzToc2qd-IrJXNzgu3LRVLxkU3sMg1swbMwzg=s64",
      "userId": "02219535538470165535"
     },
     "user_tz": -60
    },
    "id": "bOlW4LoQyOKt"
   },
   "outputs": [
    {
     "data": {
      "text/plain": [
       "array([[ 0.44686144, -1.63480238, -0.82552056,  1.        ,  0.        ,\n",
       "         0.        ],\n",
       "       [-0.41738323, -0.58244513, -0.82552056,  0.        ,  1.        ,\n",
       "         0.        ],\n",
       "       [-0.35565147, -0.58244513, -0.82552056,  1.        ,  0.        ,\n",
       "         0.        ],\n",
       "       ...,\n",
       "       [ 0.01473911, -0.58244513, -0.82552056,  1.        ,  0.        ,\n",
       "         0.        ],\n",
       "       [ 1.37283788,  0.46991213,  0.7914319 ,  0.        ,  1.        ,\n",
       "         0.        ],\n",
       "       [-0.47911499, -1.63480238, -0.82552056,  1.        ,  0.        ,\n",
       "         0.        ]])"
      ]
     },
     "execution_count": 71,
     "metadata": {},
     "output_type": "execute_result"
    }
   ],
   "source": [
    "# Use get_dummies to convert the respondent sex categorical variable\n",
    "# into 3 dummy/indicator variables.\n",
    "X_test_predictors = pd.get_dummies(X_test, columns=[\"cf_sex_cv\"])\n",
    "\n",
    "# Create two DataFrames, one for quantitative variables and one for qualitative variables\n",
    "X_test_predictors_cat = X_test_predictors[[\"cf_sex_cv_1\", \"cf_sex_cv_2\", \"cf_sex_cv_3\"]]\n",
    "X_test_predictors_cont = X_test_predictors[[\"cf_age\", \"cf_scsf1\", \"cf_clinvuln_dv\"]]\n",
    "\n",
    "# Standardise the predictors using the StandardScaler function in sklearn\n",
    "scaler = StandardScaler()  # Initialising the scaler using the default arguments\n",
    "X_test_predictors_cont_scale = scaler.fit_transform(\n",
    "    X_test_predictors_cont\n",
    ")  # Fit to continuous input variables and return the standardised dataset\n",
    "\n",
    "# Use the concatenate function in Numpy to combine all variables\n",
    "# (both categorical and continuous predictors) in one array\n",
    "X_test_preprocessed = np.concatenate(\n",
    "    [X_test_predictors_cont_scale, X_test_predictors_cat], axis=1\n",
    ")\n",
    "X_test_preprocessed"
   ]
  },
  {
   "cell_type": "markdown",
   "metadata": {},
   "source": [
    "# Predicting vaccine hesitancy"
   ]
  },
  {
   "cell_type": "markdown",
   "metadata": {},
   "source": [
    "Use the `predict` function to predict who is likely to take up the COVID-19 vaccine or not using the test data."
   ]
  },
  {
   "cell_type": "code",
   "execution_count": 72,
   "metadata": {},
   "outputs": [],
   "source": [
    "y_pred_kNN = kNN_Classifier.predict(X_test_preprocessed)\n",
    "y_pred_LogReg = LogReg_Classifier.predict(X_test_preprocessed)"
   ]
  },
  {
   "cell_type": "code",
   "execution_count": 73,
   "metadata": {
    "colab": {
     "base_uri": "https://localhost:8080/"
    },
    "executionInfo": {
     "elapsed": 38762,
     "status": "ok",
     "timestamp": 1617187663176,
     "user": {
      "displayName": "Valentin Danchev",
      "photoUrl": "https://lh3.googleusercontent.com/a-/AOh14Gh90YzToc2qd-IrJXNzgu3LRVLxkU3sMg1swbMwzg=s64",
      "userId": "02219535538470165535"
     },
     "user_tz": -60
    },
    "id": "qt5RyGrGx9y7",
    "outputId": "deb25737-dc36-43e2-d255-057aa051404b"
   },
   "outputs": [
    {
     "data": {
      "text/plain": [
       "array([1., 0., 1., ..., 1., 1., 1.])"
      ]
     },
     "execution_count": 73,
     "metadata": {},
     "output_type": "execute_result"
    }
   ],
   "source": [
    "y_pred_LogReg"
   ]
  },
  {
   "cell_type": "markdown",
   "metadata": {
    "id": "QlZPEfoWWkoE"
   },
   "source": [
    "# Model evaluation on test data\n",
    "\n",
    "Let's evaluate the performance of our models predicting vaccination willingness using accuracy metric."
   ]
  },
  {
   "cell_type": "code",
   "execution_count": 74,
   "metadata": {
    "colab": {
     "base_uri": "https://localhost:8080/"
    },
    "executionInfo": {
     "elapsed": 38761,
     "status": "ok",
     "timestamp": 1617187663176,
     "user": {
      "displayName": "Valentin Danchev",
      "photoUrl": "https://lh3.googleusercontent.com/a-/AOh14Gh90YzToc2qd-IrJXNzgu3LRVLxkU3sMg1swbMwzg=s64",
      "userId": "02219535538470165535"
     },
     "user_tz": -60
    },
    "id": "qCtMixzVyN9k",
    "outputId": "b0af33de-1fd3-4cef-fbb7-eae4de44b8e3"
   },
   "outputs": [
    {
     "data": {
      "text/plain": [
       "0.6245872491744984"
      ]
     },
     "execution_count": 74,
     "metadata": {},
     "output_type": "execute_result"
    }
   ],
   "source": [
    "# Evaluate performance using the accuracy score for the logistic regresson model\n",
    "from sklearn.metrics import accuracy_score\n",
    "\n",
    "accuracy_score(y_test, y_pred_LogReg)"
   ]
  },
  {
   "cell_type": "code",
   "execution_count": 75,
   "metadata": {
    "colab": {
     "base_uri": "https://localhost:8080/"
    },
    "executionInfo": {
     "elapsed": 38761,
     "status": "ok",
     "timestamp": 1617187663177,
     "user": {
      "displayName": "Valentin Danchev",
      "photoUrl": "https://lh3.googleusercontent.com/a-/AOh14Gh90YzToc2qd-IrJXNzgu3LRVLxkU3sMg1swbMwzg=s64",
      "userId": "02219535538470165535"
     },
     "user_tz": -60
    },
    "id": "z0iEW6QdQzkN",
    "outputId": "da1251fe-9915-4e22-b9cc-76edc8016938"
   },
   "outputs": [
    {
     "data": {
      "text/plain": [
       "0.5044450088900178"
      ]
     },
     "execution_count": 75,
     "metadata": {},
     "output_type": "execute_result"
    }
   ],
   "source": [
    "# Evaluate performance using the accuracy score for the  k-nearest neighbors model\n",
    "accuracy_score(y_test, y_pred_kNN)"
   ]
  },
  {
   "cell_type": "markdown",
   "metadata": {
    "id": "9e2XkWIvAugO"
   },
   "source": [
    "The accuracy scores are slightly lower on the test set compared to the accuracy score on the training set, indicating that the data split methodology mitigates the risk of overfitting. \n",
    "\n",
    "Accuracy is a good metric when the positive class and the negative class are balanced. However, when one of the classes is a majority, as in our case, then a model can achieve a high accuracy by just predicting all observations to be the majority class. However, this is not what we want. In fact, in order to inform an information campaign about vaccination, we are more interested in predicting the minority class, people that are unlikely to take up the vaccine. \n",
    "\n",
    "We can use a confusion matrix to further evaluate the performance of our classification models. The confusion matrix shows the number of respondents known to be in group 0 (unlikely to vaccinate) or 1 (likely to vaccinate) and predicted to be in group 0 or 1, respectively.  \n",
    "\n",
    "The confusion matrix below shows that the logistic model predicts 393 out of the 606 respondents who are unlikely to vaccinate. The model does much better job predicting respondents that are likely to vaccinate, 2066 out of 3331 respondents in the test data set."
   ]
  },
  {
   "cell_type": "code",
   "execution_count": 76,
   "metadata": {
    "colab": {
     "base_uri": "https://localhost:8080/",
     "height": 173
    },
    "executionInfo": {
     "elapsed": 39049,
     "status": "ok",
     "timestamp": 1617187663466,
     "user": {
      "displayName": "Valentin Danchev",
      "photoUrl": "https://lh3.googleusercontent.com/a-/AOh14Gh90YzToc2qd-IrJXNzgu3LRVLxkU3sMg1swbMwzg=s64",
      "userId": "02219535538470165535"
     },
     "user_tz": -60
    },
    "id": "QtyGPzThyNz4",
    "outputId": "8c48e135-103d-4efb-b455-fb7ef7adc0ba"
   },
   "outputs": [
    {
     "data": {
      "text/html": [
       "<div>\n",
       "<style scoped>\n",
       "    .dataframe tbody tr th:only-of-type {\n",
       "        vertical-align: middle;\n",
       "    }\n",
       "\n",
       "    .dataframe tbody tr th {\n",
       "        vertical-align: top;\n",
       "    }\n",
       "\n",
       "    .dataframe thead th {\n",
       "        text-align: right;\n",
       "    }\n",
       "</style>\n",
       "<table border=\"1\" class=\"dataframe\">\n",
       "  <thead>\n",
       "    <tr style=\"text-align: right;\">\n",
       "      <th>Predicted</th>\n",
       "      <th>0.0</th>\n",
       "      <th>1.0</th>\n",
       "      <th>All</th>\n",
       "    </tr>\n",
       "    <tr>\n",
       "      <th>Actual</th>\n",
       "      <th></th>\n",
       "      <th></th>\n",
       "      <th></th>\n",
       "    </tr>\n",
       "  </thead>\n",
       "  <tbody>\n",
       "    <tr>\n",
       "      <th>0.0</th>\n",
       "      <td>393</td>\n",
       "      <td>213</td>\n",
       "      <td>606</td>\n",
       "    </tr>\n",
       "    <tr>\n",
       "      <th>1.0</th>\n",
       "      <td>1265</td>\n",
       "      <td>2066</td>\n",
       "      <td>3331</td>\n",
       "    </tr>\n",
       "    <tr>\n",
       "      <th>All</th>\n",
       "      <td>1658</td>\n",
       "      <td>2279</td>\n",
       "      <td>3937</td>\n",
       "    </tr>\n",
       "  </tbody>\n",
       "</table>\n",
       "</div>"
      ],
      "text/plain": [
       "Predicted   0.0   1.0   All\n",
       "Actual                     \n",
       "0.0         393   213   606\n",
       "1.0        1265  2066  3331\n",
       "All        1658  2279  3937"
      ]
     },
     "execution_count": 76,
     "metadata": {},
     "output_type": "execute_result"
    }
   ],
   "source": [
    "# Confusion matrix for the logistic regression model\n",
    "# plotted via the Pandas crosstab() function\n",
    "\n",
    "pd.crosstab(\n",
    "    y_test.cf_vaxxer,\n",
    "    y_pred_LogReg,\n",
    "    rownames=[\"Actual\"],\n",
    "    colnames=[\"Predicted\"],\n",
    "    margins=True,\n",
    ")"
   ]
  },
  {
   "cell_type": "markdown",
   "metadata": {},
   "source": [
    "What do the numbers in the confusion matrix mean?\n",
    "* True positive - our model correctly predicts the positive class (likely to vaccinate)\n",
    "* True negative - our model correctly predicts the negative class (unlikely to vaccinate)\n",
    "* False positive - our model incorrectly predicts the positive class\n",
    "* False negative - our model incorrectly predicts the negative class"
   ]
  },
  {
   "cell_type": "code",
   "execution_count": 77,
   "metadata": {
    "colab": {
     "base_uri": "https://localhost:8080/"
    },
    "executionInfo": {
     "elapsed": 39049,
     "status": "ok",
     "timestamp": 1617187663467,
     "user": {
      "displayName": "Valentin Danchev",
      "photoUrl": "https://lh3.googleusercontent.com/a-/AOh14Gh90YzToc2qd-IrJXNzgu3LRVLxkU3sMg1swbMwzg=s64",
      "userId": "02219535538470165535"
     },
     "user_tz": -60
    },
    "id": "LkfojoHWG-Gt",
    "outputId": "16ad83cc-8329-428a-d278-4bd09dcc548e"
   },
   "outputs": [
    {
     "data": {
      "text/plain": [
       "array([[ 393,  213],\n",
       "       [1265, 2066]])"
      ]
     },
     "execution_count": 77,
     "metadata": {},
     "output_type": "execute_result"
    }
   ],
   "source": [
    "# Here is another representation of the confusion matrix\n",
    "# using the scikit-learn `confusion_matrix` function\n",
    "from sklearn.metrics import confusion_matrix\n",
    "\n",
    "confusion_matrix(y_test, y_pred_LogReg)"
   ]
  },
  {
   "cell_type": "code",
   "execution_count": 78,
   "metadata": {
    "colab": {
     "base_uri": "https://localhost:8080/"
    },
    "executionInfo": {
     "elapsed": 39048,
     "status": "ok",
     "timestamp": 1617187663467,
     "user": {
      "displayName": "Valentin Danchev",
      "photoUrl": "https://lh3.googleusercontent.com/a-/AOh14Gh90YzToc2qd-IrJXNzgu3LRVLxkU3sMg1swbMwzg=s64",
      "userId": "02219535538470165535"
     },
     "user_tz": -60
    },
    "id": "TfFYg0kFIirX",
    "outputId": "3c663e75-a3ff-464c-cfde-3cd12ed4a5c0"
   },
   "outputs": [
    {
     "name": "stdout",
     "output_type": "stream",
     "text": [
      "True negative =  393 \n",
      "False positive =  213 \n",
      "False negative =  1265 \n",
      "True positive =  2066\n"
     ]
    }
   ],
   "source": [
    "# The function ravel() flattens the confusion matrix\n",
    "tn, fp, fn, tp = confusion_matrix(y_test, y_pred_LogReg).ravel()\n",
    "print(\n",
    "    \"True negative = \",\n",
    "    tn,\n",
    "    \"\\nFalse positive = \",\n",
    "    fp,\n",
    "    \"\\nFalse negative = \",\n",
    "    fn,\n",
    "    \"\\nTrue positive = \",\n",
    "    tp,\n",
    ")"
   ]
  },
  {
   "cell_type": "markdown",
   "metadata": {
    "id": "x5wFkotrgHeF"
   },
   "source": [
    "For the k-nearest neighbors model, the confusion matrix  below shows that the k-NN model predicts 316 out of the 606 respondents who are unlikely to vaccinate (the logistic regression model predicts more accurately those unlikely to vaccinate). The model does not predicts well respondents that are likely to vaccinate, 1670 out of 3331 respondents in the test data set. \n",
    "\n",
    "Recall that we are less interested in predicting the majority class (likely to vaccinate). Instead, we are interested in predicting the minority class (unlikely to vaccinate) so that the results can inform an information campaign among people that are unlikely to vaccinate."
   ]
  },
  {
   "cell_type": "code",
   "execution_count": 79,
   "metadata": {
    "colab": {
     "base_uri": "https://localhost:8080/",
     "height": 173
    },
    "executionInfo": {
     "elapsed": 39047,
     "status": "ok",
     "timestamp": 1617187663468,
     "user": {
      "displayName": "Valentin Danchev",
      "photoUrl": "https://lh3.googleusercontent.com/a-/AOh14Gh90YzToc2qd-IrJXNzgu3LRVLxkU3sMg1swbMwzg=s64",
      "userId": "02219535538470165535"
     },
     "user_tz": -60
    },
    "id": "El0suXRlGSbc",
    "outputId": "b8950c7e-2152-40aa-b385-9b5007d33b8c"
   },
   "outputs": [
    {
     "data": {
      "text/html": [
       "<div>\n",
       "<style scoped>\n",
       "    .dataframe tbody tr th:only-of-type {\n",
       "        vertical-align: middle;\n",
       "    }\n",
       "\n",
       "    .dataframe tbody tr th {\n",
       "        vertical-align: top;\n",
       "    }\n",
       "\n",
       "    .dataframe thead th {\n",
       "        text-align: right;\n",
       "    }\n",
       "</style>\n",
       "<table border=\"1\" class=\"dataframe\">\n",
       "  <thead>\n",
       "    <tr style=\"text-align: right;\">\n",
       "      <th>Predicted</th>\n",
       "      <th>0.0</th>\n",
       "      <th>1.0</th>\n",
       "      <th>All</th>\n",
       "    </tr>\n",
       "    <tr>\n",
       "      <th>Actual</th>\n",
       "      <th></th>\n",
       "      <th></th>\n",
       "      <th></th>\n",
       "    </tr>\n",
       "  </thead>\n",
       "  <tbody>\n",
       "    <tr>\n",
       "      <th>0.0</th>\n",
       "      <td>316</td>\n",
       "      <td>290</td>\n",
       "      <td>606</td>\n",
       "    </tr>\n",
       "    <tr>\n",
       "      <th>1.0</th>\n",
       "      <td>1661</td>\n",
       "      <td>1670</td>\n",
       "      <td>3331</td>\n",
       "    </tr>\n",
       "    <tr>\n",
       "      <th>All</th>\n",
       "      <td>1977</td>\n",
       "      <td>1960</td>\n",
       "      <td>3937</td>\n",
       "    </tr>\n",
       "  </tbody>\n",
       "</table>\n",
       "</div>"
      ],
      "text/plain": [
       "Predicted   0.0   1.0   All\n",
       "Actual                     \n",
       "0.0         316   290   606\n",
       "1.0        1661  1670  3331\n",
       "All        1977  1960  3937"
      ]
     },
     "execution_count": 79,
     "metadata": {},
     "output_type": "execute_result"
    }
   ],
   "source": [
    "# Confusion matrix for the k-nearest neighbors model\n",
    "# plotted via pandas function crosstab\n",
    "pd.crosstab(\n",
    "    y_test.cf_vaxxer,\n",
    "    y_pred_kNN,\n",
    "    rownames=[\"Actual\"],\n",
    "    colnames=[\"Predicted\"],\n",
    "    margins=True,\n",
    ")"
   ]
  },
  {
   "cell_type": "markdown",
   "metadata": {
    "id": "NTjATgsZ-nFQ"
   },
   "source": [
    "Instead of relying on a single metric, it is often helpful (if not confusing) to compare various metrics. You can use the scikit-learn function [`classification_report`](https://scikit-learn.org/stable/modules/generated/sklearn.metrics.classification_report.html) to calculate various classification metrics, including [precision and recall](https://scikit-learn.org/stable/modules/model_evaluation.html#classification-report). "
   ]
  },
  {
   "cell_type": "code",
   "execution_count": 83,
   "metadata": {
    "colab": {
     "base_uri": "https://localhost:8080/"
    },
    "executionInfo": {
     "elapsed": 39046,
     "status": "ok",
     "timestamp": 1617187663468,
     "user": {
      "displayName": "Valentin Danchev",
      "photoUrl": "https://lh3.googleusercontent.com/a-/AOh14Gh90YzToc2qd-IrJXNzgu3LRVLxkU3sMg1swbMwzg=s64",
      "userId": "02219535538470165535"
     },
     "user_tz": -60
    },
    "id": "kIT9MO4xyNkd",
    "outputId": "64f82c11-da47-415a-b960-d2f144d2cb5d"
   },
   "outputs": [
    {
     "name": "stdout",
     "output_type": "stream",
     "text": [
      "              precision    recall  f1-score   support\n",
      "\n",
      "         0.0       0.24      0.65      0.35       606\n",
      "         1.0       0.91      0.62      0.74      3331\n",
      "\n",
      "    accuracy                           0.62      3937\n",
      "   macro avg       0.57      0.63      0.54      3937\n",
      "weighted avg       0.80      0.62      0.68      3937\n",
      "\n"
     ]
    }
   ],
   "source": [
    "from sklearn.metrics import classification_report\n",
    "\n",
    "# Various metrics for the logistic regression model\n",
    "print(classification_report(y_test, y_pred_LogReg))"
   ]
  },
  {
   "cell_type": "code",
   "execution_count": 84,
   "metadata": {
    "colab": {
     "base_uri": "https://localhost:8080/"
    },
    "executionInfo": {
     "elapsed": 39253,
     "status": "ok",
     "timestamp": 1617187663676,
     "user": {
      "displayName": "Valentin Danchev",
      "photoUrl": "https://lh3.googleusercontent.com/a-/AOh14Gh90YzToc2qd-IrJXNzgu3LRVLxkU3sMg1swbMwzg=s64",
      "userId": "02219535538470165535"
     },
     "user_tz": -60
    },
    "id": "g-9uaMyh-Hbo",
    "outputId": "8fa925e4-4a86-4860-eda2-0e1e9bc7ca22"
   },
   "outputs": [
    {
     "name": "stdout",
     "output_type": "stream",
     "text": [
      "              precision    recall  f1-score   support\n",
      "\n",
      "         0.0       0.16      0.52      0.24       606\n",
      "         1.0       0.85      0.50      0.63      3331\n",
      "\n",
      "    accuracy                           0.50      3937\n",
      "   macro avg       0.51      0.51      0.44      3937\n",
      "weighted avg       0.75      0.50      0.57      3937\n",
      "\n"
     ]
    }
   ],
   "source": [
    "# Various metrics for the k-nearest neighbors model\n",
    "print(classification_report(y_test, y_pred_kNN))"
   ]
  },
  {
   "cell_type": "markdown",
   "metadata": {
    "id": "BM9Eo9NQV6xz"
   },
   "source": [
    "Overall, predicting accuracy of approximately 62% and 50% for the two models and the low predictive accuracy of the minority class (unlikely to vaccinate) indicate that the performance of our models is far from optimal. However, the purpose of this lab is not to build a well-performing model but to introduce you to an end-to-end machine learning workflow. \n",
    "\n",
    "Keep in mind that it is not a good research practice to now — after you tested the models on the test data — go back and fine-tune the training models as this will introduce overfitting. A good research practice is to fine-tune and improve your model(s) at the stage of training and cross-validation (not after you tested your model on unseen data). Once you select your best performing model(s) at the cross-validation stage, you test the model using the test data and report the performance scores.\n",
    "\n",
    "As part of your data analysis exercises, you will have another opportunity to build a new machine learning model and evaluate model performance."
   ]
  }
 ],
 "metadata": {
  "colab": {
   "authorship_tag": "ABX9TyPlxuuLKG7suzO1ZfAzBm5+",
   "collapsed_sections": [],
   "name": "prediction_supervised_learning.ipynb",
   "provenance": []
  },
  "kernelspec": {
   "display_name": "Python 3",
   "language": "python",
   "name": "python3"
  },
  "language_info": {
   "codemirror_mode": {
    "name": "ipython",
    "version": 3
   },
   "file_extension": ".py",
   "mimetype": "text/x-python",
   "name": "python",
   "nbconvert_exporter": "python",
   "pygments_lexer": "ipython3",
   "version": "3.8.5"
  }
 },
 "nbformat": 4,
 "nbformat_minor": 4
}
